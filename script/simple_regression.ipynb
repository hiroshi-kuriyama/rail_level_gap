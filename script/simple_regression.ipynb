{
 "cells": [
  {
   "cell_type": "markdown",
   "metadata": {},
   "source": [
    "# simple regression"
   ]
  },
  {
   "cell_type": "code",
   "execution_count": 1,
   "metadata": {},
   "outputs": [],
   "source": [
    "import os\n",
    "import pickle\n",
    "import numpy as np\n",
    "import pandas as pd\n",
    "import datetime\n",
    "import matplotlib.pyplot as plt\n",
    "from sklearn.model_selection import train_test_split, GridSearchCV\n",
    "from sklearn.metrics import mean_absolute_error\n",
    "import lightgbm as lgb\n",
    "from hyperopt import hp, tpe, Trials, fmin\n",
    "import optuna\n",
    "%matplotlib inline\n",
    "# from utils import data_process as dp"
   ]
  },
  {
   "cell_type": "code",
   "execution_count": 2,
   "metadata": {},
   "outputs": [],
   "source": [
    "input_dir = '../input/'\n",
    "working_dir = '../working/'\n",
    "output_dir = '../output/'"
   ]
  },
  {
   "cell_type": "markdown",
   "metadata": {},
   "source": [
    "## Read data"
   ]
  },
  {
   "cell_type": "code",
   "execution_count": 3,
   "metadata": {},
   "outputs": [],
   "source": [
    "sleeper_type_dict = {\n",
    "    1: 'pc',\n",
    "    2: 'wooden',\n",
    "    3: 'junction',\n",
    "    4: 'short',\n",
    "    5: 'synthetic',\n",
    "    6: 'synth_junc',\n",
    "    7: 'symth_short',\n",
    "    8: 'other'\n",
    "}"
   ]
  },
  {
   "cell_type": "code",
   "execution_count": 4,
   "metadata": {},
   "outputs": [],
   "source": [
    "def read_track(line_name='a'):\n",
    "    track_df = pd.read_csv(os.path.join(input_dir, 'track_{}.csv'.format(line_name.upper())))\n",
    "    col_names_track = ['date', 'kilo', 'lev_l', 'lev_r', 'cur_l', 'cur_r', 'cant', 'width', 'speed']\n",
    "    track_df.columns = col_names_track\n",
    "    track_df['date'] = pd.to_datetime(track_df['date'])\n",
    "    track_df['kilo'] = track_df['kilo'].astype('str')\n",
    "    print('track_{line_name} shape: {shape}'.format(line_name=line_name.upper(), shape=track_df.shape))\n",
    "    return track_df"
   ]
  },
  {
   "cell_type": "code",
   "execution_count": 5,
   "metadata": {},
   "outputs": [],
   "source": [
    "abcd = 'b'"
   ]
  },
  {
   "cell_type": "code",
   "execution_count": 6,
   "metadata": {},
   "outputs": [
    {
     "name": "stdout",
     "output_type": "stream",
     "text": [
      "track_B shape: (7815753, 9)\n"
     ]
    }
   ],
   "source": [
    "track = read_track(abcd)"
   ]
  },
  {
   "cell_type": "code",
   "execution_count": 7,
   "metadata": {},
   "outputs": [],
   "source": [
    "# sample_submit = pd.read_csv(os.path.join(input_dir, 'sample_submit.csv'), header=None)\n",
    "index_master = pd.read_csv(os.path.join(input_dir, 'index_master.csv'))\n",
    "index_master.columns = ['id', 'line_name', 'date', 'kilo']\n",
    "index_master['date'] = pd.to_datetime(index_master['date'])\n",
    "index_master['kilo'] = index_master['kilo'].astype('str')"
   ]
  },
  {
   "cell_type": "markdown",
   "metadata": {},
   "source": [
    "## Data Processing"
   ]
  },
  {
   "cell_type": "code",
   "execution_count": 8,
   "metadata": {},
   "outputs": [],
   "source": [
    "# Drop outliers of diff to exclude maintenance effect (out of 2 sigma for each kilo)\n",
    "# If line_name is \"A\", also drop outliers of lev_l\n",
    "def outlier_filter(track):\n",
    "    lev_pv = track.pivot(index='date', columns='kilo', values='lev_l')\n",
    "    lev_pv.columns = lev_pv.columns.astype('str')\n",
    "    lev_pv_diff = lev_pv.diff()\n",
    "\n",
    "    lev_pv_diff_norm = (lev_pv_diff - lev_pv_diff.mean()) / lev_pv_diff.std()\n",
    "    lev_pv_diff_norm_isnot_outlier = lev_pv_diff_norm.abs() < 2\n",
    "    if abcd=='a':\n",
    "        lev_pv_norm = (lev_pv - lev_pv.mean()) / lev_pv.std()\n",
    "        lev_pv_norm_isnot_outlier = lev_pv_norm.abs() < 2\n",
    "        lev_pv_diff_norm_isnot_outlier *= lev_pv_norm_isnot_outlier\n",
    "    lev_pv_filtered_tmp = lev_pv * lev_pv_diff_norm_isnot_outlier\n",
    "    lev_pv_filtered = lev_pv_filtered_tmp.replace(0.0, np.nan)\n",
    "    lev_filtered = pd.melt(lev_pv_filtered.reset_index(), id_vars='date', value_name='lev_l')  \n",
    "    track_new = lev_filtered.merge(track.drop('lev_l', axis=1), how='left', on=['date', 'kilo'])\n",
    "    return track_new"
   ]
  },
  {
   "cell_type": "code",
   "execution_count": 9,
   "metadata": {},
   "outputs": [
    {
     "name": "stderr",
     "output_type": "stream",
     "text": [
      "/home/kuriyama/miniconda3/envs/rail_level_gap/lib/python3.6/site-packages/pandas/core/nanops.py:358: RuntimeWarning: divide by zero encountered in true_divide\n",
      "  the_mean = the_sum / count\n"
     ]
    }
   ],
   "source": [
    "track = outlier_filter(track)"
   ]
  },
  {
   "cell_type": "code",
   "execution_count": 10,
   "metadata": {},
   "outputs": [],
   "source": [
    "def calc_diff_mean(track_tgt_prd):\n",
    "    track_tgt_prd_pv = track_tgt_prd.pivot(index='date', columns='kilo', values='lev_l')\n",
    "    track_tgt_prd_pv.columns = track_tgt_prd_pv.columns.astype('str')\n",
    "    track_tgt_prd_pv_diff = track_tgt_prd_pv.diff()\n",
    "    return track_tgt_prd_pv_diff.mean()"
   ]
  },
  {
   "cell_type": "code",
   "execution_count": 11,
   "metadata": {},
   "outputs": [],
   "source": [
    "track_tgt_diff_mean = calc_diff_mean(track.query('date<\"2017-07-01\"'))"
   ]
  },
  {
   "cell_type": "code",
   "execution_count": 12,
   "metadata": {},
   "outputs": [
    {
     "data": {
      "text/plain": [
       "<matplotlib.axes._subplots.AxesSubplot at 0x7f537dda6208>"
      ]
     },
     "execution_count": 12,
     "metadata": {},
     "output_type": "execute_result"
    },
    {
     "data": {
      "image/png": "[encoded data removed]",
      "text/plain": [
       "<Figure size 432x288 with 1 Axes>"
      ]
     },
     "metadata": {
      "needs_background": "light"
     },
     "output_type": "display_data"
    }
   ],
   "source": [
    "track.query('date<\"2017-07-01\"').pivot(index='date', columns='kilo', values='lev_l').count().hist(bins=30)"
   ]
  },
  {
   "cell_type": "markdown",
   "metadata": {},
   "source": [
    "### rolling average, diff"
   ]
  },
  {
   "cell_type": "code",
   "execution_count": 13,
   "metadata": {},
   "outputs": [],
   "source": [
    "# rolling average params\n",
    "roll_params = {\n",
    "    'A': {'window': 21, 'min_periods': 14},\n",
    "    'B': {'window': 14, 'min_periods': 7},\n",
    "    'C': {'window': 14, 'min_periods': 7},\n",
    "    'D': {'window': 14, 'min_periods': 7}\n",
    "}"
   ]
  },
  {
   "cell_type": "code",
   "execution_count": 14,
   "metadata": {},
   "outputs": [],
   "source": [
    "def roll_pv(track, abcd):\n",
    "    # pivot: row is date, col is kilo\n",
    "    lev_pv = track.pivot(index='date', columns='kilo', values='lev_l')\n",
    "    lev_pv.columns = lev_pv.columns.astype('str')\n",
    "    # rolling average\n",
    "    lev_pv_ra = lev_pv.rolling(**roll_params[abcd.upper()], center=False, axis=0).mean()\n",
    "    return lev_pv_ra"
   ]
  },
  {
   "cell_type": "code",
   "execution_count": 15,
   "metadata": {},
   "outputs": [],
   "source": [
    "lev_pv_ra = roll_pv(track, abcd)"
   ]
  },
  {
   "cell_type": "markdown",
   "metadata": {},
   "source": [
    "上で計算した差分の平均を一日ごとに加算していきたいが、それぞれのキロによって最後の観測日が異なるので加算する回数もそれぞれ変えなければならない\n",
    "まず、それぞれのキロでSeriseを作りNULLの行を削除することで最後の観測日を入手。その日付から4月1日までの日数を計算。\n",
    "※最終観測日が異常に古いORそもそも一回の観測されていないようなキロについては隣接するキロの数値をそのままコピーする"
   ]
  },
  {
   "cell_type": "code",
   "execution_count": 16,
   "metadata": {},
   "outputs": [],
   "source": [
    "index_master_abcd = index_master.query('line_name==\"{}\"'.format(abcd.upper()))\n",
    "tgt_date_s = index_master_abcd.query('kilo==\"10000\"')['date']\n",
    "pred_pv = pd.DataFrame(data=np.nan, index=tgt_date_s, columns=lev_pv_ra.columns)"
   ]
  },
  {
   "cell_type": "code",
   "execution_count": 17,
   "metadata": {},
   "outputs": [],
   "source": [
    "def pred_by_col(track_kilo_i):\n",
    "    # need adaquate samples\n",
    "    if track_kilo_i.count() > 40:\n",
    "        kilo_i = track_kilo_i.name\n",
    "        last_date_lev_l_kilo_i = track_kilo_i.dropna().tail(1)\n",
    "        # skip when the last date is too old\n",
    "        if last_date_lev_l_kilo_i.index > datetime.datetime(2018, 3, 1):\n",
    "            base_date_cnt = np.array(range(91)) + 1\n",
    "            add_date_cnt = datetime.datetime(2018, 3, 31) - last_date_lev_l_kilo_i.index\n",
    "            date_cnt = base_date_cnt + add_date_cnt.days.tolist()\n",
    "            pred_arr = date_cnt * track_tgt_diff_mean[str(kilo_i)]\n",
    "            pred_pv[str(kilo_i)] = pred_arr\n",
    "            last_date_values.append(last_date_lev_l_kilo_i.values)\n",
    "            diff_means.append(track_tgt_diff_mean[str(kilo_i)])"
   ]
  },
  {
   "cell_type": "code",
   "execution_count": 18,
   "metadata": {},
   "outputs": [],
   "source": [
    "last_date_values = []\n",
    "diff_means = []"
   ]
  },
  {
   "cell_type": "code",
   "execution_count": 19,
   "metadata": {},
   "outputs": [
    {
     "name": "stdout",
     "output_type": "stream",
     "text": [
      "\n"
     ]
    }
   ],
   "source": [
    "lev_pv_ra.apply(pred_by_col)\n",
    "print('')"
   ]
  },
  {
   "cell_type": "code",
   "execution_count": 20,
   "metadata": {},
   "outputs": [
    {
     "data": {
      "text/plain": [
       "14863"
      ]
     },
     "execution_count": 20,
     "metadata": {},
     "output_type": "execute_result"
    }
   ],
   "source": [
    "len(last_date_values)"
   ]
  },
  {
   "cell_type": "code",
   "execution_count": 21,
   "metadata": {},
   "outputs": [
    {
     "data": {
      "text/plain": [
       "array([[<matplotlib.axes._subplots.AxesSubplot object at 0x7f537f20a320>]],\n",
       "      dtype=object)"
      ]
     },
     "execution_count": 21,
     "metadata": {},
     "output_type": "execute_result"
    },
    {
     "data": {
      "image/png": "[encoded data removed]",
      "text/plain": [
       "<Figure size 432x288 with 1 Axes>"
      ]
     },
     "metadata": {
      "needs_background": "light"
     },
     "output_type": "display_data"
    }
   ],
   "source": [
    "pd.DataFrame(last_date_values).hist(bins=30)"
   ]
  },
  {
   "cell_type": "code",
   "execution_count": 22,
   "metadata": {},
   "outputs": [
    {
     "data": {
      "text/plain": [
       "array([[<matplotlib.axes._subplots.AxesSubplot object at 0x7f537d899ac8>]],\n",
       "      dtype=object)"
      ]
     },
     "execution_count": 22,
     "metadata": {},
     "output_type": "execute_result"
    },
    {
     "data": {
      "image/png": "[encoded data removed]",
      "text/plain": [
       "<Figure size 432x288 with 1 Axes>"
      ]
     },
     "metadata": {
      "needs_background": "light"
     },
     "output_type": "display_data"
    }
   ],
   "source": [
    "pd.DataFrame(diff_means).hist(bins=30)"
   ]
  },
  {
   "cell_type": "markdown",
   "metadata": {},
   "source": [
    "予測最終日の値が異常値な場合はそのキロを削除する  \n",
    "trackのlev_lの5σの外側の値だった場合に異常値とする"
   ]
  },
  {
   "cell_type": "code",
   "execution_count": 23,
   "metadata": {},
   "outputs": [],
   "source": [
    "track['lev_l'].std()\n",
    "lev_l_uplim = track['lev_l'].mean() + track['lev_l'].std() * 5\n",
    "lev_l_lowlim = track['lev_l'].mean() - track['lev_l'].std() * 5"
   ]
  },
  {
   "cell_type": "code",
   "execution_count": 24,
   "metadata": {},
   "outputs": [],
   "source": [
    "is_in_sigma = (pred_pv.tail(1) < lev_l_uplim) & (pred_pv.tail(1) > lev_l_lowlim)\n",
    "is_out_sigma = ~is_in_sigma\n",
    "is_out_sigma_cols = pred_pv.columns[is_out_sigma.values.reshape(-1)]\n",
    "pred_pv[is_out_sigma_cols] = np.nan"
   ]
  },
  {
   "cell_type": "code",
   "execution_count": 25,
   "metadata": {},
   "outputs": [
    {
     "data": {
      "text/plain": [
       "7194"
      ]
     },
     "execution_count": 25,
     "metadata": {},
     "output_type": "execute_result"
    }
   ],
   "source": [
    "pred_pv.head(1).isnull().sum().sum()"
   ]
  },
  {
   "cell_type": "code",
   "execution_count": 26,
   "metadata": {},
   "outputs": [
    {
     "data": {
      "text/plain": [
       "(91, 21531)"
      ]
     },
     "execution_count": 26,
     "metadata": {},
     "output_type": "execute_result"
    }
   ],
   "source": [
    "pred_pv.shape"
   ]
  },
  {
   "cell_type": "code",
   "execution_count": 27,
   "metadata": {},
   "outputs": [
    {
     "data": {
      "text/plain": [
       "10.506762077238223"
      ]
     },
     "execution_count": 27,
     "metadata": {},
     "output_type": "execute_result"
    }
   ],
   "source": [
    "lev_l_uplim"
   ]
  },
  {
   "cell_type": "code",
   "execution_count": 28,
   "metadata": {},
   "outputs": [],
   "source": [
    "pred_pv_filled = pred_pv.copy()\n",
    "for i in range(100):\n",
    "    pred_pv_filled = pred_pv_filled.fillna(method='ffill', axis=1, limit=1)\n",
    "    pred_pv_filled = pred_pv_filled.fillna(method='bfill', axis=1, limit=1)\n",
    "    \n",
    "pred_pv_filled = pred_pv_filled.fillna(method='ffill', axis=1)\n",
    "pred_pv_filled = pred_pv_filled.fillna(method='bfill', axis=1)"
   ]
  },
  {
   "cell_type": "code",
   "execution_count": 29,
   "metadata": {},
   "outputs": [],
   "source": [
    "pred_filled = pd.melt(pred_pv_filled.reset_index(), id_vars='date', value_name='lev_l_pred')  "
   ]
  },
  {
   "cell_type": "code",
   "execution_count": 30,
   "metadata": {},
   "outputs": [],
   "source": [
    "pred_df = index_master_abcd.merge(pred_filled, how='left', on=['date', 'kilo'])\n",
    "pred_df = pred_df.rename(columns={'lev_l': 'lev_l_pred'})\n",
    "pred_df = pred_df.drop('id', axis=1)"
   ]
  },
  {
   "cell_type": "code",
   "execution_count": 31,
   "metadata": {},
   "outputs": [],
   "source": [
    "pred_df.to_csv(os.path.join(output_dir, 'simple_regression_20190106_{}.csv'.format(abcd.upper())), index=False)"
   ]
  },
  {
   "cell_type": "code",
   "execution_count": 32,
   "metadata": {},
   "outputs": [
    {
     "data": {
      "text/plain": [
       "<matplotlib.axes._subplots.AxesSubplot at 0x7f537cf44128>"
      ]
     },
     "execution_count": 32,
     "metadata": {},
     "output_type": "execute_result"
    },
    {
     "data": {
      "image/png": "[encoded data removed]",
      "text/plain": [
       "<Figure size 432x288 with 1 Axes>"
      ]
     },
     "metadata": {
      "needs_background": "light"
     },
     "output_type": "display_data"
    }
   ],
   "source": [
    "pred_df['lev_l_pred'].hist(bins=50)"
   ]
  },
  {
   "cell_type": "code",
   "execution_count": 33,
   "metadata": {},
   "outputs": [
    {
     "data": {
      "text/plain": [
       "<matplotlib.axes._subplots.AxesSubplot at 0x7f537d8ba630>"
      ]
     },
     "execution_count": 33,
     "metadata": {},
     "output_type": "execute_result"
    },
    {
     "data": {
      "image/png": "[encoded data removed]",
      "text/plain": [
       "<Figure size 432x288 with 1 Axes>"
      ]
     },
     "metadata": {
      "needs_background": "light"
     },
     "output_type": "display_data"
    }
   ],
   "source": [
    "track['lev_l'].hist(bins=50)"
   ]
  },
  {
   "cell_type": "code",
   "execution_count": null,
   "metadata": {},
   "outputs": [],
   "source": []
  }
 ],
 "metadata": {
  "kernelspec": {
   "display_name": "Python 3",
   "language": "python",
   "name": "python3"
  },
  "language_info": {
   "codemirror_mode": {
    "name": "ipython",
    "version": 3
   },
   "file_extension": ".py",
   "mimetype": "text/x-python",
   "name": "python",
   "nbconvert_exporter": "python",
   "pygments_lexer": "ipython3",
   "version": "3.6.7"
  }
 },
 "nbformat": 4,
 "nbformat_minor": 2
}
