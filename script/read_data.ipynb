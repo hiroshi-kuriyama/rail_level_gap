{
 "cells": [
  {
   "cell_type": "code",
   "execution_count": 15,
   "metadata": {},
   "outputs": [],
   "source": [
    "import os\n",
    "import numpy as np\n",
    "import pandas as pd\n",
    "import datetime\n",
    "import matplotlib.pyplot as plt\n",
    "%matplotlib inline\n"
   ]
  },
  {
   "cell_type": "code",
   "execution_count": 3,
   "metadata": {},
   "outputs": [],
   "source": [
    "input_dir = '../input/'\n",
    "working_dir = '../working/'\n",
    "output_dir = '../output/'"
   ]
  },
  {
   "cell_type": "markdown",
   "metadata": {},
   "source": [
    "# Read Track data"
   ]
  },
  {
   "cell_type": "code",
   "execution_count": 48,
   "metadata": {},
   "outputs": [],
   "source": [
    "def read_track(line_name='a'):\n",
    "    track_df = pd.read_csv(os.path.join(input_dir, 'track_{}.csv'.format(line_name.upper())))\n",
    "    col_names_track = ['date', 'kilo', 'lev_l', 'lev_r', 'cur_l', 'cur_r', 'cant', 'width', 'speed']\n",
    "    track_df.columns = col_names_track\n",
    "    track_df['date'] = pd.to_datetime(track_df['date'])\n",
    "    print('shape: {}'.format(track_df.shape))\n",
    "    return track_df"
   ]
  },
  {
   "cell_type": "code",
   "execution_count": 49,
   "metadata": {},
   "outputs": [
    {
     "name": "stdout",
     "output_type": "stream",
     "text": [
      "shape: (10185690, 9)\n"
     ]
    },
    {
     "data": {
      "text/html": [
       "<div>\n",
       "<style scoped>\n",
       "    .dataframe tbody tr th:only-of-type {\n",
       "        vertical-align: middle;\n",
       "    }\n",
       "\n",
       "    .dataframe tbody tr th {\n",
       "        vertical-align: top;\n",
       "    }\n",
       "\n",
       "    .dataframe thead th {\n",
       "        text-align: right;\n",
       "    }\n",
       "</style>\n",
       "<table border=\"1\" class=\"dataframe\">\n",
       "  <thead>\n",
       "    <tr style=\"text-align: right;\">\n",
       "      <th></th>\n",
       "      <th>date</th>\n",
       "      <th>kilo</th>\n",
       "      <th>lev_l</th>\n",
       "      <th>lev_r</th>\n",
       "      <th>cur_l</th>\n",
       "      <th>cur_r</th>\n",
       "      <th>cant</th>\n",
       "      <th>width</th>\n",
       "      <th>speed</th>\n",
       "    </tr>\n",
       "  </thead>\n",
       "  <tbody>\n",
       "    <tr>\n",
       "      <th>0</th>\n",
       "      <td>2017-04-01</td>\n",
       "      <td>10000</td>\n",
       "      <td>-1.16</td>\n",
       "      <td>-0.23</td>\n",
       "      <td>1.20</td>\n",
       "      <td>1.20</td>\n",
       "      <td>0.83</td>\n",
       "      <td>3.89</td>\n",
       "      <td>84.0</td>\n",
       "    </tr>\n",
       "    <tr>\n",
       "      <th>1</th>\n",
       "      <td>2017-04-01</td>\n",
       "      <td>10001</td>\n",
       "      <td>-1.17</td>\n",
       "      <td>-0.30</td>\n",
       "      <td>1.88</td>\n",
       "      <td>1.88</td>\n",
       "      <td>0.67</td>\n",
       "      <td>4.63</td>\n",
       "      <td>84.0</td>\n",
       "    </tr>\n",
       "    <tr>\n",
       "      <th>2</th>\n",
       "      <td>2017-04-01</td>\n",
       "      <td>10002</td>\n",
       "      <td>-1.09</td>\n",
       "      <td>-0.19</td>\n",
       "      <td>2.30</td>\n",
       "      <td>2.30</td>\n",
       "      <td>0.50</td>\n",
       "      <td>5.33</td>\n",
       "      <td>84.0</td>\n",
       "    </tr>\n",
       "    <tr>\n",
       "      <th>3</th>\n",
       "      <td>2017-04-01</td>\n",
       "      <td>10003</td>\n",
       "      <td>-0.64</td>\n",
       "      <td>0.20</td>\n",
       "      <td>2.28</td>\n",
       "      <td>2.28</td>\n",
       "      <td>0.46</td>\n",
       "      <td>5.90</td>\n",
       "      <td>84.0</td>\n",
       "    </tr>\n",
       "    <tr>\n",
       "      <th>4</th>\n",
       "      <td>2017-04-01</td>\n",
       "      <td>10004</td>\n",
       "      <td>0.47</td>\n",
       "      <td>0.89</td>\n",
       "      <td>1.74</td>\n",
       "      <td>1.74</td>\n",
       "      <td>0.62</td>\n",
       "      <td>6.38</td>\n",
       "      <td>84.5</td>\n",
       "    </tr>\n",
       "  </tbody>\n",
       "</table>\n",
       "</div>"
      ],
      "text/plain": [
       "        date   kilo  lev_l  lev_r  cur_l  cur_r  cant  width  speed\n",
       "0 2017-04-01  10000  -1.16  -0.23   1.20   1.20  0.83   3.89   84.0\n",
       "1 2017-04-01  10001  -1.17  -0.30   1.88   1.88  0.67   4.63   84.0\n",
       "2 2017-04-01  10002  -1.09  -0.19   2.30   2.30  0.50   5.33   84.0\n",
       "3 2017-04-01  10003  -0.64   0.20   2.28   2.28  0.46   5.90   84.0\n",
       "4 2017-04-01  10004   0.47   0.89   1.74   1.74  0.62   6.38   84.5"
      ]
     },
     "execution_count": 49,
     "metadata": {},
     "output_type": "execute_result"
    }
   ],
   "source": [
    "track_a = read_track('a')\n",
    "track_a.head()"
   ]
  },
  {
   "cell_type": "code",
   "execution_count": 17,
   "metadata": {},
   "outputs": [
    {
     "name": "stdout",
     "output_type": "stream",
     "text": [
      "<class 'pandas.core.frame.DataFrame'>\n",
      "RangeIndex: 10185690 entries, 0 to 10185689\n",
      "Data columns (total 9 columns):\n",
      "date     datetime64[ns]\n",
      "kilo     int64\n",
      "lev_l    float64\n",
      "lev_r    float64\n",
      "cur_l    float64\n",
      "cur_r    float64\n",
      "cant     float64\n",
      "width    float64\n",
      "speed    float64\n",
      "dtypes: datetime64[ns](1), float64(7), int64(1)\n",
      "memory usage: 699.4 MB\n"
     ]
    }
   ],
   "source": [
    "track_a.info()"
   ]
  },
  {
   "cell_type": "code",
   "execution_count": 18,
   "metadata": {},
   "outputs": [
    {
     "data": {
      "text/html": [
       "<div>\n",
       "<style scoped>\n",
       "    .dataframe tbody tr th:only-of-type {\n",
       "        vertical-align: middle;\n",
       "    }\n",
       "\n",
       "    .dataframe tbody tr th {\n",
       "        vertical-align: top;\n",
       "    }\n",
       "\n",
       "    .dataframe thead th {\n",
       "        text-align: right;\n",
       "    }\n",
       "</style>\n",
       "<table border=\"1\" class=\"dataframe\">\n",
       "  <thead>\n",
       "    <tr style=\"text-align: right;\">\n",
       "      <th></th>\n",
       "      <th>kilo</th>\n",
       "      <th>lev_l</th>\n",
       "      <th>lev_r</th>\n",
       "      <th>cur_l</th>\n",
       "      <th>cur_r</th>\n",
       "      <th>cant</th>\n",
       "      <th>width</th>\n",
       "      <th>speed</th>\n",
       "    </tr>\n",
       "  </thead>\n",
       "  <tbody>\n",
       "    <tr>\n",
       "      <th>count</th>\n",
       "      <td>1.018569e+07</td>\n",
       "      <td>7.470943e+06</td>\n",
       "      <td>7.471012e+06</td>\n",
       "      <td>7.446377e+06</td>\n",
       "      <td>7.446377e+06</td>\n",
       "      <td>7.446377e+06</td>\n",
       "      <td>7.446377e+06</td>\n",
       "      <td>7.972145e+06</td>\n",
       "    </tr>\n",
       "    <tr>\n",
       "      <th>mean</th>\n",
       "      <td>2.395250e+04</td>\n",
       "      <td>1.567537e-03</td>\n",
       "      <td>2.756957e-03</td>\n",
       "      <td>5.495526e-03</td>\n",
       "      <td>-2.827986e-03</td>\n",
       "      <td>-4.965998e-03</td>\n",
       "      <td>-1.879153e-02</td>\n",
       "      <td>7.501464e+01</td>\n",
       "    </tr>\n",
       "    <tr>\n",
       "      <th>std</th>\n",
       "      <td>8.055769e+03</td>\n",
       "      <td>1.773254e+00</td>\n",
       "      <td>1.825382e+00</td>\n",
       "      <td>1.239223e+00</td>\n",
       "      <td>1.270356e+00</td>\n",
       "      <td>1.251522e+00</td>\n",
       "      <td>1.499319e+00</td>\n",
       "      <td>1.951427e+01</td>\n",
       "    </tr>\n",
       "    <tr>\n",
       "      <th>min</th>\n",
       "      <td>1.000000e+04</td>\n",
       "      <td>-2.607000e+01</td>\n",
       "      <td>-2.559000e+01</td>\n",
       "      <td>-8.474000e+01</td>\n",
       "      <td>-8.644000e+01</td>\n",
       "      <td>-1.815000e+01</td>\n",
       "      <td>-3.843000e+01</td>\n",
       "      <td>0.000000e+00</td>\n",
       "    </tr>\n",
       "    <tr>\n",
       "      <th>25%</th>\n",
       "      <td>1.697600e+04</td>\n",
       "      <td>-9.400000e-01</td>\n",
       "      <td>-9.700000e-01</td>\n",
       "      <td>-6.100000e-01</td>\n",
       "      <td>-6.300000e-01</td>\n",
       "      <td>-5.500000e-01</td>\n",
       "      <td>-6.400000e-01</td>\n",
       "      <td>6.600000e+01</td>\n",
       "    </tr>\n",
       "    <tr>\n",
       "      <th>50%</th>\n",
       "      <td>2.395250e+04</td>\n",
       "      <td>1.000000e-02</td>\n",
       "      <td>1.000000e-02</td>\n",
       "      <td>3.000000e-02</td>\n",
       "      <td>2.000000e-02</td>\n",
       "      <td>-1.000000e-02</td>\n",
       "      <td>-1.000000e-02</td>\n",
       "      <td>8.100000e+01</td>\n",
       "    </tr>\n",
       "    <tr>\n",
       "      <th>75%</th>\n",
       "      <td>3.092900e+04</td>\n",
       "      <td>9.400000e-01</td>\n",
       "      <td>9.800000e-01</td>\n",
       "      <td>6.500000e-01</td>\n",
       "      <td>6.600000e-01</td>\n",
       "      <td>5.500000e-01</td>\n",
       "      <td>6.200000e-01</td>\n",
       "      <td>8.900000e+01</td>\n",
       "    </tr>\n",
       "    <tr>\n",
       "      <th>max</th>\n",
       "      <td>3.790500e+04</td>\n",
       "      <td>9.388000e+01</td>\n",
       "      <td>9.358000e+01</td>\n",
       "      <td>1.486700e+02</td>\n",
       "      <td>1.462800e+02</td>\n",
       "      <td>1.249000e+01</td>\n",
       "      <td>2.478000e+01</td>\n",
       "      <td>1.020000e+02</td>\n",
       "    </tr>\n",
       "  </tbody>\n",
       "</table>\n",
       "</div>"
      ],
      "text/plain": [
       "               kilo         lev_l         lev_r         cur_l         cur_r  \\\n",
       "count  1.018569e+07  7.470943e+06  7.471012e+06  7.446377e+06  7.446377e+06   \n",
       "mean   2.395250e+04  1.567537e-03  2.756957e-03  5.495526e-03 -2.827986e-03   \n",
       "std    8.055769e+03  1.773254e+00  1.825382e+00  1.239223e+00  1.270356e+00   \n",
       "min    1.000000e+04 -2.607000e+01 -2.559000e+01 -8.474000e+01 -8.644000e+01   \n",
       "25%    1.697600e+04 -9.400000e-01 -9.700000e-01 -6.100000e-01 -6.300000e-01   \n",
       "50%    2.395250e+04  1.000000e-02  1.000000e-02  3.000000e-02  2.000000e-02   \n",
       "75%    3.092900e+04  9.400000e-01  9.800000e-01  6.500000e-01  6.600000e-01   \n",
       "max    3.790500e+04  9.388000e+01  9.358000e+01  1.486700e+02  1.462800e+02   \n",
       "\n",
       "               cant         width         speed  \n",
       "count  7.446377e+06  7.446377e+06  7.972145e+06  \n",
       "mean  -4.965998e-03 -1.879153e-02  7.501464e+01  \n",
       "std    1.251522e+00  1.499319e+00  1.951427e+01  \n",
       "min   -1.815000e+01 -3.843000e+01  0.000000e+00  \n",
       "25%   -5.500000e-01 -6.400000e-01  6.600000e+01  \n",
       "50%   -1.000000e-02 -1.000000e-02  8.100000e+01  \n",
       "75%    5.500000e-01  6.200000e-01  8.900000e+01  \n",
       "max    1.249000e+01  2.478000e+01  1.020000e+02  "
      ]
     },
     "execution_count": 18,
     "metadata": {},
     "output_type": "execute_result"
    }
   ],
   "source": [
    "track_a.describe()"
   ]
  },
  {
   "cell_type": "code",
   "execution_count": 54,
   "metadata": {},
   "outputs": [
    {
     "data": {
      "text/plain": [
       "date           0\n",
       "kilo           0\n",
       "lev_l    2714747\n",
       "lev_r    2714678\n",
       "cur_l    2739313\n",
       "cur_r    2739313\n",
       "cant     2739313\n",
       "width    2739313\n",
       "speed    2213545\n",
       "dtype: int64"
      ]
     },
     "execution_count": 54,
     "metadata": {},
     "output_type": "execute_result"
    }
   ],
   "source": [
    "track_a.isnull().sum()"
   ]
  },
  {
   "cell_type": "code",
   "execution_count": 33,
   "metadata": {},
   "outputs": [],
   "source": [
    "track_a_10000_apl = track_a.query('kilo==10000&date<\"2017-10-01\"')"
   ]
  },
  {
   "cell_type": "code",
   "execution_count": 34,
   "metadata": {},
   "outputs": [
    {
     "data": {
      "text/plain": [
       "<matplotlib.collections.PathCollection at 0x7faa4d9fc588>"
      ]
     },
     "execution_count": 34,
     "metadata": {},
     "output_type": "execute_result"
    },
    {
     "data": {
      "image/png": "[encoded data removed]",
      "text/plain": [
       "<Figure size 432x288 with 1 Axes>"
      ]
     },
     "metadata": {
      "needs_background": "light"
     },
     "output_type": "display_data"
    }
   ],
   "source": [
    "fig, ax = plt.subplots()\n",
    "ax.scatter(track_a_10000_apl['date'].values, track_a_10000_apl['lev_l'])"
   ]
  },
  {
   "cell_type": "markdown",
   "metadata": {},
   "source": [
    "# Read Equipment data"
   ]
  },
  {
   "cell_type": "code",
   "execution_count": 50,
   "metadata": {},
   "outputs": [],
   "source": [
    "def read_equ(line_name='a'):\n",
    "    equ_df = pd.read_csv(os.path.join(input_dir, 'equipment_{}.csv'.format(line_name.upper())))\n",
    "    col_names_equ = ['kilo', 'is_ballast', 'is_long', 'sleeper_type', 'is_bridge', 'is_crossing', 'gross_ton', 'radius', 'is_unreliable']\n",
    "    equ_df.columns = col_names_equ\n",
    "    print('shape: {}'.format(equ_df.shape))\n",
    "    return equ_df"
   ]
  },
  {
   "cell_type": "code",
   "execution_count": 51,
   "metadata": {},
   "outputs": [
    {
     "name": "stdout",
     "output_type": "stream",
     "text": [
      "shape: (27906, 9)\n"
     ]
    },
    {
     "data": {
      "text/html": [
       "<div>\n",
       "<style scoped>\n",
       "    .dataframe tbody tr th:only-of-type {\n",
       "        vertical-align: middle;\n",
       "    }\n",
       "\n",
       "    .dataframe tbody tr th {\n",
       "        vertical-align: top;\n",
       "    }\n",
       "\n",
       "    .dataframe thead th {\n",
       "        text-align: right;\n",
       "    }\n",
       "</style>\n",
       "<table border=\"1\" class=\"dataframe\">\n",
       "  <thead>\n",
       "    <tr style=\"text-align: right;\">\n",
       "      <th></th>\n",
       "      <th>kilo</th>\n",
       "      <th>is_ballast</th>\n",
       "      <th>is_long</th>\n",
       "      <th>sleeper_type</th>\n",
       "      <th>is_bridge</th>\n",
       "      <th>is_crossing</th>\n",
       "      <th>gross_ton</th>\n",
       "      <th>radius</th>\n",
       "      <th>is_unreliable</th>\n",
       "    </tr>\n",
       "  </thead>\n",
       "  <tbody>\n",
       "    <tr>\n",
       "      <th>0</th>\n",
       "      <td>10000</td>\n",
       "      <td>1</td>\n",
       "      <td>1</td>\n",
       "      <td>3</td>\n",
       "      <td>0</td>\n",
       "      <td>0</td>\n",
       "      <td>13.607</td>\n",
       "      <td>0</td>\n",
       "      <td>1</td>\n",
       "    </tr>\n",
       "    <tr>\n",
       "      <th>1</th>\n",
       "      <td>10001</td>\n",
       "      <td>1</td>\n",
       "      <td>1</td>\n",
       "      <td>3</td>\n",
       "      <td>0</td>\n",
       "      <td>0</td>\n",
       "      <td>13.607</td>\n",
       "      <td>0</td>\n",
       "      <td>1</td>\n",
       "    </tr>\n",
       "    <tr>\n",
       "      <th>2</th>\n",
       "      <td>10002</td>\n",
       "      <td>1</td>\n",
       "      <td>1</td>\n",
       "      <td>3</td>\n",
       "      <td>0</td>\n",
       "      <td>0</td>\n",
       "      <td>13.607</td>\n",
       "      <td>0</td>\n",
       "      <td>1</td>\n",
       "    </tr>\n",
       "    <tr>\n",
       "      <th>3</th>\n",
       "      <td>10003</td>\n",
       "      <td>1</td>\n",
       "      <td>1</td>\n",
       "      <td>3</td>\n",
       "      <td>0</td>\n",
       "      <td>0</td>\n",
       "      <td>13.607</td>\n",
       "      <td>0</td>\n",
       "      <td>1</td>\n",
       "    </tr>\n",
       "    <tr>\n",
       "      <th>4</th>\n",
       "      <td>10004</td>\n",
       "      <td>1</td>\n",
       "      <td>1</td>\n",
       "      <td>1</td>\n",
       "      <td>0</td>\n",
       "      <td>0</td>\n",
       "      <td>13.607</td>\n",
       "      <td>0</td>\n",
       "      <td>1</td>\n",
       "    </tr>\n",
       "  </tbody>\n",
       "</table>\n",
       "</div>"
      ],
      "text/plain": [
       "    kilo  is_ballast  is_long  sleeper_type  is_bridge  is_crossing  \\\n",
       "0  10000           1        1             3          0            0   \n",
       "1  10001           1        1             3          0            0   \n",
       "2  10002           1        1             3          0            0   \n",
       "3  10003           1        1             3          0            0   \n",
       "4  10004           1        1             1          0            0   \n",
       "\n",
       "   gross_ton  radius  is_unreliable  \n",
       "0     13.607       0              1  \n",
       "1     13.607       0              1  \n",
       "2     13.607       0              1  \n",
       "3     13.607       0              1  \n",
       "4     13.607       0              1  "
      ]
     },
     "execution_count": 51,
     "metadata": {},
     "output_type": "execute_result"
    }
   ],
   "source": [
    "equ_a = read_equ('a')\n",
    "equ_a.head()"
   ]
  },
  {
   "cell_type": "code",
   "execution_count": 53,
   "metadata": {},
   "outputs": [
    {
     "name": "stdout",
     "output_type": "stream",
     "text": [
      "<class 'pandas.core.frame.DataFrame'>\n",
      "RangeIndex: 27906 entries, 0 to 27905\n",
      "Data columns (total 9 columns):\n",
      "kilo             27906 non-null int64\n",
      "is_ballast       27906 non-null int64\n",
      "is_long          27906 non-null int64\n",
      "sleeper_type     27906 non-null int64\n",
      "is_bridge        27906 non-null int64\n",
      "is_crossing      27906 non-null int64\n",
      "gross_ton        27906 non-null float64\n",
      "radius           27906 non-null int64\n",
      "is_unreliable    27906 non-null int64\n",
      "dtypes: float64(1), int64(8)\n",
      "memory usage: 1.9 MB\n"
     ]
    }
   ],
   "source": [
    "equ_a.info()"
   ]
  },
  {
   "cell_type": "code",
   "execution_count": 52,
   "metadata": {},
   "outputs": [
    {
     "data": {
      "text/html": [
       "<div>\n",
       "<style scoped>\n",
       "    .dataframe tbody tr th:only-of-type {\n",
       "        vertical-align: middle;\n",
       "    }\n",
       "\n",
       "    .dataframe tbody tr th {\n",
       "        vertical-align: top;\n",
       "    }\n",
       "\n",
       "    .dataframe thead th {\n",
       "        text-align: right;\n",
       "    }\n",
       "</style>\n",
       "<table border=\"1\" class=\"dataframe\">\n",
       "  <thead>\n",
       "    <tr style=\"text-align: right;\">\n",
       "      <th></th>\n",
       "      <th>kilo</th>\n",
       "      <th>is_ballast</th>\n",
       "      <th>is_long</th>\n",
       "      <th>sleeper_type</th>\n",
       "      <th>is_bridge</th>\n",
       "      <th>is_crossing</th>\n",
       "      <th>gross_ton</th>\n",
       "      <th>radius</th>\n",
       "      <th>is_unreliable</th>\n",
       "    </tr>\n",
       "  </thead>\n",
       "  <tbody>\n",
       "    <tr>\n",
       "      <th>count</th>\n",
       "      <td>27906.000000</td>\n",
       "      <td>27906.000000</td>\n",
       "      <td>27906.000000</td>\n",
       "      <td>27906.000000</td>\n",
       "      <td>27906.000000</td>\n",
       "      <td>27906.000000</td>\n",
       "      <td>27906.000000</td>\n",
       "      <td>27906.000000</td>\n",
       "      <td>27906.000000</td>\n",
       "    </tr>\n",
       "    <tr>\n",
       "      <th>mean</th>\n",
       "      <td>23952.500000</td>\n",
       "      <td>0.597076</td>\n",
       "      <td>0.882857</td>\n",
       "      <td>1.232925</td>\n",
       "      <td>0.023830</td>\n",
       "      <td>0.005734</td>\n",
       "      <td>9.921285</td>\n",
       "      <td>1194.178134</td>\n",
       "      <td>0.183760</td>\n",
       "    </tr>\n",
       "    <tr>\n",
       "      <th>std</th>\n",
       "      <td>8055.912642</td>\n",
       "      <td>0.490495</td>\n",
       "      <td>0.321597</td>\n",
       "      <td>0.953346</td>\n",
       "      <td>0.152522</td>\n",
       "      <td>0.075504</td>\n",
       "      <td>3.081020</td>\n",
       "      <td>4047.880744</td>\n",
       "      <td>0.387295</td>\n",
       "    </tr>\n",
       "    <tr>\n",
       "      <th>min</th>\n",
       "      <td>10000.000000</td>\n",
       "      <td>0.000000</td>\n",
       "      <td>0.000000</td>\n",
       "      <td>1.000000</td>\n",
       "      <td>0.000000</td>\n",
       "      <td>0.000000</td>\n",
       "      <td>0.000000</td>\n",
       "      <td>0.000000</td>\n",
       "      <td>0.000000</td>\n",
       "    </tr>\n",
       "    <tr>\n",
       "      <th>25%</th>\n",
       "      <td>16976.250000</td>\n",
       "      <td>0.000000</td>\n",
       "      <td>1.000000</td>\n",
       "      <td>1.000000</td>\n",
       "      <td>0.000000</td>\n",
       "      <td>0.000000</td>\n",
       "      <td>8.456000</td>\n",
       "      <td>0.000000</td>\n",
       "      <td>0.000000</td>\n",
       "    </tr>\n",
       "    <tr>\n",
       "      <th>50%</th>\n",
       "      <td>23952.500000</td>\n",
       "      <td>1.000000</td>\n",
       "      <td>1.000000</td>\n",
       "      <td>1.000000</td>\n",
       "      <td>0.000000</td>\n",
       "      <td>0.000000</td>\n",
       "      <td>11.059000</td>\n",
       "      <td>1000.000000</td>\n",
       "      <td>0.000000</td>\n",
       "    </tr>\n",
       "    <tr>\n",
       "      <th>75%</th>\n",
       "      <td>30928.750000</td>\n",
       "      <td>1.000000</td>\n",
       "      <td>1.000000</td>\n",
       "      <td>1.000000</td>\n",
       "      <td>0.000000</td>\n",
       "      <td>0.000000</td>\n",
       "      <td>11.579000</td>\n",
       "      <td>1000.000000</td>\n",
       "      <td>0.000000</td>\n",
       "    </tr>\n",
       "    <tr>\n",
       "      <th>max</th>\n",
       "      <td>37905.000000</td>\n",
       "      <td>1.000000</td>\n",
       "      <td>1.000000</td>\n",
       "      <td>8.000000</td>\n",
       "      <td>1.000000</td>\n",
       "      <td>1.000000</td>\n",
       "      <td>13.607000</td>\n",
       "      <td>70000.000000</td>\n",
       "      <td>1.000000</td>\n",
       "    </tr>\n",
       "  </tbody>\n",
       "</table>\n",
       "</div>"
      ],
      "text/plain": [
       "               kilo    is_ballast       is_long  sleeper_type     is_bridge  \\\n",
       "count  27906.000000  27906.000000  27906.000000  27906.000000  27906.000000   \n",
       "mean   23952.500000      0.597076      0.882857      1.232925      0.023830   \n",
       "std     8055.912642      0.490495      0.321597      0.953346      0.152522   \n",
       "min    10000.000000      0.000000      0.000000      1.000000      0.000000   \n",
       "25%    16976.250000      0.000000      1.000000      1.000000      0.000000   \n",
       "50%    23952.500000      1.000000      1.000000      1.000000      0.000000   \n",
       "75%    30928.750000      1.000000      1.000000      1.000000      0.000000   \n",
       "max    37905.000000      1.000000      1.000000      8.000000      1.000000   \n",
       "\n",
       "        is_crossing     gross_ton        radius  is_unreliable  \n",
       "count  27906.000000  27906.000000  27906.000000   27906.000000  \n",
       "mean       0.005734      9.921285   1194.178134       0.183760  \n",
       "std        0.075504      3.081020   4047.880744       0.387295  \n",
       "min        0.000000      0.000000      0.000000       0.000000  \n",
       "25%        0.000000      8.456000      0.000000       0.000000  \n",
       "50%        0.000000     11.059000   1000.000000       0.000000  \n",
       "75%        0.000000     11.579000   1000.000000       0.000000  \n",
       "max        1.000000     13.607000  70000.000000       1.000000  "
      ]
     },
     "execution_count": 52,
     "metadata": {},
     "output_type": "execute_result"
    }
   ],
   "source": [
    "equ_a.describe()"
   ]
  },
  {
   "cell_type": "code",
   "execution_count": 55,
   "metadata": {},
   "outputs": [
    {
     "data": {
      "text/plain": [
       "kilo             0\n",
       "is_ballast       0\n",
       "is_long          0\n",
       "sleeper_type     0\n",
       "is_bridge        0\n",
       "is_crossing      0\n",
       "gross_ton        0\n",
       "radius           0\n",
       "is_unreliable    0\n",
       "dtype: int64"
      ]
     },
     "execution_count": 55,
     "metadata": {},
     "output_type": "execute_result"
    }
   ],
   "source": [
    "equ_a.isnull().sum()"
   ]
  },
  {
   "cell_type": "code",
   "execution_count": null,
   "metadata": {},
   "outputs": [],
   "source": []
  }
 ],
 "metadata": {
  "kernelspec": {
   "display_name": "Python 3",
   "language": "python",
   "name": "python3"
  },
  "language_info": {
   "codemirror_mode": {
    "name": "ipython",
    "version": 3
   },
   "file_extension": ".py",
   "mimetype": "text/x-python",
   "name": "python",
   "nbconvert_exporter": "python",
   "pygments_lexer": "ipython3",
   "version": "3.7.0"
  }
 },
 "nbformat": 4,
 "nbformat_minor": 2
}
