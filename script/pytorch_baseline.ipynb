{
 "cells": [
  {
   "cell_type": "markdown",
   "metadata": {},
   "source": [
    "# Apply CNN for timeseries data"
   ]
  },
  {
   "cell_type": "code",
   "execution_count": 1,
   "metadata": {},
   "outputs": [],
   "source": [
    "import os\n",
    "import pickle\n",
    "import numpy as np\n",
    "import pandas as pd"
   ]
  },
  {
   "cell_type": "code",
   "execution_count": 2,
   "metadata": {},
   "outputs": [],
   "source": [
    "input_dir = '../input/'\n",
    "working_dir = '../working/'\n",
    "output_dir = '../output/'"
   ]
  },
  {
   "cell_type": "markdown",
   "metadata": {},
   "source": [
    "## Read data"
   ]
  },
  {
   "cell_type": "code",
   "execution_count": 3,
   "metadata": {},
   "outputs": [],
   "source": [
    "sleeper_type_dict = {\n",
    "    1: 'pc',\n",
    "    2: 'wooden',\n",
    "    3: 'junction',\n",
    "    4: 'short',\n",
    "    5: 'synthetic',\n",
    "    6: 'synth_junc',\n",
    "    7: 'symth_short',\n",
    "    8: 'other'\n",
    "}"
   ]
  },
  {
   "cell_type": "code",
   "execution_count": 4,
   "metadata": {},
   "outputs": [],
   "source": [
    "def read_track(line_name='a'):\n",
    "    track_df = pd.read_csv(os.path.join(input_dir, 'track_fillna_{}.csv'.format(line_name.upper())))\n",
    "    col_names_track = ['date', 'kilo', 'lev_l', 'lev_r', 'cur_l', 'cur_r', 'cant', 'width', 'speed']\n",
    "    track_df.columns = col_names_track\n",
    "    track_df['date'] = pd.to_datetime(track_df['date'])\n",
    "    track_df['kilo'] = track_df['kilo'].astype('str')\n",
    "    print('track_{line_name} shape: {shape}'.format(line_name=line_name.upper(), shape=track_df.shape))\n",
    "    return track_df"
   ]
  },
  {
   "cell_type": "code",
   "execution_count": 5,
   "metadata": {},
   "outputs": [],
   "source": [
    "def read_equ(line_name='a'):\n",
    "    equ_df = pd.read_csv(os.path.join(input_dir, 'equipment_{}.csv'.format(line_name.upper())))\n",
    "    col_names_equ = ['kilo', 'is_ballast', 'is_long', 'sleeper_type', 'is_bridge', 'is_crossing', 'gross_ton', 'radius', 'is_unreliable']\n",
    "    equ_df.columns = col_names_equ\n",
    "    equ_df['kilo'] = equ_df['kilo'].astype('str')\n",
    "    equ_df['sleeper_type'] = equ_df['sleeper_type'].replace(sleeper_type_dict).astype('category')\n",
    "    print('equ_{line_name} shape: {shape}'.format(line_name=line_name.upper(), shape=equ_df.shape))\n",
    "    return equ_df"
   ]
  },
  {
   "cell_type": "code",
   "execution_count": 6,
   "metadata": {},
   "outputs": [],
   "source": [
    "# degrade data types to save memory\n",
    "def degrade_dtypes(df):\n",
    "    for col in df.columns:\n",
    "        if df[col].dtype=='int64':\n",
    "            df[col] = df[col].astype('int32')\n",
    "        if df[col].dtype=='float64':\n",
    "            df[col] = df[col].astype('float32')\n",
    "    return df"
   ]
  },
  {
   "cell_type": "code",
   "execution_count": 7,
   "metadata": {},
   "outputs": [],
   "source": [
    "abcd = 'b'"
   ]
  },
  {
   "cell_type": "code",
   "execution_count": 8,
   "metadata": {},
   "outputs": [
    {
     "name": "stdout",
     "output_type": "stream",
     "text": [
      "track_B shape: (7815753, 9)\n",
      "equ_B shape: (21531, 9)\n"
     ]
    }
   ],
   "source": [
    "track = read_track(abcd)\n",
    "track = degrade_dtypes(track)\n",
    "equ = read_equ(abcd)\n",
    "equ = degrade_dtypes(equ)"
   ]
  },
  {
   "cell_type": "code",
   "execution_count": 9,
   "metadata": {},
   "outputs": [],
   "source": [
    "# sample_submit = pd.read_csv(os.path.join(input_dir, 'sample_submit.csv'), header=None)\n",
    "index_master = pd.read_csv(os.path.join(input_dir, 'index_master.csv'))\n",
    "index_master.columns = ['id', 'line_name', 'date', 'kilo']\n",
    "index_master['date'] = pd.to_datetime(index_master['date'])\n",
    "index_master['kilo'] = index_master['kilo'].astype('str')"
   ]
  },
  {
   "cell_type": "markdown",
   "metadata": {},
   "source": [
    "## とりあえず、21×21で切り取る。一行分作成。\n",
    "- やはり目的変数はdiffにすべき（補修の影響が入ってしまうから）\n",
    "- 横サイズは30くらいでいいのでは？　縦はこれから考える。\n",
    "- まず、lev_lで異常値を除き計測誤差を除外、lev_l_diffで異常値を除いて補修時のデータを除外\n",
    "- 誤差の最小値と最大値を使って、値を0~1に基準化\n",
    "- 欠損値は0埋め\n",
    "- 目的変数が欠損値の場合は学習させない（予測もしない）"
   ]
  },
  {
   "cell_type": "code",
   "execution_count": 36,
   "metadata": {},
   "outputs": [],
   "source": [
    "side_len = 35 #must be odd\n",
    "side_len_half = int((side_len-1)/2)"
   ]
  },
  {
   "cell_type": "code",
   "execution_count": 37,
   "metadata": {},
   "outputs": [],
   "source": [
    "track_pv = track.pivot(index='date', columns='kilo', values='lev_l')"
   ]
  },
  {
   "cell_type": "code",
   "execution_count": 38,
   "metadata": {},
   "outputs": [],
   "source": [
    "# normalize to max==1 and min=0\n",
    "track_pv = track_pv + 21\n",
    "track_pv = track_pv / 50"
   ]
  },
  {
   "cell_type": "code",
   "execution_count": 39,
   "metadata": {},
   "outputs": [
    {
     "data": {
      "text/html": [
       "<div>\n",
       "<style scoped>\n",
       "    .dataframe tbody tr th:only-of-type {\n",
       "        vertical-align: middle;\n",
       "    }\n",
       "\n",
       "    .dataframe tbody tr th {\n",
       "        vertical-align: top;\n",
       "    }\n",
       "\n",
       "    .dataframe thead th {\n",
       "        text-align: right;\n",
       "    }\n",
       "</style>\n",
       "<table border=\"1\" class=\"dataframe\">\n",
       "  <thead>\n",
       "    <tr style=\"text-align: right;\">\n",
       "      <th>kilo</th>\n",
       "      <th>10000</th>\n",
       "      <th>10001</th>\n",
       "      <th>10002</th>\n",
       "      <th>10003</th>\n",
       "      <th>10004</th>\n",
       "      <th>10005</th>\n",
       "      <th>10006</th>\n",
       "      <th>10007</th>\n",
       "      <th>10008</th>\n",
       "      <th>10009</th>\n",
       "      <th>...</th>\n",
       "      <th>31521</th>\n",
       "      <th>31522</th>\n",
       "      <th>31523</th>\n",
       "      <th>31524</th>\n",
       "      <th>31525</th>\n",
       "      <th>31526</th>\n",
       "      <th>31527</th>\n",
       "      <th>31528</th>\n",
       "      <th>31529</th>\n",
       "      <th>31530</th>\n",
       "    </tr>\n",
       "    <tr>\n",
       "      <th>date</th>\n",
       "      <th></th>\n",
       "      <th></th>\n",
       "      <th></th>\n",
       "      <th></th>\n",
       "      <th></th>\n",
       "      <th></th>\n",
       "      <th></th>\n",
       "      <th></th>\n",
       "      <th></th>\n",
       "      <th></th>\n",
       "      <th></th>\n",
       "      <th></th>\n",
       "      <th></th>\n",
       "      <th></th>\n",
       "      <th></th>\n",
       "      <th></th>\n",
       "      <th></th>\n",
       "      <th></th>\n",
       "      <th></th>\n",
       "      <th></th>\n",
       "      <th></th>\n",
       "    </tr>\n",
       "  </thead>\n",
       "  <tbody>\n",
       "    <tr>\n",
       "      <th>2017-04-03</th>\n",
       "      <td>0.4244</td>\n",
       "      <td>0.3682</td>\n",
       "      <td>0.3058</td>\n",
       "      <td>0.2800</td>\n",
       "      <td>0.3182</td>\n",
       "      <td>0.4088</td>\n",
       "      <td>0.5046</td>\n",
       "      <td>0.5508</td>\n",
       "      <td>0.5186</td>\n",
       "      <td>0.4222</td>\n",
       "      <td>...</td>\n",
       "      <td>0.4532</td>\n",
       "      <td>0.4104</td>\n",
       "      <td>0.3662</td>\n",
       "      <td>0.3414</td>\n",
       "      <td>0.3466</td>\n",
       "      <td>0.376</td>\n",
       "      <td>0.4122</td>\n",
       "      <td>0.4378</td>\n",
       "      <td>0.4446</td>\n",
       "      <td>0.4382</td>\n",
       "    </tr>\n",
       "    <tr>\n",
       "      <th>2017-04-04</th>\n",
       "      <td>0.4244</td>\n",
       "      <td>0.3682</td>\n",
       "      <td>0.3058</td>\n",
       "      <td>0.2800</td>\n",
       "      <td>0.3182</td>\n",
       "      <td>0.4088</td>\n",
       "      <td>0.5046</td>\n",
       "      <td>0.5508</td>\n",
       "      <td>0.5186</td>\n",
       "      <td>0.4222</td>\n",
       "      <td>...</td>\n",
       "      <td>0.4532</td>\n",
       "      <td>0.4104</td>\n",
       "      <td>0.3662</td>\n",
       "      <td>0.3414</td>\n",
       "      <td>0.3466</td>\n",
       "      <td>0.376</td>\n",
       "      <td>0.4122</td>\n",
       "      <td>0.4378</td>\n",
       "      <td>0.4446</td>\n",
       "      <td>0.4382</td>\n",
       "    </tr>\n",
       "    <tr>\n",
       "      <th>2017-04-05</th>\n",
       "      <td>0.4120</td>\n",
       "      <td>0.3540</td>\n",
       "      <td>0.2974</td>\n",
       "      <td>0.2834</td>\n",
       "      <td>0.3336</td>\n",
       "      <td>0.4300</td>\n",
       "      <td>0.5220</td>\n",
       "      <td>0.5566</td>\n",
       "      <td>0.5112</td>\n",
       "      <td>0.4066</td>\n",
       "      <td>...</td>\n",
       "      <td>0.4562</td>\n",
       "      <td>0.4174</td>\n",
       "      <td>0.3734</td>\n",
       "      <td>0.3446</td>\n",
       "      <td>0.3434</td>\n",
       "      <td>0.368</td>\n",
       "      <td>0.4040</td>\n",
       "      <td>0.4338</td>\n",
       "      <td>0.4466</td>\n",
       "      <td>0.4432</td>\n",
       "    </tr>\n",
       "    <tr>\n",
       "      <th>2017-04-06</th>\n",
       "      <td>0.4120</td>\n",
       "      <td>0.3680</td>\n",
       "      <td>0.3058</td>\n",
       "      <td>0.2832</td>\n",
       "      <td>0.3276</td>\n",
       "      <td>0.4238</td>\n",
       "      <td>0.5190</td>\n",
       "      <td>0.5560</td>\n",
       "      <td>0.5100</td>\n",
       "      <td>0.4034</td>\n",
       "      <td>...</td>\n",
       "      <td>0.4562</td>\n",
       "      <td>0.4174</td>\n",
       "      <td>0.3734</td>\n",
       "      <td>0.3446</td>\n",
       "      <td>0.3434</td>\n",
       "      <td>0.368</td>\n",
       "      <td>0.4040</td>\n",
       "      <td>0.4338</td>\n",
       "      <td>0.4466</td>\n",
       "      <td>0.4432</td>\n",
       "    </tr>\n",
       "    <tr>\n",
       "      <th>2017-04-07</th>\n",
       "      <td>0.4208</td>\n",
       "      <td>0.3662</td>\n",
       "      <td>0.3082</td>\n",
       "      <td>0.2878</td>\n",
       "      <td>0.3296</td>\n",
       "      <td>0.4202</td>\n",
       "      <td>0.5122</td>\n",
       "      <td>0.5528</td>\n",
       "      <td>0.5156</td>\n",
       "      <td>0.4168</td>\n",
       "      <td>...</td>\n",
       "      <td>0.4562</td>\n",
       "      <td>0.4174</td>\n",
       "      <td>0.3734</td>\n",
       "      <td>0.3446</td>\n",
       "      <td>0.3434</td>\n",
       "      <td>0.368</td>\n",
       "      <td>0.4040</td>\n",
       "      <td>0.4338</td>\n",
       "      <td>0.4466</td>\n",
       "      <td>0.4432</td>\n",
       "    </tr>\n",
       "  </tbody>\n",
       "</table>\n",
       "<p>5 rows × 21531 columns</p>\n",
       "</div>"
      ],
      "text/plain": [
       "kilo         10000   10001   10002   10003   10004   10005   10006   10007  \\\n",
       "date                                                                         \n",
       "2017-04-03  0.4244  0.3682  0.3058  0.2800  0.3182  0.4088  0.5046  0.5508   \n",
       "2017-04-04  0.4244  0.3682  0.3058  0.2800  0.3182  0.4088  0.5046  0.5508   \n",
       "2017-04-05  0.4120  0.3540  0.2974  0.2834  0.3336  0.4300  0.5220  0.5566   \n",
       "2017-04-06  0.4120  0.3680  0.3058  0.2832  0.3276  0.4238  0.5190  0.5560   \n",
       "2017-04-07  0.4208  0.3662  0.3082  0.2878  0.3296  0.4202  0.5122  0.5528   \n",
       "\n",
       "kilo         10008   10009   ...     31521   31522   31523   31524   31525  \\\n",
       "date                         ...                                             \n",
       "2017-04-03  0.5186  0.4222   ...    0.4532  0.4104  0.3662  0.3414  0.3466   \n",
       "2017-04-04  0.5186  0.4222   ...    0.4532  0.4104  0.3662  0.3414  0.3466   \n",
       "2017-04-05  0.5112  0.4066   ...    0.4562  0.4174  0.3734  0.3446  0.3434   \n",
       "2017-04-06  0.5100  0.4034   ...    0.4562  0.4174  0.3734  0.3446  0.3434   \n",
       "2017-04-07  0.5156  0.4168   ...    0.4562  0.4174  0.3734  0.3446  0.3434   \n",
       "\n",
       "kilo        31526   31527   31528   31529   31530  \n",
       "date                                               \n",
       "2017-04-03  0.376  0.4122  0.4378  0.4446  0.4382  \n",
       "2017-04-04  0.376  0.4122  0.4378  0.4446  0.4382  \n",
       "2017-04-05  0.368  0.4040  0.4338  0.4466  0.4432  \n",
       "2017-04-06  0.368  0.4040  0.4338  0.4466  0.4432  \n",
       "2017-04-07  0.368  0.4040  0.4338  0.4466  0.4432  \n",
       "\n",
       "[5 rows x 21531 columns]"
      ]
     },
     "execution_count": 39,
     "metadata": {},
     "output_type": "execute_result"
    }
   ],
   "source": [
    "track_pv.head()"
   ]
  },
  {
   "cell_type": "code",
   "execution_count": 40,
   "metadata": {},
   "outputs": [],
   "source": [
    "track_pv_tgt = track_pv.iloc[side_len:, side_len_half:-side_len_half]"
   ]
  },
  {
   "cell_type": "code",
   "execution_count": 41,
   "metadata": {},
   "outputs": [],
   "source": [
    "div_data = np.empty((track_pv_tgt.shape[1], 1, side_len, side_len), dtype='float32')\n",
    "row_num = 0\n",
    "for col_num in range(track_pv_tgt.shape[1]):\n",
    "    div_tmp = track_pv.values[row_num:row_num+side_len, col_num:col_num+side_len]\n",
    "    div_data[col_num] = div_tmp.reshape(1, side_len, side_len)"
   ]
  },
  {
   "cell_type": "code",
   "execution_count": 42,
   "metadata": {},
   "outputs": [],
   "source": [
    "div_label = track_pv_tgt.values[0,:]"
   ]
  },
  {
   "cell_type": "code",
   "execution_count": 43,
   "metadata": {},
   "outputs": [],
   "source": [
    "import torch\n",
    "import torch.nn as nn\n",
    "import torch.nn.functional as F\n",
    "import torch.optim as optim\n",
    "import torch.utils.data as data\n",
    "from sklearn import model_selection"
   ]
  },
  {
   "cell_type": "code",
   "execution_count": 44,
   "metadata": {},
   "outputs": [
    {
     "name": "stdout",
     "output_type": "stream",
     "text": [
      "device cpu\n"
     ]
    }
   ],
   "source": [
    "device = torch.device(\"cuda\" if torch.cuda.is_available() else \"cpu\")\n",
    "print(\"device\", device)\n",
    "\n",
    "torch.manual_seed(0)\n",
    "\n",
    "batch_size = 100\n",
    "num_classes = 1\n",
    "epochs = 2"
   ]
  },
  {
   "cell_type": "code",
   "execution_count": 45,
   "metadata": {},
   "outputs": [],
   "source": [
    "x_train, x_test, y_train, y_test = model_selection.train_test_split(div_data, div_label, test_size=1/7, random_state=0)\n",
    "\n",
    "# x_train = x_train.astype('double')\n",
    "# x_test = x_test.astype('double')\n",
    "# y_train = y_train.astype('float')\n",
    "# y_test = y_test.astype('float')"
   ]
  },
  {
   "cell_type": "code",
   "execution_count": 46,
   "metadata": {},
   "outputs": [],
   "source": [
    "ds_train = data.TensorDataset(torch.from_numpy(x_train), torch.from_numpy(y_train))\n",
    "ds_test  = data.TensorDataset(torch.from_numpy(x_test), torch.from_numpy(y_test))"
   ]
  },
  {
   "cell_type": "code",
   "execution_count": 47,
   "metadata": {},
   "outputs": [],
   "source": [
    "dataloader_train = data.DataLoader(dataset=ds_train, batch_size=batch_size, shuffle=True)\n",
    "dataloader_test = data.DataLoader(dataset=ds_test, batch_size=batch_size, shuffle=False)"
   ]
  },
  {
   "cell_type": "code",
   "execution_count": 55,
   "metadata": {},
   "outputs": [],
   "source": [
    "class CNNModel (nn.Module):\n",
    "    def __init__(self):\n",
    "        super(CNNModel, self).__init__()\n",
    " \n",
    "        self.conv1 = nn.Conv2d(1, 32, 3, padding=1)\n",
    "        self.conv2 = nn.Conv2d(32, 64, 3, padding=1)\n",
    " \n",
    "        self.dropout1 = nn.Dropout2d(0.25)\n",
    "        self.dropout2 = nn.Dropout2d(0.5)\n",
    " \n",
    "        self.fc1 = nn.Linear(64*17*17, 128)\n",
    "        self.fc2 = nn.Linear(128, num_classes)\n",
    " \n",
    " \n",
    "    def forward(self, x):\n",
    "#         x = x.double()\n",
    "        x = F.relu(self.conv1(x))\n",
    "        x = F.relu(self.conv2(x))\n",
    "        x = F.max_pool2d(x, (2, 2))\n",
    "        x = self.dropout1(x)\n",
    " \n",
    "        x = x.view(-1, 64*17*17)\n",
    " \n",
    "        x = F.relu(self.fc1(x))\n",
    "        x = self.dropout2(x)\n",
    "        return F.relu(self.fc2(x))"
   ]
  },
  {
   "cell_type": "code",
   "execution_count": 56,
   "metadata": {},
   "outputs": [],
   "source": [
    "model = CNNModel().to(device)"
   ]
  },
  {
   "cell_type": "code",
   "execution_count": 57,
   "metadata": {},
   "outputs": [
    {
     "name": "stdout",
     "output_type": "stream",
     "text": [
      "CNNModel(\n",
      "  (conv1): Conv2d(1, 32, kernel_size=(3, 3), stride=(1, 1), padding=(1, 1))\n",
      "  (conv2): Conv2d(32, 64, kernel_size=(3, 3), stride=(1, 1), padding=(1, 1))\n",
      "  (dropout1): Dropout2d(p=0.25)\n",
      "  (dropout2): Dropout2d(p=0.5)\n",
      "  (fc1): Linear(in_features=18496, out_features=128, bias=True)\n",
      "  (fc2): Linear(in_features=128, out_features=1, bias=True)\n",
      ")\n"
     ]
    }
   ],
   "source": [
    "print(model)"
   ]
  },
  {
   "cell_type": "code",
   "execution_count": 58,
   "metadata": {},
   "outputs": [],
   "source": [
    "criterion = nn.L1Loss()\n",
    "optimizer = optim.SGD(model.parameters(), lr=0.01, momentum=0.5)"
   ]
  },
  {
   "cell_type": "code",
   "execution_count": 59,
   "metadata": {},
   "outputs": [],
   "source": [
    "global_step = 0\n",
    " \n",
    "def train(epoch):\n",
    "    model.train()\n",
    "    steps = len(ds_train)//batch_size\n",
    "    for step, (images, labels) in enumerate(dataloader_train, 1):\n",
    "        global global_step\n",
    "        global_step += 1\n",
    "        images, labels = images.to(device), labels.to(device)\n",
    " \n",
    "        optimizer.zero_grad()\n",
    "        outputs = model(images)\n",
    "        loss = criterion(outputs, labels)\n",
    "        loss.backward()\n",
    "        optimizer.step()\n",
    " \n",
    "        if step % 50 == 0:\n",
    "            print ('Epoch [%d/%d], Step [%d/%d], Loss: %.4f' % (epoch, epochs, step, steps, loss.item()))"
   ]
  },
  {
   "cell_type": "code",
   "execution_count": 60,
   "metadata": {},
   "outputs": [],
   "source": [
    "def eval(epoch):\n",
    "    model.eval()\n",
    "    abs_err_sum = 0\n",
    "    total = 0\n",
    "    with torch.no_grad():\n",
    "        for (images, labels) in dataloader_test:\n",
    "            images, labels = images.to(device), labels.to(device)\n",
    " \n",
    "            outputs = model(images)\n",
    "            outputs = outputs.reshape(-1)\n",
    "            abs_err_sum += abs(outputs - labels).sum()\n",
    "            total += labels.size(0)\n",
    "    print(\"Val Acc : %.4f\" % (abs_err_sum/total))"
   ]
  },
  {
   "cell_type": "code",
   "execution_count": 61,
   "metadata": {},
   "outputs": [
    {
     "name": "stdout",
     "output_type": "stream",
     "text": [
      "Epoch [1/2], Step [50/184], Loss: 0.0394\n",
      "Epoch [1/2], Step [100/184], Loss: 0.0290\n",
      "Epoch [1/2], Step [150/184], Loss: 0.0321\n",
      "Val Acc : 0.0282\n",
      "Epoch [2/2], Step [50/184], Loss: 0.0347\n",
      "Epoch [2/2], Step [100/184], Loss: 0.0291\n",
      "Epoch [2/2], Step [150/184], Loss: 0.0287\n",
      "Val Acc : 0.0286\n"
     ]
    }
   ],
   "source": [
    "for epoch in range(1, epochs+1):\n",
    "    train(epoch)#, writer)\n",
    "    eval(epoch)#, writer)"
   ]
  },
  {
   "cell_type": "code",
   "execution_count": null,
   "metadata": {},
   "outputs": [],
   "source": []
  },
  {
   "cell_type": "code",
   "execution_count": null,
   "metadata": {},
   "outputs": [],
   "source": []
  },
  {
   "cell_type": "code",
   "execution_count": null,
   "metadata": {},
   "outputs": [],
   "source": []
  }
 ],
 "metadata": {
  "kernelspec": {
   "display_name": "Python 3",
   "language": "python",
   "name": "python3"
  },
  "language_info": {
   "codemirror_mode": {
    "name": "ipython",
    "version": 3
   },
   "file_extension": ".py",
   "mimetype": "text/x-python",
   "name": "python",
   "nbconvert_exporter": "python",
   "pygments_lexer": "ipython3",
   "version": "3.6.7"
  }
 },
 "nbformat": 4,
 "nbformat_minor": 2
}
