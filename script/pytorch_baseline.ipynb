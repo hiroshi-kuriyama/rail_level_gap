{
 "cells": [
  {
   "cell_type": "markdown",
   "metadata": {},
   "source": [
    "# Apply CNN for timeseries data"
   ]
  },
  {
   "cell_type": "code",
   "execution_count": 28,
   "metadata": {},
   "outputs": [],
   "source": [
    "import os\n",
    "import pickle\n",
    "import numpy as np\n",
    "import pandas as pd"
   ]
  },
  {
   "cell_type": "code",
   "execution_count": 29,
   "metadata": {},
   "outputs": [],
   "source": [
    "input_dir = '../input/'\n",
    "working_dir = '../working/'\n",
    "output_dir = '../output/'"
   ]
  },
  {
   "cell_type": "markdown",
   "metadata": {},
   "source": [
    "## Read data"
   ]
  },
  {
   "cell_type": "code",
   "execution_count": 30,
   "metadata": {},
   "outputs": [],
   "source": [
    "sleeper_type_dict = {\n",
    "    1: 'pc',\n",
    "    2: 'wooden',\n",
    "    3: 'junction',\n",
    "    4: 'short',\n",
    "    5: 'synthetic',\n",
    "    6: 'synth_junc',\n",
    "    7: 'symth_short',\n",
    "    8: 'other'\n",
    "}"
   ]
  },
  {
   "cell_type": "code",
   "execution_count": 31,
   "metadata": {},
   "outputs": [],
   "source": [
    "def read_track(line_name='a'):\n",
    "    track_df = pd.read_csv(os.path.join(input_dir, 'track_fillna_{}.csv'.format(line_name.upper())))\n",
    "    col_names_track = ['date', 'kilo', 'lev_l', 'lev_r', 'cur_l', 'cur_r', 'cant', 'width', 'speed']\n",
    "    track_df.columns = col_names_track\n",
    "    track_df['date'] = pd.to_datetime(track_df['date'])\n",
    "    track_df['kilo'] = track_df['kilo'].astype('str')\n",
    "    print('track_{line_name} shape: {shape}'.format(line_name=line_name.upper(), shape=track_df.shape))\n",
    "    return track_df"
   ]
  },
  {
   "cell_type": "code",
   "execution_count": 32,
   "metadata": {},
   "outputs": [],
   "source": [
    "def read_equ(line_name='a'):\n",
    "    equ_df = pd.read_csv(os.path.join(input_dir, 'equipment_{}.csv'.format(line_name.upper())))\n",
    "    col_names_equ = ['kilo', 'is_ballast', 'is_long', 'sleeper_type', 'is_bridge', 'is_crossing', 'gross_ton', 'radius', 'is_unreliable']\n",
    "    equ_df.columns = col_names_equ\n",
    "    equ_df['kilo'] = equ_df['kilo'].astype('str')\n",
    "    equ_df['sleeper_type'] = equ_df['sleeper_type'].replace(sleeper_type_dict).astype('category')\n",
    "    print('equ_{line_name} shape: {shape}'.format(line_name=line_name.upper(), shape=equ_df.shape))\n",
    "    return equ_df"
   ]
  },
  {
   "cell_type": "code",
   "execution_count": 33,
   "metadata": {},
   "outputs": [],
   "source": [
    "# degrade data types to save memory\n",
    "def degrade_dtypes(df):\n",
    "    for col in df.columns:\n",
    "        if df[col].dtype=='int64':\n",
    "            df[col] = df[col].astype('int32')\n",
    "        if df[col].dtype=='float64':\n",
    "            df[col] = df[col].astype('float32')\n",
    "    return df"
   ]
  },
  {
   "cell_type": "code",
   "execution_count": 34,
   "metadata": {},
   "outputs": [],
   "source": [
    "abcd = 'b'"
   ]
  },
  {
   "cell_type": "code",
   "execution_count": 35,
   "metadata": {},
   "outputs": [
    {
     "name": "stdout",
     "output_type": "stream",
     "text": [
      "track_B shape: (7815753, 9)\n",
      "equ_B shape: (21531, 9)\n"
     ]
    }
   ],
   "source": [
    "track = read_track(abcd)\n",
    "track = degrade_dtypes(track)\n",
    "equ = read_equ(abcd)\n",
    "equ = degrade_dtypes(equ)"
   ]
  },
  {
   "cell_type": "code",
   "execution_count": 36,
   "metadata": {},
   "outputs": [],
   "source": [
    "# sample_submit = pd.read_csv(os.path.join(input_dir, 'sample_submit.csv'), header=None)\n",
    "index_master = pd.read_csv(os.path.join(input_dir, 'index_master.csv'))\n",
    "index_master.columns = ['id', 'line_name', 'date', 'kilo']\n",
    "index_master['date'] = pd.to_datetime(index_master['date'])\n",
    "index_master['kilo'] = index_master['kilo'].astype('str')"
   ]
  },
  {
   "cell_type": "markdown",
   "metadata": {},
   "source": [
    "## とりあえず、21×21で切り取る。一行分作成。\n",
    "1列ごとにやったほうが良かったかも"
   ]
  },
  {
   "cell_type": "code",
   "execution_count": 37,
   "metadata": {},
   "outputs": [],
   "source": [
    "side_len = 29 #must be odd\n",
    "side_len_half = int((side_len-1)/2)"
   ]
  },
  {
   "cell_type": "code",
   "execution_count": 38,
   "metadata": {},
   "outputs": [],
   "source": [
    "track_pv = track.pivot(index='date', columns='kilo', values='lev_l')"
   ]
  },
  {
   "cell_type": "code",
   "execution_count": 39,
   "metadata": {},
   "outputs": [
    {
     "data": {
      "text/html": [
       "<div>\n",
       "<style scoped>\n",
       "    .dataframe tbody tr th:only-of-type {\n",
       "        vertical-align: middle;\n",
       "    }\n",
       "\n",
       "    .dataframe tbody tr th {\n",
       "        vertical-align: top;\n",
       "    }\n",
       "\n",
       "    .dataframe thead th {\n",
       "        text-align: right;\n",
       "    }\n",
       "</style>\n",
       "<table border=\"1\" class=\"dataframe\">\n",
       "  <thead>\n",
       "    <tr style=\"text-align: right;\">\n",
       "      <th>kilo</th>\n",
       "      <th>10000</th>\n",
       "      <th>10001</th>\n",
       "      <th>10002</th>\n",
       "      <th>10003</th>\n",
       "      <th>10004</th>\n",
       "      <th>10005</th>\n",
       "      <th>10006</th>\n",
       "      <th>10007</th>\n",
       "      <th>10008</th>\n",
       "      <th>10009</th>\n",
       "      <th>...</th>\n",
       "      <th>31521</th>\n",
       "      <th>31522</th>\n",
       "      <th>31523</th>\n",
       "      <th>31524</th>\n",
       "      <th>31525</th>\n",
       "      <th>31526</th>\n",
       "      <th>31527</th>\n",
       "      <th>31528</th>\n",
       "      <th>31529</th>\n",
       "      <th>31530</th>\n",
       "    </tr>\n",
       "    <tr>\n",
       "      <th>date</th>\n",
       "      <th></th>\n",
       "      <th></th>\n",
       "      <th></th>\n",
       "      <th></th>\n",
       "      <th></th>\n",
       "      <th></th>\n",
       "      <th></th>\n",
       "      <th></th>\n",
       "      <th></th>\n",
       "      <th></th>\n",
       "      <th></th>\n",
       "      <th></th>\n",
       "      <th></th>\n",
       "      <th></th>\n",
       "      <th></th>\n",
       "      <th></th>\n",
       "      <th></th>\n",
       "      <th></th>\n",
       "      <th></th>\n",
       "      <th></th>\n",
       "      <th></th>\n",
       "    </tr>\n",
       "  </thead>\n",
       "  <tbody>\n",
       "    <tr>\n",
       "      <th>2017-04-03</th>\n",
       "      <td>0.22</td>\n",
       "      <td>-2.59</td>\n",
       "      <td>-5.71</td>\n",
       "      <td>-7.00</td>\n",
       "      <td>-5.09</td>\n",
       "      <td>-0.56</td>\n",
       "      <td>4.23</td>\n",
       "      <td>6.54</td>\n",
       "      <td>4.93</td>\n",
       "      <td>0.11</td>\n",
       "      <td>...</td>\n",
       "      <td>1.66</td>\n",
       "      <td>-0.48</td>\n",
       "      <td>-2.69</td>\n",
       "      <td>-3.93</td>\n",
       "      <td>-3.67</td>\n",
       "      <td>-2.2</td>\n",
       "      <td>-0.39</td>\n",
       "      <td>0.89</td>\n",
       "      <td>1.23</td>\n",
       "      <td>0.91</td>\n",
       "    </tr>\n",
       "    <tr>\n",
       "      <th>2017-04-04</th>\n",
       "      <td>0.22</td>\n",
       "      <td>-2.59</td>\n",
       "      <td>-5.71</td>\n",
       "      <td>-7.00</td>\n",
       "      <td>-5.09</td>\n",
       "      <td>-0.56</td>\n",
       "      <td>4.23</td>\n",
       "      <td>6.54</td>\n",
       "      <td>4.93</td>\n",
       "      <td>0.11</td>\n",
       "      <td>...</td>\n",
       "      <td>1.66</td>\n",
       "      <td>-0.48</td>\n",
       "      <td>-2.69</td>\n",
       "      <td>-3.93</td>\n",
       "      <td>-3.67</td>\n",
       "      <td>-2.2</td>\n",
       "      <td>-0.39</td>\n",
       "      <td>0.89</td>\n",
       "      <td>1.23</td>\n",
       "      <td>0.91</td>\n",
       "    </tr>\n",
       "    <tr>\n",
       "      <th>2017-04-05</th>\n",
       "      <td>-0.40</td>\n",
       "      <td>-3.30</td>\n",
       "      <td>-6.13</td>\n",
       "      <td>-6.83</td>\n",
       "      <td>-4.32</td>\n",
       "      <td>0.50</td>\n",
       "      <td>5.10</td>\n",
       "      <td>6.83</td>\n",
       "      <td>4.56</td>\n",
       "      <td>-0.67</td>\n",
       "      <td>...</td>\n",
       "      <td>1.81</td>\n",
       "      <td>-0.13</td>\n",
       "      <td>-2.33</td>\n",
       "      <td>-3.77</td>\n",
       "      <td>-3.83</td>\n",
       "      <td>-2.6</td>\n",
       "      <td>-0.80</td>\n",
       "      <td>0.69</td>\n",
       "      <td>1.33</td>\n",
       "      <td>1.16</td>\n",
       "    </tr>\n",
       "    <tr>\n",
       "      <th>2017-04-06</th>\n",
       "      <td>-0.40</td>\n",
       "      <td>-2.60</td>\n",
       "      <td>-5.71</td>\n",
       "      <td>-6.84</td>\n",
       "      <td>-4.62</td>\n",
       "      <td>0.19</td>\n",
       "      <td>4.95</td>\n",
       "      <td>6.80</td>\n",
       "      <td>4.50</td>\n",
       "      <td>-0.83</td>\n",
       "      <td>...</td>\n",
       "      <td>1.81</td>\n",
       "      <td>-0.13</td>\n",
       "      <td>-2.33</td>\n",
       "      <td>-3.77</td>\n",
       "      <td>-3.83</td>\n",
       "      <td>-2.6</td>\n",
       "      <td>-0.80</td>\n",
       "      <td>0.69</td>\n",
       "      <td>1.33</td>\n",
       "      <td>1.16</td>\n",
       "    </tr>\n",
       "    <tr>\n",
       "      <th>2017-04-07</th>\n",
       "      <td>0.04</td>\n",
       "      <td>-2.69</td>\n",
       "      <td>-5.59</td>\n",
       "      <td>-6.61</td>\n",
       "      <td>-4.52</td>\n",
       "      <td>0.01</td>\n",
       "      <td>4.61</td>\n",
       "      <td>6.64</td>\n",
       "      <td>4.78</td>\n",
       "      <td>-0.16</td>\n",
       "      <td>...</td>\n",
       "      <td>1.81</td>\n",
       "      <td>-0.13</td>\n",
       "      <td>-2.33</td>\n",
       "      <td>-3.77</td>\n",
       "      <td>-3.83</td>\n",
       "      <td>-2.6</td>\n",
       "      <td>-0.80</td>\n",
       "      <td>0.69</td>\n",
       "      <td>1.33</td>\n",
       "      <td>1.16</td>\n",
       "    </tr>\n",
       "  </tbody>\n",
       "</table>\n",
       "<p>5 rows × 21531 columns</p>\n",
       "</div>"
      ],
      "text/plain": [
       "kilo        10000  10001  10002  10003  10004  10005  10006  10007  10008  \\\n",
       "date                                                                        \n",
       "2017-04-03   0.22  -2.59  -5.71  -7.00  -5.09  -0.56   4.23   6.54   4.93   \n",
       "2017-04-04   0.22  -2.59  -5.71  -7.00  -5.09  -0.56   4.23   6.54   4.93   \n",
       "2017-04-05  -0.40  -3.30  -6.13  -6.83  -4.32   0.50   5.10   6.83   4.56   \n",
       "2017-04-06  -0.40  -2.60  -5.71  -6.84  -4.62   0.19   4.95   6.80   4.50   \n",
       "2017-04-07   0.04  -2.69  -5.59  -6.61  -4.52   0.01   4.61   6.64   4.78   \n",
       "\n",
       "kilo        10009  ...    31521  31522  31523  31524  31525  31526  31527  \\\n",
       "date               ...                                                      \n",
       "2017-04-03   0.11  ...     1.66  -0.48  -2.69  -3.93  -3.67   -2.2  -0.39   \n",
       "2017-04-04   0.11  ...     1.66  -0.48  -2.69  -3.93  -3.67   -2.2  -0.39   \n",
       "2017-04-05  -0.67  ...     1.81  -0.13  -2.33  -3.77  -3.83   -2.6  -0.80   \n",
       "2017-04-06  -0.83  ...     1.81  -0.13  -2.33  -3.77  -3.83   -2.6  -0.80   \n",
       "2017-04-07  -0.16  ...     1.81  -0.13  -2.33  -3.77  -3.83   -2.6  -0.80   \n",
       "\n",
       "kilo        31528  31529  31530  \n",
       "date                             \n",
       "2017-04-03   0.89   1.23   0.91  \n",
       "2017-04-04   0.89   1.23   0.91  \n",
       "2017-04-05   0.69   1.33   1.16  \n",
       "2017-04-06   0.69   1.33   1.16  \n",
       "2017-04-07   0.69   1.33   1.16  \n",
       "\n",
       "[5 rows x 21531 columns]"
      ]
     },
     "execution_count": 39,
     "metadata": {},
     "output_type": "execute_result"
    }
   ],
   "source": [
    "track_pv.head()"
   ]
  },
  {
   "cell_type": "code",
   "execution_count": 40,
   "metadata": {},
   "outputs": [],
   "source": [
    "track_pv_tgt = track_pv.iloc[side_len:, side_len_half:-side_len_half]"
   ]
  },
  {
   "cell_type": "code",
   "execution_count": 41,
   "metadata": {},
   "outputs": [],
   "source": [
    "div_data = np.empty((track_pv_tgt.shape[1], 1, side_len, side_len))\n",
    "row_num = 0\n",
    "for col_num in range(track_pv_tgt.shape[1]):\n",
    "    div_tmp = track_pv.values[row_num:row_num+side_len, col_num:col_num+side_len]\n",
    "    div_data[col_num] = div_tmp.reshape(1, side_len, side_len)"
   ]
  },
  {
   "cell_type": "code",
   "execution_count": 42,
   "metadata": {},
   "outputs": [],
   "source": [
    "div_label = track_pv_tgt.values[0,:]"
   ]
  },
  {
   "cell_type": "code",
   "execution_count": 43,
   "metadata": {},
   "outputs": [],
   "source": [
    "import torch\n",
    "import torch.nn as nn\n",
    "import torch.nn.functional as F\n",
    "import torch.optim as optim\n",
    "import torch.utils.data as data\n",
    "from sklearn import model_selection"
   ]
  },
  {
   "cell_type": "code",
   "execution_count": 44,
   "metadata": {},
   "outputs": [
    {
     "name": "stdout",
     "output_type": "stream",
     "text": [
      "device cpu\n"
     ]
    }
   ],
   "source": [
    "device = torch.device(\"cuda\" if torch.cuda.is_available() else \"cpu\")\n",
    "print(\"device\", device)\n",
    "\n",
    "torch.manual_seed(0)\n",
    "\n",
    "batch_size = 100\n",
    "num_classes = 1\n",
    "epochs = 20"
   ]
  },
  {
   "cell_type": "code",
   "execution_count": 45,
   "metadata": {},
   "outputs": [],
   "source": [
    "x_train, x_test, y_train, y_test = model_selection.train_test_split(div_data, div_label, test_size=1/7, random_state=0)\n",
    "\n",
    "# x_train = x_train.astype('double')\n",
    "# x_test = x_test.astype('double')\n",
    "# y_train = y_train.astype('float')\n",
    "# y_test = y_test.astype('float')"
   ]
  },
  {
   "cell_type": "code",
   "execution_count": 46,
   "metadata": {},
   "outputs": [],
   "source": [
    "ds_train = data.TensorDataset(torch.from_numpy(x_train), torch.from_numpy(y_train))\n",
    "ds_test  = data.TensorDataset(torch.from_numpy(x_test), torch.from_numpy(y_test))"
   ]
  },
  {
   "cell_type": "code",
   "execution_count": 47,
   "metadata": {},
   "outputs": [],
   "source": [
    "dataloader_train = data.DataLoader(dataset=ds_train, batch_size=batch_size, shuffle=True)\n",
    "dataloader_test = data.DataLoader(dataset=ds_test, batch_size=batch_size, shuffle=False)"
   ]
  },
  {
   "cell_type": "code",
   "execution_count": 48,
   "metadata": {},
   "outputs": [],
   "source": [
    "class CNNModel (nn.Module):\n",
    "    def __init__(self):\n",
    "        super(CNNModel, self).__init__()\n",
    " \n",
    "        self.conv1 = nn.Conv2d(1, 32, 3, padding=1)\n",
    "        self.conv2 = nn.Conv2d(32, 64, 3, padding=1)\n",
    " \n",
    "        self.dropout1 = nn.Dropout2d(0.25)\n",
    "        self.dropout2 = nn.Dropout2d(0.5)\n",
    " \n",
    "        self.fc1 = nn.Linear(64*14*14, 128)\n",
    "        self.fc2 = nn.Linear(128, num_classes)\n",
    " \n",
    " \n",
    "    def forward(self, x):\n",
    "        x = x.float()\n",
    "        x = F.relu(self.conv1(x))\n",
    "        x = F.relu(self.conv2(x))\n",
    "        x = F.max_pool2d(x, (2, 2))\n",
    "        x = self.dropout1(x)\n",
    " \n",
    "        x = x.view(-1, 64*14*14)\n",
    " \n",
    "        x = F.relu(self.fc1(x))\n",
    "        x = self.dropout2(x)\n",
    "        return F.relu(self.fc2(x))"
   ]
  },
  {
   "cell_type": "code",
   "execution_count": 49,
   "metadata": {},
   "outputs": [],
   "source": [
    "model = CNNModel().to(device)"
   ]
  },
  {
   "cell_type": "code",
   "execution_count": 50,
   "metadata": {},
   "outputs": [
    {
     "name": "stdout",
     "output_type": "stream",
     "text": [
      "CNNModel(\n",
      "  (conv1): Conv2d(1, 32, kernel_size=(3, 3), stride=(1, 1), padding=(1, 1))\n",
      "  (conv2): Conv2d(32, 64, kernel_size=(3, 3), stride=(1, 1), padding=(1, 1))\n",
      "  (dropout1): Dropout2d(p=0.25)\n",
      "  (dropout2): Dropout2d(p=0.5)\n",
      "  (fc1): Linear(in_features=12544, out_features=128, bias=True)\n",
      "  (fc2): Linear(in_features=128, out_features=1, bias=True)\n",
      ")\n"
     ]
    }
   ],
   "source": [
    "print(model)"
   ]
  },
  {
   "cell_type": "code",
   "execution_count": 51,
   "metadata": {},
   "outputs": [],
   "source": [
    "criterion = nn.L1Loss()\n",
    "optimizer = optim.SGD(model.parameters(), lr=0.01, momentum=0.5)"
   ]
  },
  {
   "cell_type": "code",
   "execution_count": 52,
   "metadata": {},
   "outputs": [],
   "source": [
    "global_step = 0\n",
    " \n",
    "def train(epoch):#, writer):\n",
    "    model.train()\n",
    "    steps = len(ds_train)//batch_size\n",
    "    for step, (images, labels) in enumerate(dataloader_train, 1):\n",
    "        global global_step\n",
    "        global_step += 1\n",
    "        images, labels = images.to(device), labels.to(device)\n",
    "        labels = labels.type(torch.LongTensor)\n",
    " \n",
    "        optimizer.zero_grad()\n",
    "        outputs = model(images)\n",
    "        loss = criterion(outputs, labels.float())\n",
    "        loss.backward()\n",
    "        optimizer.step()\n",
    " \n",
    "        if step % 100 == 0:\n",
    "            print ('Epoch [%d/%d], Step [%d/%d], Loss: %.4f' % (epoch, epochs, step, steps, loss.item()))\n",
    "#             writer.add_scalar('train/train_loss', loss.item() , global_step)"
   ]
  },
  {
   "cell_type": "code",
   "execution_count": 53,
   "metadata": {},
   "outputs": [],
   "source": [
    "def eval(epoch):#, writer):\n",
    "    model.eval()\n",
    "    abs_err_sum = 0\n",
    "    total = 0\n",
    "    with torch.no_grad():\n",
    "        for (images, labels) in dataloader_test:\n",
    "            images, labels = images.to(device), labels.to(device)\n",
    "#             labels = labels.type(torch.LongTensor)\n",
    " \n",
    "            outputs = model(images)\n",
    "#             _, predicted = torch.max(outputs.data, 1)\n",
    "            abs_err_sum += abs(outputs - labels).sum()\n",
    "            total += labels.size(0)\n",
    " \n",
    "    print(\"Val Acc : %.4f\" % (abs_err_sum/total))\n",
    "#     writer.add_scalar('eval/val_acc', correct*100/total, epoch)"
   ]
  },
  {
   "cell_type": "code",
   "execution_count": 54,
   "metadata": {},
   "outputs": [
    {
     "name": "stdout",
     "output_type": "stream",
     "text": [
      "Epoch [1/20], Step [100/184], Loss: 0.9100\n",
      "Val Acc : 139.2855\n",
      "Epoch [2/20], Step [100/184], Loss: 1.1500\n",
      "Val Acc : 139.2855\n",
      "Epoch [3/20], Step [100/184], Loss: 1.2000\n",
      "Val Acc : 139.2855\n",
      "Epoch [4/20], Step [100/184], Loss: 1.1000\n",
      "Val Acc : 139.2855\n",
      "Epoch [5/20], Step [100/184], Loss: 1.0000\n",
      "Val Acc : 139.2855\n",
      "Epoch [6/20], Step [100/184], Loss: 1.1200\n",
      "Val Acc : 139.2855\n",
      "Epoch [7/20], Step [100/184], Loss: 1.1600\n",
      "Val Acc : 139.2855\n",
      "Epoch [8/20], Step [100/184], Loss: 0.9300\n",
      "Val Acc : 139.2855\n",
      "Epoch [9/20], Step [100/184], Loss: 1.1400\n",
      "Val Acc : 139.2855\n",
      "Epoch [10/20], Step [100/184], Loss: 1.3400\n",
      "Val Acc : 139.2855\n",
      "Epoch [11/20], Step [100/184], Loss: 0.9400\n",
      "Val Acc : 139.2855\n",
      "Epoch [12/20], Step [100/184], Loss: 0.7400\n",
      "Val Acc : 139.2855\n",
      "Epoch [13/20], Step [100/184], Loss: 1.0100\n",
      "Val Acc : 139.2855\n",
      "Epoch [14/20], Step [100/184], Loss: 0.9400\n",
      "Val Acc : 139.2855\n",
      "Epoch [15/20], Step [100/184], Loss: 1.0000\n",
      "Val Acc : 139.2855\n",
      "Epoch [16/20], Step [100/184], Loss: 1.1300\n",
      "Val Acc : 139.2855\n",
      "Epoch [17/20], Step [100/184], Loss: 1.1600\n",
      "Val Acc : 139.2855\n",
      "Epoch [18/20], Step [100/184], Loss: 0.6800\n",
      "Val Acc : 139.2855\n",
      "Epoch [19/20], Step [100/184], Loss: 0.9700\n",
      "Val Acc : 139.2855\n",
      "Epoch [20/20], Step [100/184], Loss: 1.0400\n",
      "Val Acc : 139.2855\n"
     ]
    }
   ],
   "source": [
    "# from tensorboardX import SummaryWriter\n",
    "# writer = SummaryWriter()\n",
    " \n",
    "for epoch in range(1, epochs+1):\n",
    "    train(epoch)#, writer)\n",
    "    eval(epoch)#, writer)\n",
    " \n",
    "# writer.close()"
   ]
  },
  {
   "cell_type": "code",
   "execution_count": null,
   "metadata": {},
   "outputs": [],
   "source": []
  },
  {
   "cell_type": "code",
   "execution_count": null,
   "metadata": {},
   "outputs": [],
   "source": []
  },
  {
   "cell_type": "code",
   "execution_count": null,
   "metadata": {},
   "outputs": [],
   "source": []
  }
 ],
 "metadata": {
  "kernelspec": {
   "display_name": "Python 3",
   "language": "python",
   "name": "python3"
  },
  "language_info": {
   "codemirror_mode": {
    "name": "ipython",
    "version": 3
   },
   "file_extension": ".py",
   "mimetype": "text/x-python",
   "name": "python",
   "nbconvert_exporter": "python",
   "pygments_lexer": "ipython3",
   "version": "3.6.7"
  }
 },
 "nbformat": 4,
 "nbformat_minor": 2
}
