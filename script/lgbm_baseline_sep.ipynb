{
 "cells": [
  {
   "cell_type": "markdown",
   "metadata": {},
   "source": [
    "# LightGBM Baseline Model\n",
    "\n",
    "make models for each route(A, B, C, D) and prediction period(predict 2 weeks ahead, 4 weeks ahead, ...)\n",
    "\n",
    "## Dateset\n",
    "- [diff value from previous day](https://github.com/hiroshi-kuriyama/rail_level_gap/issues/2) of [rolling mean over days](https://github.com/hiroshi-kuriyama/rail_level_gap/issues/4)\n",
    "## Target Variable\n",
    "- vel_l values X weeks ahead (X = 2,4,6,8)\n",
    "## Features\n",
    "\n",
    "- track variables\n",
    "  - present lev_l value\n",
    "  - mean and variance of recent lev_l value\n",
    "  - mean and variance of recent days and whole year values of track data\n",
    "- equipment variables\n",
    "  - row value of equipment variables\n",
    "- seasonal variables\n",
    "  - date (encoded by trigonometric function)\n",
    "  - holiday dummy"
   ]
  },
  {
   "cell_type": "code",
   "execution_count": 3,
   "metadata": {},
   "outputs": [],
   "source": [
    "import os\n",
    "import pickle\n",
    "import numpy as np\n",
    "import pandas as pd\n",
    "import datetime\n",
    "import matplotlib.pyplot as plt\n",
    "from sklearn.model_selection import train_test_split, GridSearchCV\n",
    "from sklearn.metrics import mean_absolute_error\n",
    "import lightgbm as lgb\n",
    "from hyperopt import hp, tpe, Trials, fmin\n",
    "%matplotlib inline\n",
    "# from utils import data_process as dp"
   ]
  },
  {
   "cell_type": "code",
   "execution_count": 4,
   "metadata": {},
   "outputs": [],
   "source": [
    "input_dir = '../input/'\n",
    "working_dir = '../working/'\n",
    "output_dir = '../output/'"
   ]
  },
  {
   "cell_type": "markdown",
   "metadata": {},
   "source": [
    "## Read data"
   ]
  },
  {
   "cell_type": "code",
   "execution_count": 5,
   "metadata": {},
   "outputs": [],
   "source": [
    "sleeper_type_dict = {\n",
    "    1: 'pc',\n",
    "    2: 'wooden',\n",
    "    3: 'junction',\n",
    "    4: 'short',\n",
    "    5: 'synthetic',\n",
    "    6: 'synth_junc',\n",
    "    7: 'symth_short',\n",
    "    8: 'other'\n",
    "}"
   ]
  },
  {
   "cell_type": "code",
   "execution_count": 6,
   "metadata": {},
   "outputs": [],
   "source": [
    "def read_track(line_name='a'):\n",
    "    track_df = pd.read_csv(os.path.join(input_dir, 'track_{}.csv'.format(line_name.upper())))\n",
    "    col_names_track = ['date', 'kilo', 'lev_l', 'lev_r', 'cur_l', 'cur_r', 'cant', 'width', 'speed']\n",
    "    track_df.columns = col_names_track\n",
    "    track_df['date'] = pd.to_datetime(track_df['date'])\n",
    "    track_df['kilo'] = track_df['kilo'].astype('str')\n",
    "    print('track_{line_name} shape: {shape}'.format(line_name=line_name.upper(), shape=track_df.shape))\n",
    "    return track_df"
   ]
  },
  {
   "cell_type": "code",
   "execution_count": 7,
   "metadata": {},
   "outputs": [],
   "source": [
    "def read_equ(line_name='a'):\n",
    "    equ_df = pd.read_csv(os.path.join(input_dir, 'equipment_{}.csv'.format(line_name.upper())))\n",
    "    col_names_equ = ['kilo', 'is_ballast', 'is_long', 'sleeper_type', 'is_bridge', 'is_crossing', 'gross_ton', 'radius', 'is_unreliable']\n",
    "    equ_df.columns = col_names_equ\n",
    "    equ_df['kilo'] = equ_df['kilo'].astype('str')\n",
    "    equ_df['sleeper_type'] = equ_df['sleeper_type'].replace(sleeper_type_dict).astype('category')\n",
    "    print('equ_{line_name} shape: {shape}'.format(line_name=line_name.upper(), shape=equ_df.shape))\n",
    "    return equ_df"
   ]
  },
  {
   "cell_type": "code",
   "execution_count": 8,
   "metadata": {},
   "outputs": [],
   "source": [
    "# degrade data types to save memory\n",
    "def degrade_dtypes(df):\n",
    "    for col in df.columns:\n",
    "        if df[col].dtype=='int64':\n",
    "            df[col] = df[col].astype('int32')\n",
    "        if df[col].dtype=='float64':\n",
    "            df[col] = df[col].astype('float32')\n",
    "    return df"
   ]
  },
  {
   "cell_type": "code",
   "execution_count": 9,
   "metadata": {},
   "outputs": [],
   "source": [
    "abcd = 'd'"
   ]
  },
  {
   "cell_type": "code",
   "execution_count": 10,
   "metadata": {},
   "outputs": [
    {
     "name": "stdout",
     "output_type": "stream",
     "text": [
      "track_D shape: (5601687, 9)\n",
      "equ_D shape: (15691, 9)\n"
     ]
    }
   ],
   "source": [
    "track = read_track(abcd)\n",
    "track = degrade_dtypes(track)\n",
    "equ = read_equ(abcd)\n",
    "equ = degrade_dtypes(equ)"
   ]
  },
  {
   "cell_type": "code",
   "execution_count": 11,
   "metadata": {},
   "outputs": [],
   "source": [
    "# sample_submit = pd.read_csv(os.path.join(input_dir, 'sample_submit.csv'), header=None)\n",
    "index_master = pd.read_csv(os.path.join(input_dir, 'index_master.csv'))\n",
    "index_master.columns = ['id', 'line_name', 'date', 'kilo']\n",
    "index_master['date'] = pd.to_datetime(index_master['date'])\n",
    "index_master['kilo'] = index_master['kilo'].astype('str')"
   ]
  },
  {
   "cell_type": "markdown",
   "metadata": {},
   "source": [
    "## Data Processing\n",
    "### rolling average, diff"
   ]
  },
  {
   "cell_type": "code",
   "execution_count": 12,
   "metadata": {},
   "outputs": [],
   "source": [
    "# rolling average params\n",
    "roll_params = {\n",
    "    'A': {'window': 21, 'min_periods': 14},\n",
    "    'B': {'window': 14, 'min_periods': 7},\n",
    "    'C': {'window': 14, 'min_periods': 7},\n",
    "    'D': {'window': 14, 'min_periods': 7}\n",
    "}"
   ]
  },
  {
   "cell_type": "code",
   "execution_count": 13,
   "metadata": {},
   "outputs": [],
   "source": [
    "def roll_pv(track, abcd):\n",
    "    # pivot: row is date, col is kilo\n",
    "    lev_pv = track.pivot(index='date', columns='kilo', values='lev_l')\n",
    "    lev_pv.columns = lev_pv.columns.astype('str')\n",
    "    # rolling average\n",
    "    lev_pv_ra = lev_pv.rolling(**roll_params[abcd.upper()], center=False, axis=0).mean()\n",
    "    return lev_pv_ra"
   ]
  },
  {
   "cell_type": "code",
   "execution_count": 14,
   "metadata": {},
   "outputs": [],
   "source": [
    "lev_pv_ra = roll_pv(track, abcd)"
   ]
  },
  {
   "cell_type": "code",
   "execution_count": 15,
   "metadata": {},
   "outputs": [],
   "source": [
    "# diff\n",
    "lev_pv_ra_diff = lev_pv_ra.diff()\n",
    "# reverse pivot\n",
    "lev_ra_diff = pd.melt(lev_pv_ra_diff.reset_index(), id_vars='date', value_name='lev_l_diff')  "
   ]
  },
  {
   "cell_type": "markdown",
   "metadata": {},
   "source": [
    "## Target variable"
   ]
  },
  {
   "cell_type": "code",
   "execution_count": 16,
   "metadata": {},
   "outputs": [],
   "source": [
    "def make_tgt(lev_ra_diff):\n",
    "    lev_ra_diff_tgt_tmp = lev_ra_diff.copy()\n",
    "    lev_ra_diff_tgt_tmp['date_tgt'] = lev_ra_diff_tgt_tmp['date']\n",
    "    lev_ra_diff_tgt_tmp['date'] = lev_ra_diff_tgt_tmp['date'] - datetime.timedelta(days=1)\n",
    "    lev_ra_diff_tgt = lev_ra_diff_tgt_tmp.rename(columns={'lev_l_diff': 'lev_l_diff_tgt'})\n",
    "    return lev_ra_diff_tgt"
   ]
  },
  {
   "cell_type": "code",
   "execution_count": 17,
   "metadata": {},
   "outputs": [],
   "source": [
    "lev_ra_diff_tgt = make_tgt(lev_ra_diff)"
   ]
  },
  {
   "cell_type": "markdown",
   "metadata": {},
   "source": [
    "## Feature processing"
   ]
  },
  {
   "cell_type": "code",
   "execution_count": 18,
   "metadata": {},
   "outputs": [],
   "source": [
    "def whole_mean(track):\n",
    "    track_whole_mean = track.groupby('kilo').mean()\n",
    "    track_whole_mean.columns = [i + '_w_mean' for i in track_whole_mean.columns]\n",
    "    track_whole_mean = track_whole_mean.reset_index()\n",
    "    track_whole_mean['kilo'] = track_whole_mean['kilo'].astype(str)\n",
    "    return track_whole_mean"
   ]
  },
  {
   "cell_type": "code",
   "execution_count": 19,
   "metadata": {},
   "outputs": [],
   "source": [
    "def whole_std(track):\n",
    "    track_whole_mean = track.groupby('kilo').std()\n",
    "    track_whole_mean.columns = [i + '_w_std' for i in track_whole_mean.columns]\n",
    "    track_whole_mean = track_whole_mean.reset_index()\n",
    "    track_whole_mean['kilo'] = track_whole_mean['kilo'].astype(str)\n",
    "    return track_whole_mean"
   ]
  },
  {
   "cell_type": "code",
   "execution_count": 20,
   "metadata": {},
   "outputs": [],
   "source": [
    "track_whole_mean = whole_mean(track)\n",
    "track_whole_std = whole_std(track)\n",
    "track_diff_whole_mean = whole_mean(lev_ra_diff)\n",
    "track_diff_whole_std = whole_std(lev_ra_diff)"
   ]
  },
  {
   "cell_type": "markdown",
   "metadata": {},
   "source": [
    "## Merge Dataset"
   ]
  },
  {
   "cell_type": "code",
   "execution_count": 21,
   "metadata": {},
   "outputs": [],
   "source": [
    "def make_seasonal_series(df):\n",
    "    day_cnts = df['date'] - datetime.datetime(2017, 5, 1)\n",
    "    day_cnts = day_cnts.dt.days\n",
    "    return np.sin(2 * np.pi * day_cnts / 365)"
   ]
  },
  {
   "cell_type": "code",
   "execution_count": 22,
   "metadata": {},
   "outputs": [],
   "source": [
    "def merge_features_by_kilo(df):\n",
    "    df = df.merge(track_whole_mean, on='kilo')\n",
    "    df = df.merge(track_whole_std, on='kilo')\n",
    "    df = df.merge(track_diff_whole_mean, on='kilo')\n",
    "    df = df.merge(track_diff_whole_std, on='kilo')\n",
    "    df = df.merge(equ, on='kilo')\n",
    "    return df"
   ]
  },
  {
   "cell_type": "code",
   "execution_count": 23,
   "metadata": {},
   "outputs": [],
   "source": [
    "# copy target df\n",
    "data_all_tmp = lev_ra_diff_tgt.copy()\n",
    "# merge features\n",
    "data_all_tmp = data_all_tmp.merge(lev_ra_diff, on=['date', 'kilo'])\n",
    "data_all_tmp = data_all_tmp.merge(track[['date', 'kilo', 'lev_l']], on=['date', 'kilo'])\n",
    "\n",
    "data_all_tmp['sin_date'] = make_seasonal_series(data_all_tmp)\n",
    "\n",
    "data_all_tmp = merge_features_by_kilo(data_all_tmp)\n",
    "\n",
    "data_all_tmp = data_all_tmp.dropna(how='any', axis=0, subset=['lev_l_diff_tgt', 'lev_l_diff'])\n",
    "\n",
    "data_all = data_all_tmp#.query('date<\"2018-03-19\"')\n",
    "del data_all_tmp\n",
    "# del lev_ra_diff_tgt, lev_ra_diff, track_whole_mean, data_all_tmp, track, equ"
   ]
  },
  {
   "cell_type": "code",
   "execution_count": 24,
   "metadata": {},
   "outputs": [],
   "source": [
    "# keep the oreder of X columns\n",
    "global data_all_col_order\n",
    "data_all_col_order = data_all.columns"
   ]
  },
  {
   "cell_type": "markdown",
   "metadata": {},
   "source": [
    "## Make Dataset"
   ]
  },
  {
   "cell_type": "code",
   "execution_count": 25,
   "metadata": {},
   "outputs": [],
   "source": [
    "def X_y_split(data, tgt_col='lev_l_diff_tgt', index_cols=['date', 'date_tgt', 'kilo']):\n",
    "    data = data.set_index(index_cols)\n",
    "    y = data[tgt_col]\n",
    "    X = data.drop(tgt_col, axis=1)\n",
    "    return X, y"
   ]
  },
  {
   "cell_type": "code",
   "execution_count": 26,
   "metadata": {},
   "outputs": [],
   "source": [
    "# split train and test\n",
    "threshold_date = '2018-01-01'\n",
    "X_dev, y_dev = X_y_split(data_all.query('date<\"{}\"'.format(threshold_date)))\n",
    "X_val, y_val = X_y_split(data_all.query('date>\"{}\"'.format(threshold_date)))"
   ]
  },
  {
   "cell_type": "markdown",
   "metadata": {},
   "source": [
    "## Train"
   ]
  },
  {
   "cell_type": "code",
   "execution_count": 27,
   "metadata": {},
   "outputs": [],
   "source": [
    "hyperopt_params = {\n",
    "    'bagging_freq': hp.uniform('bagging_freq', 0, 15),\n",
    "    'feature_fraction': hp.uniform('feature_fraction', 0.05, 1),\n",
    "    'learning_rate': hp.uniform('learning_rate', 0.01, 0.75),\n",
    "    'min_child_samples': hp.uniform('min_child_samples', 300, 600),\n",
    "    'num_leaves': hp.uniform('num_leaves', 10, 500),\n",
    "}"
   ]
  },
  {
   "cell_type": "raw",
   "metadata": {},
   "source": [
    "{'bagging_freq': 3,\n",
    " 'feature_fraction': 0.8659397926310533,\n",
    " 'learning_rate': 0.025963016972577434,\n",
    " 'min_child_samples': 437,\n",
    " 'num_leaves': 315}"
   ]
  },
  {
   "cell_type": "code",
   "execution_count": 28,
   "metadata": {},
   "outputs": [],
   "source": [
    "fit_params = {\n",
    "    'early_stopping_rounds':30,\n",
    "    'eval_set':[(X_val, y_val)],\n",
    "    'eval_metric': 'mean_absolute_error',\n",
    "    'verbose': False\n",
    "}"
   ]
  },
  {
   "cell_type": "code",
   "execution_count": 29,
   "metadata": {},
   "outputs": [],
   "source": [
    "# float to int\n",
    "tobe_int_params = ['num_leaves', 'min_child_samples', 'bagging_freq']\n",
    "def int_param_encoder(params):\n",
    "    for param in tobe_int_params:\n",
    "        if param in params:\n",
    "            params[param] = int(params[param])\n",
    "    return params"
   ]
  },
  {
   "cell_type": "code",
   "execution_count": 30,
   "metadata": {},
   "outputs": [],
   "source": [
    "num_evals_i = 0\n",
    "def objective(hyperopt_params):\n",
    "    # パラメータを適切な型(int)に変換\n",
    "    hyperopt_params = int_param_encoder(hyperopt_params)\n",
    "    # モデルのインスタンス化\n",
    "    model = lgb.LGBMRegressor(**hyperopt_params, objective='mean_absolute_error', n_estimators=1000, random_state=0)\n",
    "    # trainデータを使ってモデルの学習\n",
    "    model.fit(X_dev, y_dev, **fit_params)\n",
    "    # validationデータを使用して、ラベルの予測\n",
    "    y_val_pred = model.predict(X_val, num_iteration=model.best_iteration_)\n",
    "    # 予測ラベルと正解ラベルを使用してMAEを計算\n",
    "    mae_score = mean_absolute_error(y_val, y_val_pred)\n",
    "    global num_evals_i\n",
    "    num_evals_i += 1\n",
    "    print('[{num_evals}] best_ite: {best_ite}\\tMAE: {mae_score}'.format(num_evals=str(num_evals_i).zfill(4), mae_score=mae_score, best_ite=model.best_iteration_))\n",
    "    return mae_score"
   ]
  },
  {
   "cell_type": "code",
   "execution_count": 31,
   "metadata": {},
   "outputs": [
    {
     "name": "stdout",
     "output_type": "stream",
     "text": [
      "[0001] best_ite: 13\tMAE: 0.026224825768839714\n",
      "[0002] best_ite: 8\tMAE: 0.026314535833109148\n",
      "[0003] best_ite: 16\tMAE: 0.02631500812353662\n",
      "[0004] best_ite: 30\tMAE: 0.02615527416569752\n",
      "[0005] best_ite: 51\tMAE: 0.026232346309677326\n",
      "[0006] best_ite: 21\tMAE: 0.026234741665978972\n",
      "[0007] best_ite: 18\tMAE: 0.026357303847521024\n",
      "[0008] best_ite: 37\tMAE: 0.02625604019995321\n",
      "[0009] best_ite: 1\tMAE: 0.026530185511504004\n",
      "[0010] best_ite: 8\tMAE: 0.026192608504176013\n",
      "[0011] best_ite: 20\tMAE: 0.026258464890900515\n",
      "[0012] best_ite: 171\tMAE: 0.026123826198257465\n",
      "[0013] best_ite: 18\tMAE: 0.026330253199105754\n",
      "[0014] best_ite: 6\tMAE: 0.026236317975642177\n",
      "[0015] best_ite: 10\tMAE: 0.02622581639952971\n",
      "[0016] best_ite: 24\tMAE: 0.02621596625189655\n",
      "[0017] best_ite: 3\tMAE: 0.026530185511504004\n",
      "[0018] best_ite: 125\tMAE: 0.02621154392252421\n",
      "[0019] best_ite: 61\tMAE: 0.026213092695409283\n",
      "[0020] best_ite: 47\tMAE: 0.026205049083293738\n",
      "[0021] best_ite: 37\tMAE: 0.02623896235143379\n",
      "[0022] best_ite: 63\tMAE: 0.026283254892989584\n",
      "[0023] best_ite: 30\tMAE: 0.026186122630657727\n",
      "[0024] best_ite: 80\tMAE: 0.026200136609342544\n",
      "[0025] best_ite: 80\tMAE: 0.026440720048307265\n",
      "[0026] best_ite: 42\tMAE: 0.02626451561004022\n",
      "[0027] best_ite: 25\tMAE: 0.026149849090385313\n",
      "[0028] best_ite: 25\tMAE: 0.026152213609100264\n",
      "[0029] best_ite: 67\tMAE: 0.0262819734387142\n",
      "[0030] best_ite: 13\tMAE: 0.026385031546084646\n",
      "[0031] best_ite: 16\tMAE: 0.026282962189314668\n",
      "[0032] best_ite: 10\tMAE: 0.026299628196166016\n",
      "[0033] best_ite: 82\tMAE: 0.026170291895210213\n",
      "[0034] best_ite: 37\tMAE: 0.026347690753229663\n",
      "[0035] best_ite: 15\tMAE: 0.026189071526052307\n",
      "[0036] best_ite: 25\tMAE: 0.026305215608618194\n",
      "[0037] best_ite: 28\tMAE: 0.02622473574196057\n",
      "[0038] best_ite: 115\tMAE: 0.026173963999940934\n",
      "[0039] best_ite: 31\tMAE: 0.02625595906535432\n",
      "[0040] best_ite: 13\tMAE: 0.026282802737254418\n",
      "[0041] best_ite: 1\tMAE: 0.026530185511504004\n",
      "[0042] best_ite: 86\tMAE: 0.026233359244931833\n",
      "[0043] best_ite: 8\tMAE: 0.026320984601706645\n",
      "[0044] best_ite: 24\tMAE: 0.026353020590476887\n",
      "[0045] best_ite: 42\tMAE: 0.026193384560085128\n",
      "[0046] best_ite: 62\tMAE: 0.026108060507509762\n",
      "[0047] best_ite: 193\tMAE: 0.026078395833903586\n",
      "[0048] best_ite: 117\tMAE: 0.02607558093563084\n",
      "[0049] best_ite: 61\tMAE: 0.026131184080330792\n",
      "[0050] best_ite: 82\tMAE: 0.02614637328761056\n",
      "[0051] best_ite: 97\tMAE: 0.026199109431899164\n",
      "[0052] best_ite: 17\tMAE: 0.026269497203886938\n",
      "[0053] best_ite: 41\tMAE: 0.026128139913930547\n",
      "[0054] best_ite: 230\tMAE: 0.026073246865197092\n",
      "[0055] best_ite: 31\tMAE: 0.02616629030302847\n",
      "[0056] best_ite: 38\tMAE: 0.0261664669276979\n",
      "[0057] best_ite: 10\tMAE: 0.026253462305899946\n",
      "[0058] best_ite: 11\tMAE: 0.026240787595383706\n",
      "[0059] best_ite: 19\tMAE: 0.02619917372414516\n",
      "[0060] best_ite: 68\tMAE: 0.026222673975013322\n",
      "[0061] best_ite: 37\tMAE: 0.026212534516390707\n",
      "[0062] best_ite: 123\tMAE: 0.026099889263906943\n",
      "[0063] best_ite: 174\tMAE: 0.02618087277595421\n",
      "[0064] best_ite: 614\tMAE: 0.026182034392923194\n",
      "[0065] best_ite: 6\tMAE: 0.026249794394634457\n",
      "[0066] best_ite: 193\tMAE: 0.026127090012754484\n",
      "[0067] best_ite: 105\tMAE: 0.0261270738517768\n",
      "[0068] best_ite: 147\tMAE: 0.026084941124335546\n",
      "[0069] best_ite: 79\tMAE: 0.026166605999670568\n",
      "[0070] best_ite: 126\tMAE: 0.026144219860291674\n",
      "[0071] best_ite: 52\tMAE: 0.02617233981194813\n",
      "[0072] best_ite: 80\tMAE: 0.026146028471177155\n",
      "[0073] best_ite: 42\tMAE: 0.026212256284170683\n",
      "[0074] best_ite: 95\tMAE: 0.026141801160689544\n",
      "[0075] best_ite: 193\tMAE: 0.026067349867486864\n",
      "[0076] best_ite: 80\tMAE: 0.02613964463772472\n",
      "[0077] best_ite: 228\tMAE: 0.026078592721344475\n",
      "[0078] best_ite: 80\tMAE: 0.026191608493308066\n",
      "[0079] best_ite: 80\tMAE: 0.026202342312599554\n",
      "[0080] best_ite: 46\tMAE: 0.026249332751827333\n",
      "[0081] best_ite: 76\tMAE: 0.026160453446917028\n",
      "[0082] best_ite: 20\tMAE: 0.02621833496832525\n",
      "[0083] best_ite: 33\tMAE: 0.026225168043634443\n",
      "[0084] best_ite: 123\tMAE: 0.026101759983907718\n",
      "[0085] best_ite: 42\tMAE: 0.02613908322875748\n",
      "[0086] best_ite: 497\tMAE: 0.02607723307613843\n",
      "[0087] best_ite: 41\tMAE: 0.026228902539811493\n",
      "[0088] best_ite: 42\tMAE: 0.026167507189867906\n",
      "[0089] best_ite: 89\tMAE: 0.026197257827314028\n",
      "[0090] best_ite: 16\tMAE: 0.026309054655903948\n",
      "[0091] best_ite: 33\tMAE: 0.026290828368893883\n",
      "[0092] best_ite: 66\tMAE: 0.026176308796735246\n",
      "[0093] best_ite: 89\tMAE: 0.026185679693279767\n",
      "[0094] best_ite: 565\tMAE: 0.026204767665245047\n",
      "[0095] best_ite: 37\tMAE: 0.02643317818781402\n",
      "[0096] best_ite: 48\tMAE: 0.026244490028034213\n",
      "[0097] best_ite: 181\tMAE: 0.026113068020856094\n",
      "[0098] best_ite: 107\tMAE: 0.026234299659498517\n",
      "[0099] best_ite: 25\tMAE: 0.02623726822769026\n",
      "[0100] best_ite: 134\tMAE: 0.026116771619997748\n"
     ]
    }
   ],
   "source": [
    "# iterationする回数\n",
    "max_evals = 100\n",
    "# 試行の過程を記録するインスタンス\n",
    "trials = Trials()\n",
    "\n",
    "best = fmin(\n",
    "    # 最小化する値を定義した関数\n",
    "    fn=objective,\n",
    "    # 探索するパラメータのdictもしくはlist\n",
    "    space=hyperopt_params,\n",
    "    # どのロジックを利用するか、基本的にはtpe.suggestでok\n",
    "    algo=tpe.suggest,\n",
    "    max_evals=max_evals,\n",
    "    trials=trials,\n",
    "    # 試行の過程を出力\n",
    "    verbose=-1,\n",
    "    rstate=np.random.RandomState(0)\n",
    ")"
   ]
  },
  {
   "cell_type": "code",
   "execution_count": 32,
   "metadata": {},
   "outputs": [
    {
     "data": {
      "text/plain": [
       "{'bagging_freq': 1,\n",
       " 'feature_fraction': 0.5751105342400248,\n",
       " 'learning_rate': 0.07424491153357236,\n",
       " 'min_child_samples': 534,\n",
       " 'num_leaves': 58}"
      ]
     },
     "execution_count": 32,
     "metadata": {},
     "output_type": "execute_result"
    }
   ],
   "source": [
    "int_param_encoder(best)"
   ]
  },
  {
   "cell_type": "code",
   "execution_count": 33,
   "metadata": {},
   "outputs": [
    {
     "data": {
      "text/plain": [
       "LGBMRegressor(bagging_freq=1, boosting_type='gbdt', class_weight=None,\n",
       "       colsample_bytree=1.0, feature_fraction=0.5751105342400248,\n",
       "       importance_type='split', learning_rate=0.07424491153357236,\n",
       "       max_depth=-1, min_child_samples=534, min_child_weight=0.001,\n",
       "       min_split_gain=0.0, n_estimators=1000, n_jobs=-1, num_leaves=58,\n",
       "       objective='mean_absolute_error', random_state=0, reg_alpha=0.0,\n",
       "       reg_lambda=0.0, silent=True, subsample=1.0,\n",
       "       subsample_for_bin=200000, subsample_freq=0)"
      ]
     },
     "execution_count": 33,
     "metadata": {},
     "output_type": "execute_result"
    }
   ],
   "source": [
    "best_params = int_param_encoder(best)\n",
    "model = lgb.LGBMRegressor(**best_params, objective='mean_absolute_error', n_estimators=1000, random_state=0)\n",
    "model.fit(X_dev, y_dev, **fit_params)"
   ]
  },
  {
   "cell_type": "code",
   "execution_count": 34,
   "metadata": {},
   "outputs": [],
   "source": [
    "with open(os.path.join(output_dir, 'lgbm_baseline_20181206_model_{}.pkl'.format(abcd.upper())), mode='wb') as f:\n",
    "    pickle.dump(model, f)\n",
    "    \n",
    "with open(os.path.join(output_dir, 'lgbm_baseline_20181206_model_{}.pkl'.format(abcd.upper())), mode='rb') as f:\n",
    "    model = pickle.load(f)"
   ]
  },
  {
   "cell_type": "code",
   "execution_count": 35,
   "metadata": {},
   "outputs": [
    {
     "data": {
      "image/png": "[encoded data removed]",
      "text/plain": [
       "<Figure size 1080x360 with 1 Axes>"
      ]
     },
     "metadata": {
      "needs_background": "light"
     },
     "output_type": "display_data"
    }
   ],
   "source": [
    "feature_importance = pd.DataFrame({'feature': X_dev.columns, 'importance': model.feature_importances_})\n",
    "feature_importance = feature_importance.sort_values('importance').set_index('feature', drop=False)\n",
    "ax = feature_importance.plot.barh(figsize=(15,5))"
   ]
  },
  {
   "cell_type": "markdown",
   "metadata": {},
   "source": [
    "## Predict for Submission\n",
    "1. make initial values using last date lev_l_diff of each kilo\n",
    "2. predict 2 weeks ahead lev_l values by the initial values\n",
    "3. predcit 4 weeks ahead lev_l values by the 2 weeks ahead lev_l values\n",
    "4. repeat ..."
   ]
  },
  {
   "cell_type": "markdown",
   "metadata": {},
   "source": [
    "### make initial values for future prediction"
   ]
  },
  {
   "cell_type": "code",
   "execution_count": 36,
   "metadata": {},
   "outputs": [],
   "source": [
    "def make_last_date_pv(pv_df):\n",
    "    last_date_pv_df = pv_df.fillna(method='ffill').tail(1)\n",
    "    last_date_pv_df = last_date_pv_df.fillna(method='ffill', axis=1)\n",
    "    return last_date_pv_df\n",
    "\n",
    "def melt_pv(pv_df, value_name):\n",
    "    return pd.melt(pv_df.reset_index(), id_vars='date', value_name=value_name)"
   ]
  },
  {
   "cell_type": "markdown",
   "metadata": {},
   "source": [
    "### Repeat prediction and making datasets"
   ]
  },
  {
   "cell_type": "code",
   "execution_count": 37,
   "metadata": {},
   "outputs": [],
   "source": [
    "# predict y\n",
    "# y -> X_next_01\n",
    "# X_next_01 -> y_next_02\n",
    "# y_next_02-> X_next_02\n",
    "# X_next_02 -> y_next_03 ..."
   ]
  },
  {
   "cell_type": "code",
   "execution_count": 38,
   "metadata": {},
   "outputs": [],
   "source": [
    "def make_data_all_nxt(y_nxt, y_nxt_undiff):\n",
    "    data_all_nxt = y_nxt.copy()\n",
    "    data_all_nxt = data_all_nxt.merge(y_nxt_undiff, on=['date', 'kilo'], how='left')\n",
    "    data_all_nxt['sin_date'] = make_seasonal_series(data_all_nxt)\n",
    "    data_all_nxt = merge_features_by_kilo(data_all_nxt)\n",
    "    data_all_nxt['date_tgt'] = data_all_nxt['date'] + datetime.timedelta(days=1)\n",
    "    data_all_nxt['lev_l_diff_tgt'] = -1.0\n",
    "    return data_all_nxt[data_all_col_order]\n",
    "\n",
    "def make_y_nxt(data_all_current, model):\n",
    "    X_current, y_ = X_y_split(data_all_current)\n",
    "    y_nxt_np = model.predict(X_current)\n",
    "    y_nxt = pd.Series(data=y_nxt_np, index=y_.index, name=y_.name)\n",
    "#     y_nxt = y_nxt.rolling(5, min_periods=0, center=True).mean()\n",
    "    y_nxt = y_nxt.reset_index(level=['date_tgt', 'kilo']).reset_index(drop=True)\n",
    "    y_nxt = y_nxt.rename(columns={'date_tgt': 'date', 'lev_l_diff_tgt': 'lev_l_diff'})\n",
    "    \n",
    "    y_nxt_undiff = data_all_current[['date', 'kilo', 'lev_l']].copy()\n",
    "    y_nxt_undiff['date'] = y_nxt_undiff['date'] + datetime.timedelta(days=1)\n",
    "    y_nxt_undiff = y_nxt.merge(y_nxt_undiff, on=['date', 'kilo'], how='left')\n",
    "    y_nxt_undiff['lev_l'] = y_nxt_undiff['lev_l'] + y_nxt_undiff['lev_l_diff']\n",
    "    y_nxt_undiff = y_nxt_undiff[['date', 'kilo', 'lev_l']]\n",
    "    return y_nxt, y_nxt_undiff"
   ]
  },
  {
   "cell_type": "code",
   "execution_count": 39,
   "metadata": {},
   "outputs": [],
   "source": [
    "def predict4submission(lev_pv_ra_diff, lev_pv_ra, model):\n",
    "    last_date_lev_ra_diff = melt_pv(make_last_date_pv(lev_pv_ra_diff), 'lev_l_diff')\n",
    "    last_date_lev_ra = melt_pv(make_last_date_pv(lev_pv_ra), 'lev_l')\n",
    "    last_date_lev_ra['lev_l'] = last_date_lev_ra['lev_l'] + last_date_lev_ra_diff['lev_l_diff']\n",
    "\n",
    "    y_nxt_pool = y_nxt = last_date_lev_ra_diff\n",
    "    y_nxt_undiff_pool = y_nxt_undiff = last_date_lev_ra\n",
    "    for i in range(110): # 2week * 7 > 91days\n",
    "        data_all_nxt = make_data_all_nxt(y_nxt, y_nxt_undiff)\n",
    "        y_nxt, y_nxt_undiff = make_y_nxt(data_all_nxt, model)\n",
    "        y_nxt_pool = pd.concat([y_nxt_pool, y_nxt], axis=0)\n",
    "        y_nxt_undiff_pool = pd.concat([y_nxt_undiff_pool, y_nxt_undiff], axis=0)\n",
    "    return y_nxt_undiff_pool"
   ]
  },
  {
   "cell_type": "markdown",
   "metadata": {},
   "source": [
    "### Validation"
   ]
  },
  {
   "cell_type": "code",
   "execution_count": 40,
   "metadata": {},
   "outputs": [
    {
     "name": "stdout",
     "output_type": "stream",
     "text": [
      "sample: 1,312,945\n",
      "MAE: 0.7521332250962434\n"
     ]
    }
   ],
   "source": [
    "y_nxt_undiff_pool_val = predict4submission(lev_pv_ra_diff.query('date<\"2017-04-21\"'), lev_pv_ra.query('date<\"2017-04-21\"'), model)\n",
    "y_nxt_undiff_pool_val = y_nxt_undiff_pool_val.rename(columns={'lev_l': 'lev_l_pred'})\n",
    "\n",
    "tru_pred_df = y_nxt_undiff_pool_val.merge(track, how='inner', on=['date', 'kilo'])\n",
    "tru_pred_df = tru_pred_df[['date', 'kilo', 'lev_l', 'lev_l_pred']]\n",
    "tru_pred_df = tru_pred_df.dropna()\n",
    "print('sample: {:,}'.format(tru_pred_df.shape[0]))\n",
    "print('MAE: {}'.format(mean_absolute_error(tru_pred_df['lev_l'], tru_pred_df['lev_l_pred'])))"
   ]
  },
  {
   "cell_type": "markdown",
   "metadata": {},
   "source": [
    "## Submission"
   ]
  },
  {
   "cell_type": "code",
   "execution_count": 41,
   "metadata": {},
   "outputs": [],
   "source": [
    "y_nxt_undiff_pool = predict4submission(lev_pv_ra_diff.query('date<\"2018-03-19\"'), lev_pv_ra.query('date<\"2018-03-19\"'), model)\n",
    "index_master_abcd = index_master.query('line_name==\"{}\"'.format(abcd.upper()))\n",
    "pred_df = index_master_abcd.merge(y_nxt_undiff_pool, how='left', on=['date', 'kilo'])\n",
    "pred_df = pred_df.rename(columns={'lev_l': 'lev_l_pred'})\n",
    "pred_df = pred_df.drop('id', axis=1)"
   ]
  },
  {
   "cell_type": "code",
   "execution_count": 42,
   "metadata": {},
   "outputs": [],
   "source": [
    "pred_df.to_csv(os.path.join(output_dir, 'lgbm_baseline_20181206_{}.csv'.format(abcd.upper())), index=False)"
   ]
  },
  {
   "cell_type": "code",
   "execution_count": 43,
   "metadata": {},
   "outputs": [
    {
     "data": {
      "text/plain": [
       "<matplotlib.axes._subplots.AxesSubplot at 0x7f7224718278>"
      ]
     },
     "execution_count": 43,
     "metadata": {},
     "output_type": "execute_result"
    },
    {
     "data": {
      "image/png": "[encoded data removed]",
      "text/plain": [
       "<Figure size 432x288 with 1 Axes>"
      ]
     },
     "metadata": {
      "needs_background": "light"
     },
     "output_type": "display_data"
    }
   ],
   "source": [
    "pred_df['lev_l_pred'].hist(bins=50)"
   ]
  },
  {
   "cell_type": "code",
   "execution_count": 44,
   "metadata": {},
   "outputs": [
    {
     "data": {
      "text/plain": [
       "<matplotlib.axes._subplots.AxesSubplot at 0x7f7279ef1cc0>"
      ]
     },
     "execution_count": 44,
     "metadata": {},
     "output_type": "execute_result"
    },
    {
     "data": {
      "image/png": "[encoded data removed]",
      "text/plain": [
       "<Figure size 432x288 with 1 Axes>"
      ]
     },
     "metadata": {
      "needs_background": "light"
     },
     "output_type": "display_data"
    }
   ],
   "source": [
    "track['lev_l'].hist(bins=50)"
   ]
  },
  {
   "cell_type": "code",
   "execution_count": null,
   "metadata": {},
   "outputs": [],
   "source": []
  }
 ],
 "metadata": {
  "kernelspec": {
   "display_name": "Python 3",
   "language": "python",
   "name": "python3"
  },
  "language_info": {
   "codemirror_mode": {
    "name": "ipython",
    "version": 3
   },
   "file_extension": ".py",
   "mimetype": "text/x-python",
   "name": "python",
   "nbconvert_exporter": "python",
   "pygments_lexer": "ipython3",
   "version": "3.6.7"
  }
 },
 "nbformat": 4,
 "nbformat_minor": 2
}
