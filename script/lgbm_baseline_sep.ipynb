{
 "cells": [
  {
   "cell_type": "markdown",
   "metadata": {},
   "source": [
    "# LightGBM Baseline Model\n",
    "\n",
    "make models for each route(A, B, C, D) and prediction period(predict 2 weeks ahead, 4 weeks ahead, ...)\n",
    "\n",
    "## Dateset\n",
    "- [diff value from previous day](https://github.com/hiroshi-kuriyama/rail_level_gap/issues/2) of [rolling mean over days](https://github.com/hiroshi-kuriyama/rail_level_gap/issues/4)\n",
    "## Target Variable\n",
    "- vel_l values X weeks ahead (X = 2,4,6,8)\n",
    "## Features\n",
    "\n",
    "- track variables\n",
    "  - present lev_l value\n",
    "  - mean and variance of recent lev_l value\n",
    "  - mean and variance of recent days and whole year values of track data\n",
    "- equipment variables\n",
    "  - row value of equipment variables\n",
    "- seasonal variables\n",
    "  - date (encoded by trigonometric function)\n",
    "  - holiday dummy"
   ]
  },
  {
   "cell_type": "code",
   "execution_count": 1,
   "metadata": {},
   "outputs": [],
   "source": [
    "import os\n",
    "import pickle\n",
    "import numpy as np\n",
    "import pandas as pd\n",
    "import datetime\n",
    "import matplotlib.pyplot as plt\n",
    "from sklearn.model_selection import train_test_split, GridSearchCV\n",
    "from sklearn.metrics import mean_absolute_error\n",
    "import lightgbm as lgb\n",
    "from hyperopt import hp, tpe, Trials, fmin\n",
    "import optuna\n",
    "%matplotlib inline\n",
    "# from utils import data_process as dp"
   ]
  },
  {
   "cell_type": "code",
   "execution_count": 2,
   "metadata": {},
   "outputs": [],
   "source": [
    "input_dir = '../input/'\n",
    "working_dir = '../working/'\n",
    "output_dir = '../output/'"
   ]
  },
  {
   "cell_type": "markdown",
   "metadata": {},
   "source": [
    "## Read data"
   ]
  },
  {
   "cell_type": "code",
   "execution_count": 3,
   "metadata": {},
   "outputs": [],
   "source": [
    "sleeper_type_dict = {\n",
    "    1: 'pc',\n",
    "    2: 'wooden',\n",
    "    3: 'junction',\n",
    "    4: 'short',\n",
    "    5: 'synthetic',\n",
    "    6: 'synth_junc',\n",
    "    7: 'symth_short',\n",
    "    8: 'other'\n",
    "}"
   ]
  },
  {
   "cell_type": "code",
   "execution_count": 4,
   "metadata": {},
   "outputs": [],
   "source": [
    "def read_track(line_name='a'):\n",
    "    track_df = pd.read_csv(os.path.join(input_dir, 'track_{}.csv'.format(line_name.upper())))\n",
    "    col_names_track = ['date', 'kilo', 'lev_l', 'lev_r', 'cur_l', 'cur_r', 'cant', 'width', 'speed']\n",
    "    track_df.columns = col_names_track\n",
    "    track_df['date'] = pd.to_datetime(track_df['date'])\n",
    "    track_df['kilo'] = track_df['kilo'].astype('str')\n",
    "    print('track_{line_name} shape: {shape}'.format(line_name=line_name.upper(), shape=track_df.shape))\n",
    "    return track_df"
   ]
  },
  {
   "cell_type": "code",
   "execution_count": 5,
   "metadata": {},
   "outputs": [],
   "source": [
    "def read_equ(line_name='a'):\n",
    "    equ_df = pd.read_csv(os.path.join(input_dir, 'equipment_{}.csv'.format(line_name.upper())))\n",
    "    col_names_equ = ['kilo', 'is_ballast', 'is_long', 'sleeper_type', 'is_bridge', 'is_crossing', 'gross_ton', 'radius', 'is_unreliable']\n",
    "    equ_df.columns = col_names_equ\n",
    "    equ_df['kilo'] = equ_df['kilo'].astype('str')\n",
    "    equ_df['sleeper_type'] = equ_df['sleeper_type'].replace(sleeper_type_dict).astype('category')\n",
    "    print('equ_{line_name} shape: {shape}'.format(line_name=line_name.upper(), shape=equ_df.shape))\n",
    "    return equ_df"
   ]
  },
  {
   "cell_type": "code",
   "execution_count": 6,
   "metadata": {},
   "outputs": [],
   "source": [
    "# degrade data types to save memory\n",
    "def degrade_dtypes(df):\n",
    "    for col in df.columns:\n",
    "        if df[col].dtype=='int64':\n",
    "            df[col] = df[col].astype('int32')\n",
    "        if df[col].dtype=='float64':\n",
    "            df[col] = df[col].astype('float32')\n",
    "    return df"
   ]
  },
  {
   "cell_type": "code",
   "execution_count": 7,
   "metadata": {},
   "outputs": [],
   "source": [
    "abcd = 'd'"
   ]
  },
  {
   "cell_type": "code",
   "execution_count": 8,
   "metadata": {},
   "outputs": [
    {
     "name": "stdout",
     "output_type": "stream",
     "text": [
      "track_D shape: (5601687, 9)\n",
      "equ_D shape: (15691, 9)\n"
     ]
    }
   ],
   "source": [
    "track = read_track(abcd)\n",
    "track = degrade_dtypes(track)\n",
    "equ = read_equ(abcd)\n",
    "equ = degrade_dtypes(equ)"
   ]
  },
  {
   "cell_type": "code",
   "execution_count": 9,
   "metadata": {},
   "outputs": [],
   "source": [
    "# sample_submit = pd.read_csv(os.path.join(input_dir, 'sample_submit.csv'), header=None)\n",
    "index_master = pd.read_csv(os.path.join(input_dir, 'index_master.csv'))\n",
    "index_master.columns = ['id', 'line_name', 'date', 'kilo']\n",
    "index_master['date'] = pd.to_datetime(index_master['date'])\n",
    "index_master['kilo'] = index_master['kilo'].astype('str')"
   ]
  },
  {
   "cell_type": "markdown",
   "metadata": {},
   "source": [
    "## Data Processing"
   ]
  },
  {
   "cell_type": "code",
   "execution_count": 10,
   "metadata": {},
   "outputs": [],
   "source": [
    "# Drop outliers of diff to exclude maintenance effect (out of 2 sigma for each kilo)\n",
    "# If line_name is \"A\", also drop outliers of lev_l\n",
    "def outlier_filter(track):\n",
    "    lev_pv = track.pivot(index='date', columns='kilo', values='lev_l')\n",
    "    lev_pv.columns = lev_pv.columns.astype('str')\n",
    "    lev_pv_diff = lev_pv.diff()\n",
    "\n",
    "    lev_pv_diff_norm = (lev_pv_diff - lev_pv_diff.mean()) / lev_pv_diff.std()\n",
    "    lev_pv_diff_norm_isnot_outlier = lev_pv_diff_norm.abs() < 2\n",
    "    if abcd=='a':\n",
    "        lev_pv_norm = (lev_pv - lev_pv.mean()) / lev_pv.std()\n",
    "        lev_pv_norm_isnot_outlier = lev_pv_norm.abs() < 2\n",
    "        lev_pv_diff_norm_isnot_outlier *= lev_pv_norm_isnot_outlier\n",
    "    lev_pv_filtered_tmp = lev_pv * lev_pv_diff_norm_isnot_outlier\n",
    "    lev_pv_filtered = lev_pv_filtered_tmp.replace(0.0, np.nan)\n",
    "    lev_filtered = pd.melt(lev_pv_filtered.reset_index(), id_vars='date', value_name='lev_l')  \n",
    "    track_new = lev_filtered.merge(track.drop('lev_l', axis=1), how='left', on=['date', 'kilo'])\n",
    "    return track_new"
   ]
  },
  {
   "cell_type": "code",
   "execution_count": 11,
   "metadata": {},
   "outputs": [
    {
     "name": "stderr",
     "output_type": "stream",
     "text": [
      "/home/kuriyama/miniconda3/envs/rail_level_gap/lib/python3.6/site-packages/pandas/core/nanops.py:358: RuntimeWarning: divide by zero encountered in true_divide\n",
      "  the_mean = the_sum / count\n"
     ]
    }
   ],
   "source": [
    "track = outlier_filter(track)"
   ]
  },
  {
   "cell_type": "markdown",
   "metadata": {},
   "source": [
    "### rolling average, diff"
   ]
  },
  {
   "cell_type": "code",
   "execution_count": 12,
   "metadata": {},
   "outputs": [],
   "source": [
    "# rolling average params\n",
    "roll_params = {\n",
    "    'A': {'window': 21, 'min_periods': 14},\n",
    "    'B': {'window': 14, 'min_periods': 7},\n",
    "    'C': {'window': 14, 'min_periods': 7},\n",
    "    'D': {'window': 14, 'min_periods': 7}\n",
    "}"
   ]
  },
  {
   "cell_type": "code",
   "execution_count": 13,
   "metadata": {},
   "outputs": [],
   "source": [
    "def roll_pv(track, abcd):\n",
    "    # pivot: row is date, col is kilo\n",
    "    lev_pv = track.pivot(index='date', columns='kilo', values='lev_l')\n",
    "    lev_pv.columns = lev_pv.columns.astype('str')\n",
    "    # rolling average\n",
    "    lev_pv_ra = lev_pv.rolling(**roll_params[abcd.upper()], center=False, axis=0).mean()\n",
    "    return lev_pv_ra"
   ]
  },
  {
   "cell_type": "code",
   "execution_count": 14,
   "metadata": {},
   "outputs": [],
   "source": [
    "lev_pv_ra = roll_pv(track, abcd)"
   ]
  },
  {
   "cell_type": "code",
   "execution_count": 15,
   "metadata": {},
   "outputs": [],
   "source": [
    "# diff\n",
    "lev_pv_ra_diff = lev_pv_ra.diff()\n",
    "# reverse pivot\n",
    "lev_ra_diff = pd.melt(lev_pv_ra_diff.reset_index(), id_vars='date', value_name='lev_l_diff')  "
   ]
  },
  {
   "cell_type": "markdown",
   "metadata": {},
   "source": [
    "## Target variable"
   ]
  },
  {
   "cell_type": "code",
   "execution_count": 16,
   "metadata": {},
   "outputs": [],
   "source": [
    "def make_tgt(lev_ra_diff):\n",
    "    lev_ra_diff_tgt_tmp = lev_ra_diff.copy()\n",
    "    lev_ra_diff_tgt_tmp['date_tgt'] = lev_ra_diff_tgt_tmp['date']\n",
    "    lev_ra_diff_tgt_tmp['date'] = lev_ra_diff_tgt_tmp['date'] - datetime.timedelta(days=1)\n",
    "    lev_ra_diff_tgt = lev_ra_diff_tgt_tmp.rename(columns={'lev_l_diff': 'lev_l_diff_tgt'})\n",
    "    return lev_ra_diff_tgt"
   ]
  },
  {
   "cell_type": "code",
   "execution_count": 17,
   "metadata": {},
   "outputs": [],
   "source": [
    "lev_ra_diff_tgt = make_tgt(lev_ra_diff)"
   ]
  },
  {
   "cell_type": "markdown",
   "metadata": {},
   "source": [
    "## Feature processing"
   ]
  },
  {
   "cell_type": "code",
   "execution_count": 18,
   "metadata": {},
   "outputs": [],
   "source": [
    "def whole_mean(track):\n",
    "    track_whole_mean = track.groupby('kilo').mean()\n",
    "    track_whole_mean.columns = [i + '_w_mean' for i in track_whole_mean.columns]\n",
    "    track_whole_mean = track_whole_mean.reset_index()\n",
    "    track_whole_mean['kilo'] = track_whole_mean['kilo'].astype(str)\n",
    "    return track_whole_mean"
   ]
  },
  {
   "cell_type": "code",
   "execution_count": 19,
   "metadata": {},
   "outputs": [],
   "source": [
    "def whole_std(track):\n",
    "    track_whole_mean = track.groupby('kilo').std()\n",
    "    track_whole_mean.columns = [i + '_w_std' for i in track_whole_mean.columns]\n",
    "    track_whole_mean = track_whole_mean.reset_index()\n",
    "    track_whole_mean['kilo'] = track_whole_mean['kilo'].astype(str)\n",
    "    return track_whole_mean"
   ]
  },
  {
   "cell_type": "code",
   "execution_count": 20,
   "metadata": {},
   "outputs": [],
   "source": [
    "track_whole_mean = whole_mean(track)\n",
    "track_whole_std = whole_std(track)\n",
    "track_diff_whole_mean = whole_mean(lev_ra_diff)\n",
    "track_diff_whole_std = whole_std(lev_ra_diff)"
   ]
  },
  {
   "cell_type": "markdown",
   "metadata": {},
   "source": [
    "## Merge Dataset"
   ]
  },
  {
   "cell_type": "code",
   "execution_count": 21,
   "metadata": {},
   "outputs": [],
   "source": [
    "def make_day_cnts(df):\n",
    "    # May is bitween hottest day and coldest one\n",
    "    day_cnts = df['date'] - datetime.datetime(2017, 5, 1)\n",
    "    return day_cnts.dt.days"
   ]
  },
  {
   "cell_type": "code",
   "execution_count": 22,
   "metadata": {},
   "outputs": [],
   "source": [
    "def merge_features_by_kilo(df):\n",
    "    df = df.merge(track_whole_mean, on='kilo')\n",
    "    df = df.merge(track_whole_std, on='kilo')\n",
    "    df = df.merge(track_diff_whole_mean, on='kilo')\n",
    "    df = df.merge(track_diff_whole_std, on='kilo')\n",
    "    df = df.merge(equ, on='kilo')\n",
    "    return df"
   ]
  },
  {
   "cell_type": "code",
   "execution_count": 23,
   "metadata": {},
   "outputs": [],
   "source": [
    "# copy target df\n",
    "data_all_tmp = lev_ra_diff_tgt.copy()\n",
    "# merge features\n",
    "data_all_tmp = data_all_tmp.merge(lev_ra_diff, on=['date', 'kilo'])\n",
    "data_all_tmp = data_all_tmp.merge(track[['date', 'kilo', 'lev_l']], on=['date', 'kilo'])\n",
    "\n",
    "# seasonal featues (sin_date represents temperature)\n",
    "data_all_tmp['sin_date'] = np.sin(2 * np.pi * make_day_cnts(data_all_tmp) / 365)\n",
    "\n",
    "data_all_tmp = merge_features_by_kilo(data_all_tmp)\n",
    "\n",
    "data_all_tmp = data_all_tmp.dropna(how='any', axis=0, subset=['lev_l_diff_tgt', 'lev_l_diff'])\n",
    "\n",
    "data_all = data_all_tmp#.query('date<\"2018-03-19\"')\n",
    "del data_all_tmp\n",
    "# del lev_ra_diff_tgt, lev_ra_diff, track_whole_mean, data_all_tmp, track, equ"
   ]
  },
  {
   "cell_type": "code",
   "execution_count": 24,
   "metadata": {},
   "outputs": [],
   "source": [
    "# keep the oreder of X columns\n",
    "global data_all_col_order\n",
    "data_all_col_order = data_all.columns"
   ]
  },
  {
   "cell_type": "markdown",
   "metadata": {},
   "source": [
    "## Make Dataset"
   ]
  },
  {
   "cell_type": "code",
   "execution_count": 25,
   "metadata": {},
   "outputs": [],
   "source": [
    "def X_y_split(data, tgt_col='lev_l_diff_tgt', index_cols=['date', 'date_tgt', 'kilo']):\n",
    "    data = data.set_index(index_cols)\n",
    "    y = data[tgt_col]\n",
    "    X = data.drop(tgt_col, axis=1)\n",
    "    return X, y"
   ]
  },
  {
   "cell_type": "code",
   "execution_count": 26,
   "metadata": {},
   "outputs": [],
   "source": [
    "# split train and test\n",
    "is_val = (make_day_cnts(data_all) % 8)==0\n",
    "X_dev, y_dev = X_y_split(data_all[is_val==False])\n",
    "X_val, y_val = X_y_split(data_all[is_val==True])"
   ]
  },
  {
   "cell_type": "markdown",
   "metadata": {},
   "source": [
    "## Train"
   ]
  },
  {
   "cell_type": "code",
   "execution_count": 27,
   "metadata": {},
   "outputs": [],
   "source": [
    "lgb_dev = lgb.Dataset(X_dev, y_dev)\n",
    "lgb_val = lgb.Dataset(X_val, y_val)"
   ]
  },
  {
   "cell_type": "code",
   "execution_count": 28,
   "metadata": {},
   "outputs": [],
   "source": [
    "fixed_params = {\n",
    "    'boosting_type': 'gbdt',\n",
    "    'objective': 'regression_l1',\n",
    "    'metric': 'l1',\n",
    "    'verbose': 0,\n",
    "    'seed': 0\n",
    "}"
   ]
  },
  {
   "cell_type": "code",
   "execution_count": 29,
   "metadata": {},
   "outputs": [],
   "source": [
    "def objective(trial):\n",
    "    bagging_freq = trial.suggest_int('bagging_freq', 0, 1.0)\n",
    "    feature_fraction = trial.suggest_uniform('feature_fraction', 0.05, 1.0)\n",
    "    learning_rate = trial.suggest_uniform('learning_rate', 0.01, 0.75)\n",
    "    min_child_samples = trial.suggest_int('min_child_samples', 300, 600)\n",
    "    num_leaves = trial.suggest_int('num_leaves', 10, 500)\n",
    "    \n",
    "    opt_params = {\n",
    "        'bagging_freq': bagging_freq,\n",
    "        'feature_fraction': feature_fraction,\n",
    "        'learning_rate': learning_rate,\n",
    "        'min_child_samples': min_child_samples,\n",
    "        'num_leaves': num_leaves\n",
    "    }\n",
    "    opt_params.update(fixed_params)\n",
    "    \n",
    "    model = lgb.train(opt_params, lgb_dev, num_boost_round=1000, valid_sets=lgb_val, early_stopping_rounds=30, verbose_eval=-1)\n",
    "    y_val_pred = model.predict(X_val, num_iteration=model.best_iteration)\n",
    "    return mean_absolute_error(y_val, y_val_pred)"
   ]
  },
  {
   "cell_type": "code",
   "execution_count": 30,
   "metadata": {},
   "outputs": [
    {
     "name": "stderr",
     "output_type": "stream",
     "text": [
      "/home/kuriyama/miniconda3/envs/rail_level_gap/lib/python3.6/site-packages/lightgbm/basic.py:742: UserWarning: categorical_feature in param dict is overridden.\n",
      "  warnings.warn('categorical_feature in param dict is overridden.')\n"
     ]
    },
    {
     "name": "stdout",
     "output_type": "stream",
     "text": [
      "Training until validation scores don't improve for 30 rounds.\n",
      "Early stopping, best iteration is:\n",
      "[20]\tvalid_0's l1: 0.0272306\n"
     ]
    },
    {
     "name": "stderr",
     "output_type": "stream",
     "text": [
      "[I 2018-12-19 15:16:26,646] Finished a trial resulted in value: 0.02723062745652543. Current best value is 0.02723062745652543 with parameters: {'bagging_freq': 1, 'feature_fraction': 0.24729809094818134, 'learning_rate': 0.5886064738403373, 'min_child_samples': 399, 'num_leaves': 143}.\n"
     ]
    },
    {
     "name": "stdout",
     "output_type": "stream",
     "text": [
      "Training until validation scores don't improve for 30 rounds.\n",
      "Early stopping, best iteration is:\n",
      "[7]\tvalid_0's l1: 0.0268942\n"
     ]
    },
    {
     "name": "stderr",
     "output_type": "stream",
     "text": [
      "[I 2018-12-19 15:16:31,467] Finished a trial resulted in value: 0.026894154370368156. Current best value is 0.026894154370368156 with parameters: {'bagging_freq': 1, 'feature_fraction': 0.8334553160549991, 'learning_rate': 0.7163150930240174, 'min_child_samples': 311, 'num_leaves': 423}.\n"
     ]
    },
    {
     "name": "stdout",
     "output_type": "stream",
     "text": [
      "Training until validation scores don't improve for 30 rounds.\n",
      "Early stopping, best iteration is:\n",
      "[90]\tvalid_0's l1: 0.0267531\n"
     ]
    },
    {
     "name": "stderr",
     "output_type": "stream",
     "text": [
      "[I 2018-12-19 15:16:42,106] Finished a trial resulted in value: 0.026753130546845593. Current best value is 0.026753130546845593 with parameters: {'bagging_freq': 1, 'feature_fraction': 0.7066401654563379, 'learning_rate': 0.10999708026402201, 'min_child_samples': 562, 'num_leaves': 66}.\n"
     ]
    },
    {
     "name": "stdout",
     "output_type": "stream",
     "text": [
      "Training until validation scores don't improve for 30 rounds.\n",
      "Early stopping, best iteration is:\n",
      "[23]\tvalid_0's l1: 0.0267889\n"
     ]
    },
    {
     "name": "stderr",
     "output_type": "stream",
     "text": [
      "[I 2018-12-19 15:16:49,097] Finished a trial resulted in value: 0.026788864890684. Current best value is 0.026753130546845593 with parameters: {'bagging_freq': 1, 'feature_fraction': 0.7066401654563379, 'learning_rate': 0.10999708026402201, 'min_child_samples': 562, 'num_leaves': 66}.\n"
     ]
    },
    {
     "name": "stdout",
     "output_type": "stream",
     "text": [
      "Training until validation scores don't improve for 30 rounds.\n",
      "Early stopping, best iteration is:\n",
      "[42]\tvalid_0's l1: 0.0266562\n"
     ]
    },
    {
     "name": "stderr",
     "output_type": "stream",
     "text": [
      "[I 2018-12-19 15:16:55,095] Finished a trial resulted in value: 0.02665624843900033. Current best value is 0.02665624843900033 with parameters: {'bagging_freq': 0, 'feature_fraction': 0.5502579639161642, 'learning_rate': 0.4004377247880691, 'min_child_samples': 533, 'num_leaves': 110}.\n"
     ]
    },
    {
     "name": "stdout",
     "output_type": "stream",
     "text": [
      "Training until validation scores don't improve for 30 rounds.\n",
      "Early stopping, best iteration is:\n",
      "[18]\tvalid_0's l1: 0.0268283\n"
     ]
    },
    {
     "name": "stderr",
     "output_type": "stream",
     "text": [
      "[I 2018-12-19 15:17:00,031] Finished a trial resulted in value: 0.02682827477904939. Current best value is 0.02665624843900033 with parameters: {'bagging_freq': 0, 'feature_fraction': 0.5502579639161642, 'learning_rate': 0.4004377247880691, 'min_child_samples': 533, 'num_leaves': 110}.\n"
     ]
    },
    {
     "name": "stdout",
     "output_type": "stream",
     "text": [
      "Training until validation scores don't improve for 30 rounds.\n",
      "Early stopping, best iteration is:\n",
      "[46]\tvalid_0's l1: 0.0273021\n"
     ]
    },
    {
     "name": "stderr",
     "output_type": "stream",
     "text": [
      "[I 2018-12-19 15:17:04,515] Finished a trial resulted in value: 0.027302120102537807. Current best value is 0.02665624843900033 with parameters: {'bagging_freq': 0, 'feature_fraction': 0.5502579639161642, 'learning_rate': 0.4004377247880691, 'min_child_samples': 533, 'num_leaves': 110}.\n"
     ]
    },
    {
     "name": "stdout",
     "output_type": "stream",
     "text": [
      "Training until validation scores don't improve for 30 rounds.\n",
      "Early stopping, best iteration is:\n",
      "[55]\tvalid_0's l1: 0.0267052\n"
     ]
    },
    {
     "name": "stderr",
     "output_type": "stream",
     "text": [
      "[I 2018-12-19 15:17:14,133] Finished a trial resulted in value: 0.026705153213529707. Current best value is 0.02665624843900033 with parameters: {'bagging_freq': 0, 'feature_fraction': 0.5502579639161642, 'learning_rate': 0.4004377247880691, 'min_child_samples': 533, 'num_leaves': 110}.\n"
     ]
    },
    {
     "name": "stdout",
     "output_type": "stream",
     "text": [
      "Training until validation scores don't improve for 30 rounds.\n",
      "Early stopping, best iteration is:\n",
      "[75]\tvalid_0's l1: 0.0265675\n"
     ]
    },
    {
     "name": "stderr",
     "output_type": "stream",
     "text": [
      "[I 2018-12-19 15:17:23,113] Finished a trial resulted in value: 0.026567461793639117. Current best value is 0.026567461793639117 with parameters: {'bagging_freq': 1, 'feature_fraction': 0.7652898761170185, 'learning_rate': 0.2571760759322818, 'min_child_samples': 301, 'num_leaves': 76}.\n"
     ]
    },
    {
     "name": "stdout",
     "output_type": "stream",
     "text": [
      "Training until validation scores don't improve for 30 rounds.\n",
      "Early stopping, best iteration is:\n",
      "[27]\tvalid_0's l1: 0.027244\n"
     ]
    },
    {
     "name": "stderr",
     "output_type": "stream",
     "text": [
      "[I 2018-12-19 15:17:28,018] Finished a trial resulted in value: 0.027244030809296015. Current best value is 0.026567461793639117 with parameters: {'bagging_freq': 1, 'feature_fraction': 0.7652898761170185, 'learning_rate': 0.2571760759322818, 'min_child_samples': 301, 'num_leaves': 76}.\n"
     ]
    },
    {
     "name": "stdout",
     "output_type": "stream",
     "text": [
      "Training until validation scores don't improve for 30 rounds.\n",
      "Early stopping, best iteration is:\n",
      "[226]\tvalid_0's l1: 0.0265505\n"
     ]
    },
    {
     "name": "stderr",
     "output_type": "stream",
     "text": [
      "[I 2018-12-19 15:17:44,979] Finished a trial resulted in value: 0.02655045309529473. Current best value is 0.02655045309529473 with parameters: {'bagging_freq': 1, 'feature_fraction': 0.5501812147747271, 'learning_rate': 0.22954353957845655, 'min_child_samples': 301, 'num_leaves': 15}.\n"
     ]
    },
    {
     "name": "stdout",
     "output_type": "stream",
     "text": [
      "Training until validation scores don't improve for 30 rounds.\n",
      "Early stopping, best iteration is:\n",
      "[269]\tvalid_0's l1: 0.0267977\n"
     ]
    },
    {
     "name": "stderr",
     "output_type": "stream",
     "text": [
      "[I 2018-12-19 15:18:24,283] Finished a trial resulted in value: 0.026797679210325772. Current best value is 0.02655045309529473 with parameters: {'bagging_freq': 1, 'feature_fraction': 0.5501812147747271, 'learning_rate': 0.22954353957845655, 'min_child_samples': 301, 'num_leaves': 15}.\n"
     ]
    },
    {
     "name": "stdout",
     "output_type": "stream",
     "text": [
      "Training until validation scores don't improve for 30 rounds.\n",
      "Early stopping, best iteration is:\n",
      "[87]\tvalid_0's l1: 0.0266488\n"
     ]
    },
    {
     "name": "stderr",
     "output_type": "stream",
     "text": [
      "[I 2018-12-19 15:18:31,722] Finished a trial resulted in value: 0.026648757576219474. Current best value is 0.02655045309529473 with parameters: {'bagging_freq': 1, 'feature_fraction': 0.5501812147747271, 'learning_rate': 0.22954353957845655, 'min_child_samples': 301, 'num_leaves': 15}.\n"
     ]
    },
    {
     "name": "stdout",
     "output_type": "stream",
     "text": [
      "Training until validation scores don't improve for 30 rounds.\n",
      "Early stopping, best iteration is:\n",
      "[135]\tvalid_0's l1: 0.0265268\n"
     ]
    },
    {
     "name": "stderr",
     "output_type": "stream",
     "text": [
      "[I 2018-12-19 15:18:42,636] Finished a trial resulted in value: 0.026526799225288465. Current best value is 0.026526799225288465 with parameters: {'bagging_freq': 1, 'feature_fraction': 0.6306572812609922, 'learning_rate': 0.32460227035147415, 'min_child_samples': 591, 'num_leaves': 10}.\n"
     ]
    },
    {
     "name": "stdout",
     "output_type": "stream",
     "text": [
      "Training until validation scores don't improve for 30 rounds.\n",
      "Early stopping, best iteration is:\n",
      "[53]\tvalid_0's l1: 0.0266199\n"
     ]
    },
    {
     "name": "stderr",
     "output_type": "stream",
     "text": [
      "[I 2018-12-19 15:18:50,819] Finished a trial resulted in value: 0.02661987863790288. Current best value is 0.026526799225288465 with parameters: {'bagging_freq': 1, 'feature_fraction': 0.6306572812609922, 'learning_rate': 0.32460227035147415, 'min_child_samples': 591, 'num_leaves': 10}.\n"
     ]
    },
    {
     "name": "stdout",
     "output_type": "stream",
     "text": [
      "Training until validation scores don't improve for 30 rounds.\n",
      "Early stopping, best iteration is:\n",
      "[20]\tvalid_0's l1: 0.0281729\n"
     ]
    },
    {
     "name": "stderr",
     "output_type": "stream",
     "text": [
      "[I 2018-12-19 15:18:54,300] Finished a trial resulted in value: 0.028172860609069542. Current best value is 0.026526799225288465 with parameters: {'bagging_freq': 1, 'feature_fraction': 0.6306572812609922, 'learning_rate': 0.32460227035147415, 'min_child_samples': 591, 'num_leaves': 10}.\n"
     ]
    },
    {
     "name": "stdout",
     "output_type": "stream",
     "text": [
      "Training until validation scores don't improve for 30 rounds.\n",
      "Early stopping, best iteration is:\n",
      "[70]\tvalid_0's l1: 0.0268108\n"
     ]
    },
    {
     "name": "stderr",
     "output_type": "stream",
     "text": [
      "[I 2018-12-19 15:19:03,041] Finished a trial resulted in value: 0.026810765836895276. Current best value is 0.026526799225288465 with parameters: {'bagging_freq': 1, 'feature_fraction': 0.6306572812609922, 'learning_rate': 0.32460227035147415, 'min_child_samples': 591, 'num_leaves': 10}.\n"
     ]
    },
    {
     "name": "stdout",
     "output_type": "stream",
     "text": [
      "Training until validation scores don't improve for 30 rounds.\n",
      "Early stopping, best iteration is:\n",
      "[91]\tvalid_0's l1: 0.0266211\n"
     ]
    },
    {
     "name": "stderr",
     "output_type": "stream",
     "text": [
      "[I 2018-12-19 15:19:14,353] Finished a trial resulted in value: 0.02662109988345987. Current best value is 0.026526799225288465 with parameters: {'bagging_freq': 1, 'feature_fraction': 0.6306572812609922, 'learning_rate': 0.32460227035147415, 'min_child_samples': 591, 'num_leaves': 10}.\n"
     ]
    },
    {
     "name": "stdout",
     "output_type": "stream",
     "text": [
      "Training until validation scores don't improve for 30 rounds.\n",
      "Early stopping, best iteration is:\n",
      "[156]\tvalid_0's l1: 0.0266031\n"
     ]
    },
    {
     "name": "stderr",
     "output_type": "stream",
     "text": [
      "[I 2018-12-19 15:19:26,627] Finished a trial resulted in value: 0.026603095018341728. Current best value is 0.026526799225288465 with parameters: {'bagging_freq': 1, 'feature_fraction': 0.6306572812609922, 'learning_rate': 0.32460227035147415, 'min_child_samples': 591, 'num_leaves': 10}.\n"
     ]
    },
    {
     "name": "stdout",
     "output_type": "stream",
     "text": [
      "Training until validation scores don't improve for 30 rounds.\n",
      "Early stopping, best iteration is:\n",
      "[207]\tvalid_0's l1: 0.0265837\n"
     ]
    },
    {
     "name": "stderr",
     "output_type": "stream",
     "text": [
      "[I 2018-12-19 15:19:42,212] Finished a trial resulted in value: 0.026583746794382877. Current best value is 0.026526799225288465 with parameters: {'bagging_freq': 1, 'feature_fraction': 0.6306572812609922, 'learning_rate': 0.32460227035147415, 'min_child_samples': 591, 'num_leaves': 10}.\n"
     ]
    },
    {
     "name": "stdout",
     "output_type": "stream",
     "text": [
      "Training until validation scores don't improve for 30 rounds.\n",
      "Early stopping, best iteration is:\n",
      "[99]\tvalid_0's l1: 0.0266479\n"
     ]
    },
    {
     "name": "stderr",
     "output_type": "stream",
     "text": [
      "[I 2018-12-19 15:19:55,545] Finished a trial resulted in value: 0.026647880506692544. Current best value is 0.026526799225288465 with parameters: {'bagging_freq': 1, 'feature_fraction': 0.6306572812609922, 'learning_rate': 0.32460227035147415, 'min_child_samples': 591, 'num_leaves': 10}.\n"
     ]
    },
    {
     "name": "stdout",
     "output_type": "stream",
     "text": [
      "Training until validation scores don't improve for 30 rounds.\n",
      "Early stopping, best iteration is:\n",
      "[21]\tvalid_0's l1: 0.0265077\n"
     ]
    },
    {
     "name": "stderr",
     "output_type": "stream",
     "text": [
      "[I 2018-12-19 15:20:01,366] Finished a trial resulted in value: 0.02650770073205761. Current best value is 0.02650770073205761 with parameters: {'bagging_freq': 1, 'feature_fraction': 0.9082687389306051, 'learning_rate': 0.4832910769130633, 'min_child_samples': 563, 'num_leaves': 180}.\n"
     ]
    },
    {
     "name": "stdout",
     "output_type": "stream",
     "text": [
      "Training until validation scores don't improve for 30 rounds.\n",
      "Early stopping, best iteration is:\n",
      "[21]\tvalid_0's l1: 0.0265516\n"
     ]
    },
    {
     "name": "stderr",
     "output_type": "stream",
     "text": [
      "[I 2018-12-19 15:20:06,914] Finished a trial resulted in value: 0.026551600238948692. Current best value is 0.02650770073205761 with parameters: {'bagging_freq': 1, 'feature_fraction': 0.9082687389306051, 'learning_rate': 0.4832910769130633, 'min_child_samples': 563, 'num_leaves': 180}.\n"
     ]
    },
    {
     "name": "stdout",
     "output_type": "stream",
     "text": [
      "Training until validation scores don't improve for 30 rounds.\n",
      "Early stopping, best iteration is:\n",
      "[32]\tvalid_0's l1: 0.0266421\n"
     ]
    },
    {
     "name": "stderr",
     "output_type": "stream",
     "text": [
      "[I 2018-12-19 15:20:13,476] Finished a trial resulted in value: 0.02664210295528477. Current best value is 0.02650770073205761 with parameters: {'bagging_freq': 1, 'feature_fraction': 0.9082687389306051, 'learning_rate': 0.4832910769130633, 'min_child_samples': 563, 'num_leaves': 180}.\n"
     ]
    },
    {
     "name": "stdout",
     "output_type": "stream",
     "text": [
      "Training until validation scores don't improve for 30 rounds.\n",
      "Early stopping, best iteration is:\n",
      "[19]\tvalid_0's l1: 0.0267357\n"
     ]
    },
    {
     "name": "stderr",
     "output_type": "stream",
     "text": [
      "[I 2018-12-19 15:20:19,657] Finished a trial resulted in value: 0.026735705638536753. Current best value is 0.02650770073205761 with parameters: {'bagging_freq': 1, 'feature_fraction': 0.9082687389306051, 'learning_rate': 0.4832910769130633, 'min_child_samples': 563, 'num_leaves': 180}.\n"
     ]
    },
    {
     "name": "stdout",
     "output_type": "stream",
     "text": [
      "Training until validation scores don't improve for 30 rounds.\n",
      "Early stopping, best iteration is:\n",
      "[22]\tvalid_0's l1: 0.0268408\n"
     ]
    },
    {
     "name": "stderr",
     "output_type": "stream",
     "text": [
      "[I 2018-12-19 15:20:25,306] Finished a trial resulted in value: 0.026840819126198002. Current best value is 0.02650770073205761 with parameters: {'bagging_freq': 1, 'feature_fraction': 0.9082687389306051, 'learning_rate': 0.4832910769130633, 'min_child_samples': 563, 'num_leaves': 180}.\n"
     ]
    },
    {
     "name": "stdout",
     "output_type": "stream",
     "text": [
      "Training until validation scores don't improve for 30 rounds.\n",
      "Early stopping, best iteration is:\n",
      "[21]\tvalid_0's l1: 0.0264798\n"
     ]
    },
    {
     "name": "stderr",
     "output_type": "stream",
     "text": [
      "[I 2018-12-19 15:20:30,140] Finished a trial resulted in value: 0.026479799862618194. Current best value is 0.026479799862618194 with parameters: {'bagging_freq': 1, 'feature_fraction': 0.9349841440529534, 'learning_rate': 0.5660592763960708, 'min_child_samples': 491, 'num_leaves': 66}.\n"
     ]
    },
    {
     "name": "stdout",
     "output_type": "stream",
     "text": [
      "Training until validation scores don't improve for 30 rounds.\n",
      "Early stopping, best iteration is:\n",
      "[6]\tvalid_0's l1: 0.026703\n"
     ]
    },
    {
     "name": "stderr",
     "output_type": "stream",
     "text": [
      "[I 2018-12-19 15:20:34,374] Finished a trial resulted in value: 0.0267029778477402. Current best value is 0.026479799862618194 with parameters: {'bagging_freq': 1, 'feature_fraction': 0.9349841440529534, 'learning_rate': 0.5660592763960708, 'min_child_samples': 491, 'num_leaves': 66}.\n"
     ]
    },
    {
     "name": "stdout",
     "output_type": "stream",
     "text": [
      "Training until validation scores don't improve for 30 rounds.\n",
      "Early stopping, best iteration is:\n",
      "[16]\tvalid_0's l1: 0.0267837\n"
     ]
    },
    {
     "name": "stderr",
     "output_type": "stream",
     "text": [
      "[I 2018-12-19 15:20:38,988] Finished a trial resulted in value: 0.02678373764764237. Current best value is 0.026479799862618194 with parameters: {'bagging_freq': 1, 'feature_fraction': 0.9349841440529534, 'learning_rate': 0.5660592763960708, 'min_child_samples': 491, 'num_leaves': 66}.\n"
     ]
    },
    {
     "name": "stdout",
     "output_type": "stream",
     "text": [
      "Training until validation scores don't improve for 30 rounds.\n",
      "Early stopping, best iteration is:\n",
      "[46]\tvalid_0's l1: 0.0272911\n"
     ]
    },
    {
     "name": "stderr",
     "output_type": "stream",
     "text": [
      "[I 2018-12-19 15:20:43,698] Finished a trial resulted in value: 0.02729108728576011. Current best value is 0.026479799862618194 with parameters: {'bagging_freq': 1, 'feature_fraction': 0.9349841440529534, 'learning_rate': 0.5660592763960708, 'min_child_samples': 491, 'num_leaves': 66}.\n"
     ]
    },
    {
     "name": "stdout",
     "output_type": "stream",
     "text": [
      "Training until validation scores don't improve for 30 rounds.\n",
      "Early stopping, best iteration is:\n",
      "[10]\tvalid_0's l1: 0.0268798\n"
     ]
    },
    {
     "name": "stderr",
     "output_type": "stream",
     "text": [
      "[I 2018-12-19 15:20:48,284] Finished a trial resulted in value: 0.026879760617686214. Current best value is 0.026479799862618194 with parameters: {'bagging_freq': 1, 'feature_fraction': 0.9349841440529534, 'learning_rate': 0.5660592763960708, 'min_child_samples': 491, 'num_leaves': 66}.\n"
     ]
    },
    {
     "name": "stdout",
     "output_type": "stream",
     "text": [
      "Training until validation scores don't improve for 30 rounds.\n",
      "Early stopping, best iteration is:\n",
      "[10]\tvalid_0's l1: 0.0268817\n"
     ]
    },
    {
     "name": "stderr",
     "output_type": "stream",
     "text": [
      "[I 2018-12-19 15:20:51,881] Finished a trial resulted in value: 0.02688166057929903. Current best value is 0.026479799862618194 with parameters: {'bagging_freq': 1, 'feature_fraction': 0.9349841440529534, 'learning_rate': 0.5660592763960708, 'min_child_samples': 491, 'num_leaves': 66}.\n"
     ]
    },
    {
     "name": "stdout",
     "output_type": "stream",
     "text": [
      "Training until validation scores don't improve for 30 rounds.\n",
      "Early stopping, best iteration is:\n",
      "[32]\tvalid_0's l1: 0.0268777\n"
     ]
    },
    {
     "name": "stderr",
     "output_type": "stream",
     "text": [
      "[I 2018-12-19 15:20:59,212] Finished a trial resulted in value: 0.026877746699763838. Current best value is 0.026479799862618194 with parameters: {'bagging_freq': 1, 'feature_fraction': 0.9349841440529534, 'learning_rate': 0.5660592763960708, 'min_child_samples': 491, 'num_leaves': 66}.\n"
     ]
    },
    {
     "name": "stdout",
     "output_type": "stream",
     "text": [
      "Training until validation scores don't improve for 30 rounds.\n",
      "Early stopping, best iteration is:\n",
      "[21]\tvalid_0's l1: 0.0266\n"
     ]
    },
    {
     "name": "stderr",
     "output_type": "stream",
     "text": [
      "[I 2018-12-19 15:21:05,000] Finished a trial resulted in value: 0.026600016332322254. Current best value is 0.026479799862618194 with parameters: {'bagging_freq': 1, 'feature_fraction': 0.9349841440529534, 'learning_rate': 0.5660592763960708, 'min_child_samples': 491, 'num_leaves': 66}.\n"
     ]
    },
    {
     "name": "stdout",
     "output_type": "stream",
     "text": [
      "Training until validation scores don't improve for 30 rounds.\n",
      "Early stopping, best iteration is:\n",
      "[9]\tvalid_0's l1: 0.0266256\n"
     ]
    },
    {
     "name": "stderr",
     "output_type": "stream",
     "text": [
      "[I 2018-12-19 15:21:09,383] Finished a trial resulted in value: 0.026625649908824406. Current best value is 0.026479799862618194 with parameters: {'bagging_freq': 1, 'feature_fraction': 0.9349841440529534, 'learning_rate': 0.5660592763960708, 'min_child_samples': 491, 'num_leaves': 66}.\n"
     ]
    },
    {
     "name": "stdout",
     "output_type": "stream",
     "text": [
      "Training until validation scores don't improve for 30 rounds.\n",
      "Early stopping, best iteration is:\n",
      "[10]\tvalid_0's l1: 0.0265744\n"
     ]
    },
    {
     "name": "stderr",
     "output_type": "stream",
     "text": [
      "[I 2018-12-19 15:21:13,547] Finished a trial resulted in value: 0.026574363920182774. Current best value is 0.026479799862618194 with parameters: {'bagging_freq': 1, 'feature_fraction': 0.9349841440529534, 'learning_rate': 0.5660592763960708, 'min_child_samples': 491, 'num_leaves': 66}.\n"
     ]
    },
    {
     "name": "stdout",
     "output_type": "stream",
     "text": [
      "Training until validation scores don't improve for 30 rounds.\n",
      "Early stopping, best iteration is:\n",
      "[43]\tvalid_0's l1: 0.026527\n"
     ]
    },
    {
     "name": "stderr",
     "output_type": "stream",
     "text": [
      "[I 2018-12-19 15:21:21,070] Finished a trial resulted in value: 0.026527006593021173. Current best value is 0.026479799862618194 with parameters: {'bagging_freq': 1, 'feature_fraction': 0.9349841440529534, 'learning_rate': 0.5660592763960708, 'min_child_samples': 491, 'num_leaves': 66}.\n"
     ]
    },
    {
     "name": "stdout",
     "output_type": "stream",
     "text": [
      "Training until validation scores don't improve for 30 rounds.\n",
      "Early stopping, best iteration is:\n",
      "[19]\tvalid_0's l1: 0.0265435\n"
     ]
    },
    {
     "name": "stderr",
     "output_type": "stream",
     "text": [
      "[I 2018-12-19 15:21:25,073] Finished a trial resulted in value: 0.02654353473441425. Current best value is 0.026479799862618194 with parameters: {'bagging_freq': 1, 'feature_fraction': 0.9349841440529534, 'learning_rate': 0.5660592763960708, 'min_child_samples': 491, 'num_leaves': 66}.\n"
     ]
    },
    {
     "name": "stdout",
     "output_type": "stream",
     "text": [
      "Training until validation scores don't improve for 30 rounds.\n",
      "Early stopping, best iteration is:\n",
      "[8]\tvalid_0's l1: 0.0270727\n"
     ]
    },
    {
     "name": "stderr",
     "output_type": "stream",
     "text": [
      "[I 2018-12-19 15:21:29,929] Finished a trial resulted in value: 0.027072667702248126. Current best value is 0.026479799862618194 with parameters: {'bagging_freq': 1, 'feature_fraction': 0.9349841440529534, 'learning_rate': 0.5660592763960708, 'min_child_samples': 491, 'num_leaves': 66}.\n"
     ]
    },
    {
     "name": "stdout",
     "output_type": "stream",
     "text": [
      "Training until validation scores don't improve for 30 rounds.\n",
      "Early stopping, best iteration is:\n",
      "[9]\tvalid_0's l1: 0.0266201\n"
     ]
    },
    {
     "name": "stderr",
     "output_type": "stream",
     "text": [
      "[I 2018-12-19 15:21:34,757] Finished a trial resulted in value: 0.026620138215569567. Current best value is 0.026479799862618194 with parameters: {'bagging_freq': 1, 'feature_fraction': 0.9349841440529534, 'learning_rate': 0.5660592763960708, 'min_child_samples': 491, 'num_leaves': 66}.\n"
     ]
    },
    {
     "name": "stdout",
     "output_type": "stream",
     "text": [
      "Training until validation scores don't improve for 30 rounds.\n",
      "Early stopping, best iteration is:\n",
      "[37]\tvalid_0's l1: 0.0271419\n"
     ]
    },
    {
     "name": "stderr",
     "output_type": "stream",
     "text": [
      "[I 2018-12-19 15:21:38,784] Finished a trial resulted in value: 0.02714185856681109. Current best value is 0.026479799862618194 with parameters: {'bagging_freq': 1, 'feature_fraction': 0.9349841440529534, 'learning_rate': 0.5660592763960708, 'min_child_samples': 491, 'num_leaves': 66}.\n"
     ]
    },
    {
     "name": "stdout",
     "output_type": "stream",
     "text": [
      "Training until validation scores don't improve for 30 rounds.\n",
      "Early stopping, best iteration is:\n",
      "[33]\tvalid_0's l1: 0.0265794\n"
     ]
    },
    {
     "name": "stderr",
     "output_type": "stream",
     "text": [
      "[I 2018-12-19 15:21:43,979] Finished a trial resulted in value: 0.02657941201772657. Current best value is 0.026479799862618194 with parameters: {'bagging_freq': 1, 'feature_fraction': 0.9349841440529534, 'learning_rate': 0.5660592763960708, 'min_child_samples': 491, 'num_leaves': 66}.\n"
     ]
    },
    {
     "name": "stdout",
     "output_type": "stream",
     "text": [
      "Training until validation scores don't improve for 30 rounds.\n",
      "Early stopping, best iteration is:\n",
      "[17]\tvalid_0's l1: 0.0267291\n"
     ]
    },
    {
     "name": "stderr",
     "output_type": "stream",
     "text": [
      "[I 2018-12-19 15:21:48,533] Finished a trial resulted in value: 0.02672905876999563. Current best value is 0.026479799862618194 with parameters: {'bagging_freq': 1, 'feature_fraction': 0.9349841440529534, 'learning_rate': 0.5660592763960708, 'min_child_samples': 491, 'num_leaves': 66}.\n"
     ]
    },
    {
     "name": "stdout",
     "output_type": "stream",
     "text": [
      "Training until validation scores don't improve for 30 rounds.\n",
      "Early stopping, best iteration is:\n",
      "[29]\tvalid_0's l1: 0.0265335\n"
     ]
    },
    {
     "name": "stderr",
     "output_type": "stream",
     "text": [
      "[I 2018-12-19 15:21:54,456] Finished a trial resulted in value: 0.026533460742302235. Current best value is 0.026479799862618194 with parameters: {'bagging_freq': 1, 'feature_fraction': 0.9349841440529534, 'learning_rate': 0.5660592763960708, 'min_child_samples': 491, 'num_leaves': 66}.\n"
     ]
    },
    {
     "name": "stdout",
     "output_type": "stream",
     "text": [
      "Training until validation scores don't improve for 30 rounds.\n",
      "Early stopping, best iteration is:\n",
      "[10]\tvalid_0's l1: 0.0266868\n"
     ]
    },
    {
     "name": "stderr",
     "output_type": "stream",
     "text": [
      "[I 2018-12-19 15:21:59,127] Finished a trial resulted in value: 0.026686776999891255. Current best value is 0.026479799862618194 with parameters: {'bagging_freq': 1, 'feature_fraction': 0.9349841440529534, 'learning_rate': 0.5660592763960708, 'min_child_samples': 491, 'num_leaves': 66}.\n"
     ]
    },
    {
     "name": "stdout",
     "output_type": "stream",
     "text": [
      "Training until validation scores don't improve for 30 rounds.\n",
      "Early stopping, best iteration is:\n",
      "[11]\tvalid_0's l1: 0.0267347\n"
     ]
    },
    {
     "name": "stderr",
     "output_type": "stream",
     "text": [
      "[I 2018-12-19 15:22:03,754] Finished a trial resulted in value: 0.026734652379629593. Current best value is 0.026479799862618194 with parameters: {'bagging_freq': 1, 'feature_fraction': 0.9349841440529534, 'learning_rate': 0.5660592763960708, 'min_child_samples': 491, 'num_leaves': 66}.\n"
     ]
    },
    {
     "name": "stdout",
     "output_type": "stream",
     "text": [
      "Training until validation scores don't improve for 30 rounds.\n",
      "Early stopping, best iteration is:\n",
      "[13]\tvalid_0's l1: 0.0268051\n"
     ]
    },
    {
     "name": "stderr",
     "output_type": "stream",
     "text": [
      "[I 2018-12-19 15:22:08,805] Finished a trial resulted in value: 0.026805092996693886. Current best value is 0.026479799862618194 with parameters: {'bagging_freq': 1, 'feature_fraction': 0.9349841440529534, 'learning_rate': 0.5660592763960708, 'min_child_samples': 491, 'num_leaves': 66}.\n"
     ]
    },
    {
     "name": "stdout",
     "output_type": "stream",
     "text": [
      "Training until validation scores don't improve for 30 rounds.\n",
      "Early stopping, best iteration is:\n",
      "[112]\tvalid_0's l1: 0.0268776\n"
     ]
    },
    {
     "name": "stderr",
     "output_type": "stream",
     "text": [
      "[I 2018-12-19 15:22:21,114] Finished a trial resulted in value: 0.02687757753750649. Current best value is 0.026479799862618194 with parameters: {'bagging_freq': 1, 'feature_fraction': 0.9349841440529534, 'learning_rate': 0.5660592763960708, 'min_child_samples': 491, 'num_leaves': 66}.\n"
     ]
    },
    {
     "name": "stdout",
     "output_type": "stream",
     "text": [
      "Training until validation scores don't improve for 30 rounds.\n",
      "Early stopping, best iteration is:\n",
      "[25]\tvalid_0's l1: 0.0267491\n"
     ]
    },
    {
     "name": "stderr",
     "output_type": "stream",
     "text": [
      "[I 2018-12-19 15:22:25,577] Finished a trial resulted in value: 0.026749096525652973. Current best value is 0.026479799862618194 with parameters: {'bagging_freq': 1, 'feature_fraction': 0.9349841440529534, 'learning_rate': 0.5660592763960708, 'min_child_samples': 491, 'num_leaves': 66}.\n"
     ]
    },
    {
     "name": "stdout",
     "output_type": "stream",
     "text": [
      "Training until validation scores don't improve for 30 rounds.\n",
      "Early stopping, best iteration is:\n",
      "[54]\tvalid_0's l1: 0.0266138\n"
     ]
    },
    {
     "name": "stderr",
     "output_type": "stream",
     "text": [
      "[I 2018-12-19 15:22:31,091] Finished a trial resulted in value: 0.026613772925136066. Current best value is 0.026479799862618194 with parameters: {'bagging_freq': 1, 'feature_fraction': 0.9349841440529534, 'learning_rate': 0.5660592763960708, 'min_child_samples': 491, 'num_leaves': 66}.\n"
     ]
    },
    {
     "name": "stdout",
     "output_type": "stream",
     "text": [
      "CPU times: user 36min 35s, sys: 14.9 s, total: 36min 50s\n",
      "Wall time: 6min 8s\n"
     ]
    }
   ],
   "source": [
    "%%time\n",
    "study = optuna.create_study()\n",
    "study.optimize(objective, n_trials=50)"
   ]
  },
  {
   "cell_type": "code",
   "execution_count": 31,
   "metadata": {},
   "outputs": [
    {
     "data": {
      "text/plain": [
       "{'bagging_freq': 1,\n",
       " 'feature_fraction': 0.9349841440529534,\n",
       " 'learning_rate': 0.5660592763960708,\n",
       " 'min_child_samples': 491,\n",
       " 'num_leaves': 66}"
      ]
     },
     "execution_count": 31,
     "metadata": {},
     "output_type": "execute_result"
    }
   ],
   "source": [
    "study.best_params"
   ]
  },
  {
   "cell_type": "code",
   "execution_count": 32,
   "metadata": {},
   "outputs": [
    {
     "name": "stdout",
     "output_type": "stream",
     "text": [
      "Training until validation scores don't improve for 30 rounds.\n",
      "Early stopping, best iteration is:\n",
      "[21]\tvalid_0's l1: 0.0264798\n"
     ]
    }
   ],
   "source": [
    "best_params = study.best_params\n",
    "best_params.update(fixed_params)\n",
    "model = lgb.train(best_params, lgb_dev, valid_sets=lgb_val, early_stopping_rounds=30, verbose_eval=-1)"
   ]
  },
  {
   "cell_type": "code",
   "execution_count": 33,
   "metadata": {},
   "outputs": [],
   "source": [
    "with open(os.path.join(output_dir, 'lgbm_baseline_20181219_model_{}.pkl'.format(abcd.upper())), mode='wb') as f:\n",
    "    pickle.dump(model, f)\n",
    "    \n",
    "with open(os.path.join(output_dir, 'lgbm_baseline_20181219_model_{}.pkl'.format(abcd.upper())), mode='rb') as f:\n",
    "    model = pickle.load(f)"
   ]
  },
  {
   "cell_type": "code",
   "execution_count": 34,
   "metadata": {},
   "outputs": [
    {
     "data": {
      "image/png": "[encoded data removed]",
      "text/plain": [
       "<Figure size 1080x360 with 1 Axes>"
      ]
     },
     "metadata": {
      "needs_background": "light"
     },
     "output_type": "display_data"
    }
   ],
   "source": [
    "feature_importance = pd.DataFrame({'feature': X_dev.columns, 'importance': model.feature_importance()})\n",
    "feature_importance = feature_importance.sort_values('importance').set_index('feature', drop=False)\n",
    "ax = feature_importance.plot.barh(figsize=(15,5))"
   ]
  },
  {
   "cell_type": "markdown",
   "metadata": {},
   "source": [
    "## Predict for Submission\n",
    "1. make initial values using last date lev_l_diff of each kilo\n",
    "2. predict 2 weeks ahead lev_l values by the initial values\n",
    "3. predcit 4 weeks ahead lev_l values by the 2 weeks ahead lev_l values\n",
    "4. repeat ..."
   ]
  },
  {
   "cell_type": "markdown",
   "metadata": {},
   "source": [
    "### make initial values for future prediction"
   ]
  },
  {
   "cell_type": "code",
   "execution_count": 35,
   "metadata": {},
   "outputs": [],
   "source": [
    "def make_last_date_pv(pv_df):\n",
    "    last_date_pv_df = pv_df.fillna(method='ffill').tail(1)\n",
    "    last_date_pv_df = last_date_pv_df.fillna(method='ffill', axis=1)\n",
    "    return last_date_pv_df\n",
    "\n",
    "def melt_pv(pv_df, value_name):\n",
    "    return pd.melt(pv_df.reset_index(), id_vars='date', value_name=value_name)"
   ]
  },
  {
   "cell_type": "markdown",
   "metadata": {},
   "source": [
    "### Repeat prediction and making datasets"
   ]
  },
  {
   "cell_type": "code",
   "execution_count": 36,
   "metadata": {},
   "outputs": [],
   "source": [
    "# predict y\n",
    "# y -> X_next_01\n",
    "# X_next_01 -> y_next_02\n",
    "# y_next_02-> X_next_02\n",
    "# X_next_02 -> y_next_03 ..."
   ]
  },
  {
   "cell_type": "code",
   "execution_count": 37,
   "metadata": {},
   "outputs": [],
   "source": [
    "def make_data_all_nxt(y_nxt, y_nxt_undiff):\n",
    "    data_all_nxt = y_nxt.copy()\n",
    "    data_all_nxt = data_all_nxt.merge(y_nxt_undiff, on=['date', 'kilo'], how='left')\n",
    "    data_all_nxt['sin_date'] = np.sin(2 * np.pi * make_day_cnts(data_all_nxt) / 365)\n",
    "    data_all_nxt = merge_features_by_kilo(data_all_nxt)\n",
    "    data_all_nxt['date_tgt'] = data_all_nxt['date'] + datetime.timedelta(days=1)\n",
    "    data_all_nxt['lev_l_diff_tgt'] = -1.0\n",
    "    return data_all_nxt[data_all_col_order]\n",
    "\n",
    "def make_y_nxt(data_all_current, model):\n",
    "    X_current, y_ = X_y_split(data_all_current)\n",
    "    y_nxt_np = model.predict(X_current)\n",
    "    y_nxt = pd.Series(data=y_nxt_np, index=y_.index, name=y_.name)\n",
    "#     y_nxt = y_nxt.rolling(5, min_periods=0, center=True).mean()\n",
    "    y_nxt = y_nxt.reset_index(level=['date_tgt', 'kilo']).reset_index(drop=True)\n",
    "    y_nxt = y_nxt.rename(columns={'date_tgt': 'date', 'lev_l_diff_tgt': 'lev_l_diff'})\n",
    "    \n",
    "    y_nxt_undiff = data_all_current[['date', 'kilo', 'lev_l']].copy()\n",
    "    y_nxt_undiff['date'] = y_nxt_undiff['date'] + datetime.timedelta(days=1)\n",
    "    y_nxt_undiff = y_nxt.merge(y_nxt_undiff, on=['date', 'kilo'], how='left')\n",
    "    y_nxt_undiff['lev_l'] = y_nxt_undiff['lev_l'] + y_nxt_undiff['lev_l_diff']\n",
    "    y_nxt_undiff = y_nxt_undiff[['date', 'kilo', 'lev_l']]\n",
    "    return y_nxt, y_nxt_undiff"
   ]
  },
  {
   "cell_type": "code",
   "execution_count": 38,
   "metadata": {},
   "outputs": [],
   "source": [
    "def predict4submission(lev_pv_ra_diff, lev_pv_ra, model):\n",
    "    last_date_lev_ra_diff = melt_pv(make_last_date_pv(lev_pv_ra_diff), 'lev_l_diff')\n",
    "    last_date_lev_ra = melt_pv(make_last_date_pv(lev_pv_ra), 'lev_l')\n",
    "    last_date_lev_ra['lev_l'] = last_date_lev_ra['lev_l'] + last_date_lev_ra_diff['lev_l_diff']\n",
    "\n",
    "    y_nxt_pool = y_nxt = last_date_lev_ra_diff\n",
    "    y_nxt_undiff_pool = y_nxt_undiff = last_date_lev_ra\n",
    "    for i in range(110): # more than 91days\n",
    "        data_all_nxt = make_data_all_nxt(y_nxt, y_nxt_undiff)\n",
    "        y_nxt, y_nxt_undiff = make_y_nxt(data_all_nxt, model)\n",
    "        y_nxt_pool = pd.concat([y_nxt_pool, y_nxt], axis=0)\n",
    "        y_nxt_undiff_pool = pd.concat([y_nxt_undiff_pool, y_nxt_undiff], axis=0)\n",
    "    return y_nxt_undiff_pool"
   ]
  },
  {
   "cell_type": "markdown",
   "metadata": {},
   "source": [
    "### Validation"
   ]
  },
  {
   "cell_type": "code",
   "execution_count": 39,
   "metadata": {},
   "outputs": [
    {
     "name": "stdout",
     "output_type": "stream",
     "text": [
      "sample: 997,518\n",
      "MAE: 1.200000544498026\n"
     ]
    }
   ],
   "source": [
    "y_nxt_undiff_pool_val = predict4submission(lev_pv_ra_diff.query('date<\"2017-04-21\"'), lev_pv_ra.query('date<\"2017-04-21\"'), model)\n",
    "y_nxt_undiff_pool_val = y_nxt_undiff_pool_val.rename(columns={'lev_l': 'lev_l_pred'})\n",
    "\n",
    "tru_pred_df = y_nxt_undiff_pool_val.merge(track, how='inner', on=['date', 'kilo'])\n",
    "tru_pred_df = tru_pred_df[['date', 'kilo', 'lev_l', 'lev_l_pred']]\n",
    "tru_pred_df = tru_pred_df.dropna()\n",
    "print('sample: {:,}'.format(tru_pred_df.shape[0]))\n",
    "print('MAE: {}'.format(mean_absolute_error(tru_pred_df['lev_l'], tru_pred_df['lev_l_pred'])))"
   ]
  },
  {
   "cell_type": "markdown",
   "metadata": {},
   "source": [
    "## Submission"
   ]
  },
  {
   "cell_type": "code",
   "execution_count": 40,
   "metadata": {},
   "outputs": [],
   "source": [
    "y_nxt_undiff_pool = predict4submission(lev_pv_ra_diff.query('date<\"2018-03-19\"'), lev_pv_ra.query('date<\"2018-03-19\"'), model)\n",
    "index_master_abcd = index_master.query('line_name==\"{}\"'.format(abcd.upper()))\n",
    "pred_df = index_master_abcd.merge(y_nxt_undiff_pool, how='left', on=['date', 'kilo'])\n",
    "pred_df = pred_df.rename(columns={'lev_l': 'lev_l_pred'})\n",
    "pred_df = pred_df.drop('id', axis=1)"
   ]
  },
  {
   "cell_type": "code",
   "execution_count": 41,
   "metadata": {},
   "outputs": [],
   "source": [
    "pred_df.to_csv(os.path.join(output_dir, 'lgbm_baseline_20181219_{}.csv'.format(abcd.upper())), index=False)"
   ]
  },
  {
   "cell_type": "code",
   "execution_count": 42,
   "metadata": {},
   "outputs": [
    {
     "data": {
      "text/plain": [
       "<matplotlib.axes._subplots.AxesSubplot at 0x7efecb67cdd8>"
      ]
     },
     "execution_count": 42,
     "metadata": {},
     "output_type": "execute_result"
    },
    {
     "data": {
      "image/png": "[encoded data removed]",
      "text/plain": [
       "<Figure size 432x288 with 1 Axes>"
      ]
     },
     "metadata": {
      "needs_background": "light"
     },
     "output_type": "display_data"
    }
   ],
   "source": [
    "pred_df['lev_l_pred'].hist(bins=50)"
   ]
  },
  {
   "cell_type": "code",
   "execution_count": 43,
   "metadata": {},
   "outputs": [
    {
     "data": {
      "text/plain": [
       "<matplotlib.axes._subplots.AxesSubplot at 0x7efecb68eef0>"
      ]
     },
     "execution_count": 43,
     "metadata": {},
     "output_type": "execute_result"
    },
    {
     "data": {
      "image/png": "[encoded data removed]",
      "text/plain": [
       "<Figure size 432x288 with 1 Axes>"
      ]
     },
     "metadata": {
      "needs_background": "light"
     },
     "output_type": "display_data"
    }
   ],
   "source": [
    "track['lev_l'].hist(bins=50)"
   ]
  },
  {
   "cell_type": "code",
   "execution_count": null,
   "metadata": {},
   "outputs": [],
   "source": []
  }
 ],
 "metadata": {
  "kernelspec": {
   "display_name": "Python 3",
   "language": "python",
   "name": "python3"
  },
  "language_info": {
   "codemirror_mode": {
    "name": "ipython",
    "version": 3
   },
   "file_extension": ".py",
   "mimetype": "text/x-python",
   "name": "python",
   "nbconvert_exporter": "python",
   "pygments_lexer": "ipython3",
   "version": "3.6.7"
  }
 },
 "nbformat": 4,
 "nbformat_minor": 2
}
