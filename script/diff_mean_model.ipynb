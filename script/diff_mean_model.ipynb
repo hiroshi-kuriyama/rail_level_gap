{
 "cells": [
  {
   "cell_type": "markdown",
   "metadata": {},
   "source": [
    "# Diff Mean Model\n",
    "calculate difference of t and t-1 lev_l values\n",
    "see also mean_model.ipynb"
   ]
  },
  {
   "cell_type": "code",
   "execution_count": 1,
   "metadata": {},
   "outputs": [],
   "source": [
    "import os\n",
    "import numpy as np\n",
    "import pandas as pd\n",
    "import datetime\n",
    "import matplotlib.pyplot as plt\n",
    "%matplotlib inline"
   ]
  },
  {
   "cell_type": "code",
   "execution_count": 2,
   "metadata": {},
   "outputs": [],
   "source": [
    "input_dir = '../input/'\n",
    "working_dir = '../working/'\n",
    "output_dir = '../output/'"
   ]
  },
  {
   "cell_type": "markdown",
   "metadata": {},
   "source": [
    "## Read data"
   ]
  },
  {
   "cell_type": "code",
   "execution_count": 3,
   "metadata": {},
   "outputs": [],
   "source": [
    "def read_track(line_name='a'):\n",
    "    track_df = pd.read_csv(os.path.join(input_dir, 'track_{}.csv'.format(line_name.upper())))\n",
    "    col_names_track = ['date', 'kilo', 'lev_l', 'lev_r', 'cur_l', 'cur_r', 'cant', 'width', 'speed']\n",
    "    track_df.columns = col_names_track\n",
    "    track_df['date'] = pd.to_datetime(track_df['date'])\n",
    "    print('track_{line_name} shape: {shape}'.format(line_name=line_name.upper(), shape=track_df.shape))\n",
    "    return track_df"
   ]
  },
  {
   "cell_type": "code",
   "execution_count": 4,
   "metadata": {},
   "outputs": [],
   "source": [
    "def read_equ(line_name='a'):\n",
    "    equ_df = pd.read_csv(os.path.join(input_dir, 'equipment_{}.csv'.format(line_name.upper())))\n",
    "    col_names_equ = ['kilo', 'is_ballast', 'is_long', 'sleeper_type', 'is_bridge', 'is_crossing', 'gross_ton', 'radius', 'is_unreliable']\n",
    "    equ_df.columns = col_names_equ\n",
    "    print('equ_{line_name} shape: {shape}'.format(line_name=line_name.upper(), shape=equ_df.shape))\n",
    "    return equ_df"
   ]
  },
  {
   "cell_type": "code",
   "execution_count": 5,
   "metadata": {},
   "outputs": [
    {
     "name": "stdout",
     "output_type": "stream",
     "text": [
      "track_A shape: (10185690, 9)\n",
      "equ_A shape: (27906, 9)\n",
      "track_B shape: (7815753, 9)\n",
      "equ_B shape: (21531, 9)\n",
      "track_C shape: (20324660, 9)\n",
      "equ_C shape: (55684, 9)\n",
      "track_D shape: (5601687, 9)\n",
      "equ_D shape: (15691, 9)\n"
     ]
    }
   ],
   "source": [
    "abcd_list = ['a', 'b', 'c', 'd']\n",
    "track = {}\n",
    "equ = {}\n",
    "for abcd in abcd_list:\n",
    "    track[abcd] = read_track(abcd)\n",
    "    equ[abcd] = read_equ(abcd)"
   ]
  },
  {
   "cell_type": "code",
   "execution_count": 6,
   "metadata": {},
   "outputs": [],
   "source": [
    "sample_submit = pd.read_csv(os.path.join(input_dir, 'sample_submit.csv'), header=None)\n",
    "index_master = pd.read_csv(os.path.join(input_dir, 'index_master.csv'))\n",
    "index_master.columns = ['id', 'line_name', 'date', 'kilo']"
   ]
  },
  {
   "cell_type": "markdown",
   "metadata": {},
   "source": [
    "## Calculate Diff"
   ]
  },
  {
   "cell_type": "code",
   "execution_count": 24,
   "metadata": {},
   "outputs": [],
   "source": [
    "track_sorted = {}\n",
    "lev_df = {}\n",
    "lev_diff = {}\n",
    "lev_diff_mean = {}\n",
    "for abcd in abcd_list:\n",
    "    # calculate diff\n",
    "    lev_df[abcd] = track[abcd].pivot(index='date', columns='kilo', values='lev_l')\n",
    "    lev_df[abcd] = lev_df[abcd].fillna(method='ffill')\n",
    "    lev_diff[abcd] = lev_df[abcd].diff()\n",
    "    # mean of diff\n",
    "    lev_diff_mean[abcd] = lev_diff[abcd].mean(axis=0)\n",
    "    lev_diff_mean[abcd] = lev_diff_mean[abcd].fillna(lev_diff_mean[abcd].mean())"
   ]
  },
  {
   "cell_type": "markdown",
   "metadata": {},
   "source": [
    "### pred = mean of Nov + mean diff"
   ]
  },
  {
   "cell_type": "code",
   "execution_count": 25,
   "metadata": {},
   "outputs": [],
   "source": [
    "lev_nov_mean = {}\n",
    "track_pred = {}\n",
    "track_pred_concat = pd.DataFrame()\n",
    "for abcd in abcd_list:\n",
    "    # mean of actual lev_l in November\n",
    "    lev_nov_mean[abcd] = track[abcd].query('date>=\"20171201\"').groupby('kilo')['lev_l'].mean()\n",
    "    # pred equals \"mean of Nov\" + \"mean of diff\" \n",
    "    track_pred[abcd] = lev_nov_mean[abcd] + lev_diff_mean[abcd]\n",
    "    track_pred[abcd].name = 'lev_l'\n",
    "    track_pred[abcd] = track_pred[abcd].to_frame()\n",
    "    track_pred[abcd]['line_name'] = abcd.upper()\n",
    "    track_pred[abcd] = track_pred[abcd].reset_index()\n",
    "    track_pred[abcd]['kilo'] = track_pred[abcd]['kilo'].astype('int')\n",
    "    track_pred_concat = pd.concat([track_pred_concat, track_pred[abcd]], axis=0)"
   ]
  },
  {
   "cell_type": "code",
   "execution_count": 35,
   "metadata": {},
   "outputs": [],
   "source": [
    "submit = pd.merge(index_master, track_pred_concat, how='left', on=['kilo', 'line_name'])\n",
    "submit['lev_l'] = submit['lev_l'].fillna(submit['lev_l'].mean())"
   ]
  },
  {
   "cell_type": "code",
   "execution_count": 36,
   "metadata": {},
   "outputs": [],
   "source": [
    "submit[['id', 'lev_l']].to_csv(os.path.join(output_dir, 'diff_mean_model_20181028.csv'), header=False, index=False)"
   ]
  },
  {
   "cell_type": "markdown",
   "metadata": {},
   "source": [
    "### pred = mean of Nov + mean diff * days"
   ]
  },
  {
   "cell_type": "code",
   "execution_count": 91,
   "metadata": {},
   "outputs": [],
   "source": [
    "d_sta = datetime.date(2018,4,1)\n",
    "d_end = datetime.date(2018,6,30)\n",
    "submit_num_d = (d_end - d_sta).days + 1\n",
    "\n",
    "submit_date_index = []\n",
    "for i in range(0,submit_num_d):\n",
    "    date_i = d_sta + datetime.timedelta(i)\n",
    "    submit_date_index.append(date_i.strftime(\"%Y-%m-%d\"))"
   ]
  },
  {
   "cell_type": "code",
   "execution_count": 137,
   "metadata": {},
   "outputs": [],
   "source": [
    "lev_diff_mean_arr = {}\n",
    "lev_diff_mean_by_day_arr = {}\n",
    "lev_nov_mean_arr = {}\n",
    "track_pred_df = {}\n",
    "track_pred_df_shaped = {}\n",
    "track_pred_concat_df = pd.DataFrame()\n",
    "for abcd in abcd_list:\n",
    "    # matrix of cumulated lev_diff_mean\n",
    "    lev_diff_mean_arr[abcd] = np.array([lev_diff_mean[abcd].values for i in range(submit_num_d)])\n",
    "    lev_diff_mean_by_day_arr[abcd] = np.diag(range(submit_num_d)).dot(lev_diff_mean_arr[abcd])\n",
    "    # col binded matrix of lev_nov_mean (as start value)\n",
    "    lev_nov_mean_arr[abcd] = np.array([lev_nov_mean[abcd].values for i in range(submit_num_d)])\n",
    "    # pred\n",
    "    track_pred_df[abcd] = pd.DataFrame(\n",
    "        data=(lev_nov_mean_arr[abcd] + lev_diff_mean_by_day_arr[abcd]),\n",
    "        index=submit_date_index,\n",
    "        columns=lev_df[abcd].columns\n",
    "    )\n",
    "    track_pred_df[abcd]['date'] = submit_date_index\n",
    "    # reshape\n",
    "    track_pred_df_shaped[abcd] = pd.melt(track_pred_df[abcd], id_vars='date', value_name='pred')\n",
    "    track_pred_df_shaped[abcd]['kilo'] = track_pred_df_shaped[abcd]['kilo'].astype('int')\n",
    "    track_pred_df_shaped[abcd]['line_name'] = abcd.upper()\n",
    "    track_pred_concat_df = pd.concat([track_pred_concat_df, track_pred_df_shaped[abcd]], axis=0) "
   ]
  },
  {
   "cell_type": "code",
   "execution_count": 142,
   "metadata": {},
   "outputs": [],
   "source": [
    "submit = pd.merge(index_master, track_pred_concat_df, how='inner', on=['kilo', 'line_name', 'date'])\n",
    "submit['pred'] = submit['pred'].fillna(submit['pred'].mean())"
   ]
  },
  {
   "cell_type": "code",
   "execution_count": 144,
   "metadata": {},
   "outputs": [],
   "source": [
    "submit[['id', 'pred']].to_csv(os.path.join(output_dir, 'diff_mean_by_day_model_20181031.csv'), header=False, index=False)"
   ]
  },
  {
   "cell_type": "code",
   "execution_count": null,
   "metadata": {},
   "outputs": [],
   "source": []
  },
  {
   "cell_type": "markdown",
   "metadata": {},
   "source": [
    "# columtive mean of diff"
   ]
  },
  {
   "cell_type": "code",
   "execution_count": 21,
   "metadata": {},
   "outputs": [
    {
     "data": {
      "text/plain": [
       "<matplotlib.axes._subplots.AxesSubplot at 0x7fe60f3d21d0>"
      ]
     },
     "execution_count": 21,
     "metadata": {},
     "output_type": "execute_result"
    },
    {
     "data": {
      "image/png": "[encoded data removed]",
      "text/plain": [
       "<Figure size 432x288 with 1 Axes>"
      ]
     },
     "metadata": {
      "needs_background": "light"
     },
     "output_type": "display_data"
    }
   ],
   "source": [
    "track[abcd].query('kilo==19000').reset_index()['lev_l'].plot()"
   ]
  },
  {
   "cell_type": "code",
   "execution_count": 22,
   "metadata": {},
   "outputs": [
    {
     "data": {
      "text/plain": [
       "<matplotlib.axes._subplots.AxesSubplot at 0x7fe60ea2e9b0>"
      ]
     },
     "execution_count": 22,
     "metadata": {},
     "output_type": "execute_result"
    },
    {
     "data": {
      "image/png": "[encoded data removed]",
      "text/plain": [
       "<Figure size 432x288 with 1 Axes>"
      ]
     },
     "metadata": {
      "needs_background": "light"
     },
     "output_type": "display_data"
    }
   ],
   "source": [
    "lev_df[abcd].diff().iloc[:,9000].plot()"
   ]
  },
  {
   "cell_type": "code",
   "execution_count": null,
   "metadata": {},
   "outputs": [],
   "source": []
  }
 ],
 "metadata": {
  "kernelspec": {
   "display_name": "Python 3",
   "language": "python",
   "name": "python3"
  },
  "language_info": {
   "codemirror_mode": {
    "name": "ipython",
    "version": 3
   },
   "file_extension": ".py",
   "mimetype": "text/x-python",
   "name": "python",
   "nbconvert_exporter": "python",
   "pygments_lexer": "ipython3",
   "version": "3.7.0"
  }
 },
 "nbformat": 4,
 "nbformat_minor": 2
}
