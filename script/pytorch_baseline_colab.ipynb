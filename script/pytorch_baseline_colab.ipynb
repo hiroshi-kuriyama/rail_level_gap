{
  "nbformat": 4,
  "nbformat_minor": 0,
  "metadata": {
    "colab": {
      "name": "pytorch_baseline_colab.ipynb",
      "version": "0.3.2",
      "provenance": [],
      "collapsed_sections": []
    },
    "kernelspec": {
      "name": "python3",
      "display_name": "Python 3"
    },
    "accelerator": "GPU"
  },
  "cells": [
    {
      "metadata": {
        "id": "EsPz3-5hDZRM",
        "colab_type": "text"
      },
      "cell_type": "markdown",
      "source": [
        "# Apply CNN for timeseries data"
      ]
    },
    {
      "metadata": {
        "id": "RIBJfC3CIKEu",
        "colab_type": "code",
        "colab": {}
      },
      "cell_type": "code",
      "source": [
        "!pip install -U -q PyDrive\n",
        "\n",
        "from pydrive.auth import GoogleAuth\n",
        "from pydrive.drive import GoogleDrive\n",
        "from google.colab import auth\n",
        "from oauth2client.client import GoogleCredentials\n",
        "\n",
        "auth.authenticate_user()\n",
        "gauth = GoogleAuth()\n",
        "gauth.credentials = GoogleCredentials.get_application_default()\n",
        "drive = GoogleDrive(gauth)"
      ],
      "execution_count": 0,
      "outputs": []
    },
    {
      "metadata": {
        "id": "LdRtWi8eRQSp",
        "colab_type": "code",
        "outputId": "3f5e9f0a-9734-4264-efa8-5c26a15cecb8",
        "colab": {
          "base_uri": "https://localhost:8080/",
          "height": 68
        }
      },
      "cell_type": "code",
      "source": [
        "! mkdir input\n",
        "! mkdir script\n",
        "% cd /content/script"
      ],
      "execution_count": 0,
      "outputs": [
        {
          "output_type": "stream",
          "text": [
            "mkdir: cannot create directory ‘input’: File exists\n",
            "mkdir: cannot create directory ‘script’: File exists\n",
            "/content/script\n"
          ],
          "name": "stdout"
        }
      ]
    },
    {
      "metadata": {
        "id": "RD5rH0cYIJrl",
        "colab_type": "code",
        "outputId": "283549e0-56e6-4525-b488-e2c3acb7eab3",
        "colab": {
          "base_uri": "https://localhost:8080/",
          "height": 187
        }
      },
      "cell_type": "code",
      "source": [
        "# ブラウザでフォルダを表示するとURLのfolders以降がフォルダのIDになっている\n",
        "# https://drive.google.com/drive/folders/<ID>\n",
        "dir_id = \"14lAz7cXcGKSDLezU0B6dS0xp3mBqQYC9\"\n",
        "\n",
        "# フォルダ内にあるファイル名とファイルIDを表示する\n",
        "file_list = drive.ListFile({'q': \"'%s' in parents and trashed=false\" % dir_id}).GetList()\n",
        "for f in file_list:\n",
        "  print(\"name: \" + f[\"title\"] + \", id: \" + f[\"id\"])\n",
        "  file_id = f[\"id\"]\n",
        "  drive_file = drive.CreateFile({'id': file_id})\n",
        "  drive_file.GetContentFile(\"../input/\" + f[\"title\"])"
      ],
      "execution_count": 0,
      "outputs": [
        {
          "output_type": "stream",
          "text": [
            "name: track_D.csv, id: 1F1jshJfLG40Q4eePNwf256sadf9AeNpB\n",
            "name: track_C.csv, id: 1tEADCCm8Mf520KKl0rfl8SCX-Hc49PhE\n",
            "name: track_B.csv, id: 1TupxEDBcEU_Ox7Fbfiv5OX8kNJgMnZnH\n",
            "name: track_A.csv, id: 1VUUPu7oc0IyBoLpt-rp-D9huAOnazb70\n",
            "name: sample_submit.csv, id: 1XrqyvLtPDNzKa-pjRTfY6AIb4L1Eh5xw\n",
            "name: index_master.csv, id: 1QALjnJHMT1SPgOSG299haDDWOe-Rf7qw\n",
            "name: equipment_C.csv, id: 1KGmmL0psfK4yNrBTSwMQzztLt7OGbyDr\n",
            "name: equipment_D.csv, id: 1ZpBD6O8XLQCjmt42EMU-Ys_1pBaLjWlc\n",
            "name: equipment_B.csv, id: 198fkTzaulDBjh1u5Qc8gdRxe7Q6c6Azn\n",
            "name: equipment_A.csv, id: 158PqPn45vuA1ZMCXx4GjNONh_dTfxahi\n"
          ],
          "name": "stdout"
        }
      ]
    },
    {
      "metadata": {
        "id": "07WrGzjHIJL6",
        "colab_type": "code",
        "colab": {}
      },
      "cell_type": "code",
      "source": [
        "# # 上記の方法で調べたファイルのID\n",
        "# file_id = \"1F1jshJfLG40Q4eePNwf256sadf9AeNpB\"\n",
        "# drive_file = drive.CreateFile({'id': file_id})\n",
        "\n",
        "# # ファイルの取得\n",
        "# drive_file.GetContentFile(\"track_D.csv\")"
      ],
      "execution_count": 0,
      "outputs": []
    },
    {
      "metadata": {
        "id": "LVk2KdC-d7Io",
        "colab_type": "code",
        "outputId": "cfd811e8-4569-4048-c38c-98ed0e121cc6",
        "colab": {
          "base_uri": "https://localhost:8080/",
          "height": 102
        }
      },
      "cell_type": "code",
      "source": [
        "!pip3 install torch torchvision"
      ],
      "execution_count": 0,
      "outputs": [
        {
          "output_type": "stream",
          "text": [
            "Requirement already satisfied: torch in /usr/local/lib/python3.6/dist-packages (1.0.0)\n",
            "Requirement already satisfied: torchvision in /usr/local/lib/python3.6/dist-packages (0.2.1)\n",
            "Requirement already satisfied: numpy in /usr/local/lib/python3.6/dist-packages (from torchvision) (1.14.6)\n",
            "Requirement already satisfied: six in /usr/local/lib/python3.6/dist-packages (from torchvision) (1.11.0)\n",
            "Requirement already satisfied: pillow>=4.1.1 in /usr/local/lib/python3.6/dist-packages (from torchvision) (5.3.0)\n"
          ],
          "name": "stdout"
        }
      ]
    },
    {
      "metadata": {
        "id": "zn8-GZhDDZRO",
        "colab_type": "code",
        "colab": {}
      },
      "cell_type": "code",
      "source": [
        "import os\n",
        "import pickle\n",
        "import numpy as np\n",
        "import pandas as pd"
      ],
      "execution_count": 0,
      "outputs": []
    },
    {
      "metadata": {
        "id": "bP9FPMqaDZRS",
        "colab_type": "code",
        "colab": {}
      },
      "cell_type": "code",
      "source": [
        "input_dir = '../input/'\n",
        "working_dir = '../working/'\n",
        "output_dir = '../output/'"
      ],
      "execution_count": 0,
      "outputs": []
    },
    {
      "metadata": {
        "id": "Cs9zO4RIDZRW",
        "colab_type": "text"
      },
      "cell_type": "markdown",
      "source": [
        "## Read data"
      ]
    },
    {
      "metadata": {
        "id": "m9juUFjjDZRX",
        "colab_type": "code",
        "colab": {}
      },
      "cell_type": "code",
      "source": [
        "sleeper_type_dict = {\n",
        "    1: 'pc',\n",
        "    2: 'wooden',\n",
        "    3: 'junction',\n",
        "    4: 'short',\n",
        "    5: 'synthetic',\n",
        "    6: 'synth_junc',\n",
        "    7: 'symth_short',\n",
        "    8: 'other'\n",
        "}"
      ],
      "execution_count": 0,
      "outputs": []
    },
    {
      "metadata": {
        "id": "Yt8uLKDaLLme",
        "colab_type": "code",
        "outputId": "b01d7e51-c748-4120-c630-f9afc4741fd8",
        "colab": {
          "base_uri": "https://localhost:8080/",
          "height": 34
        }
      },
      "cell_type": "code",
      "source": [
        "line_name = 'd'\n",
        "track_df = pd.read_csv('track_{}.csv'.format(line_name.upper()))\n",
        "col_names_track = ['date', 'kilo', 'lev_l', 'lev_r', 'cur_l', 'cur_r', 'cant', 'width', 'speed']\n",
        "track_df.columns = col_names_track\n",
        "track_df['date'] = pd.to_datetime(track_df['date'])\n",
        "track_df['kilo'] = track_df['kilo'].astype('str')\n",
        "print('track_{line_name} shape: {shape}'.format(line_name=line_name.upper(), shape=track_df.shape))\n",
        "track = track_df"
      ],
      "execution_count": 0,
      "outputs": [
        {
          "output_type": "stream",
          "text": [
            "track_D shape: (5601687, 9)\n"
          ],
          "name": "stdout"
        }
      ]
    },
    {
      "metadata": {
        "id": "spZEAdEEDZRZ",
        "colab_type": "code",
        "colab": {}
      },
      "cell_type": "code",
      "source": [
        "def read_track(line_name='a'):\n",
        "    track_df = pd.read_csv(os.path.join(input_dir, 'track_{}.csv'.format(line_name.upper())))\n",
        "    col_names_track = ['date', 'kilo', 'lev_l', 'lev_r', 'cur_l', 'cur_r', 'cant', 'width', 'speed']\n",
        "    track_df.columns = col_names_track\n",
        "    track_df['date'] = pd.to_datetime(track_df['date'])\n",
        "    track_df['kilo'] = track_df['kilo'].astype('str')\n",
        "    print('track_{line_name} shape: {shape}'.format(line_name=line_name.upper(), shape=track_df.shape))\n",
        "    return track_df"
      ],
      "execution_count": 0,
      "outputs": []
    },
    {
      "metadata": {
        "id": "nOX1tNQZDZRc",
        "colab_type": "code",
        "colab": {}
      },
      "cell_type": "code",
      "source": [
        "def read_equ(line_name='a'):\n",
        "    equ_df = pd.read_csv(os.path.join(input_dir, 'equipment_{}.csv'.format(line_name.upper())))\n",
        "    col_names_equ = ['kilo', 'is_ballast', 'is_long', 'sleeper_type', 'is_bridge', 'is_crossing', 'gross_ton', 'radius', 'is_unreliable']\n",
        "    equ_df.columns = col_names_equ\n",
        "    equ_df['kilo'] = equ_df['kilo'].astype('str')\n",
        "    equ_df['sleeper_type'] = equ_df['sleeper_type'].replace(sleeper_type_dict).astype('category')\n",
        "    print('equ_{line_name} shape: {shape}'.format(line_name=line_name.upper(), shape=equ_df.shape))\n",
        "    return equ_df"
      ],
      "execution_count": 0,
      "outputs": []
    },
    {
      "metadata": {
        "id": "_5Q84gECDZRf",
        "colab_type": "code",
        "colab": {}
      },
      "cell_type": "code",
      "source": [
        "# degrade data types to save memory\n",
        "def degrade_dtypes(df):\n",
        "    for col in df.columns:\n",
        "        if df[col].dtype=='int64':\n",
        "            df[col] = df[col].astype('int32')\n",
        "        if df[col].dtype=='float64':\n",
        "            df[col] = df[col].astype('float32')\n",
        "    return df"
      ],
      "execution_count": 0,
      "outputs": []
    },
    {
      "metadata": {
        "id": "jOLq0GglDZRi",
        "colab_type": "code",
        "colab": {}
      },
      "cell_type": "code",
      "source": [
        "abcd = 'd'"
      ],
      "execution_count": 0,
      "outputs": []
    },
    {
      "metadata": {
        "id": "Nv7h4Z9BDZRl",
        "colab_type": "code",
        "outputId": "f89c34f7-8ab1-47f1-c7a9-ed8908a9a728",
        "colab": {
          "base_uri": "https://localhost:8080/",
          "height": 51
        }
      },
      "cell_type": "code",
      "source": [
        "track = read_track(abcd)\n",
        "track = degrade_dtypes(track)\n",
        "equ = read_equ(abcd)\n",
        "equ = degrade_dtypes(equ)"
      ],
      "execution_count": 0,
      "outputs": [
        {
          "output_type": "stream",
          "text": [
            "track_D shape: (5601687, 9)\n",
            "equ_D shape: (15691, 9)\n"
          ],
          "name": "stdout"
        }
      ]
    },
    {
      "metadata": {
        "id": "LFGHRIwJDZRr",
        "colab_type": "code",
        "colab": {}
      },
      "cell_type": "code",
      "source": [
        "# sample_submit = pd.read_csv(os.path.join(input_dir, 'sample_submit.csv'), header=None)\n",
        "index_master = pd.read_csv(os.path.join(input_dir, 'index_master.csv'))\n",
        "index_master.columns = ['id', 'line_name', 'date', 'kilo']\n",
        "index_master['date'] = pd.to_datetime(index_master['date'])\n",
        "index_master['kilo'] = index_master['kilo'].astype('str')"
      ],
      "execution_count": 0,
      "outputs": []
    },
    {
      "metadata": {
        "id": "B-B15io_DZRt",
        "colab_type": "text"
      },
      "cell_type": "markdown",
      "source": [
        "## とりあえず、21×21で切り取る。一行分作成。\n",
        "- やはり目的変数はdiffにすべき（補修の影響が入ってしまうから）\n",
        "- 横サイズは30くらいでいいのでは？　縦はこれから考える。\n",
        "- まず、lev_lで異常値を除き計測誤差を除外、lev_l_diffで異常値を除いて補修時のデータを除外\n",
        "- 誤差の最小値と最大値を使って、値を0~1に基準化\n",
        "- 済）欠損値は0埋め\n",
        "- 済）目的変数が欠損値の場合は学習させない（予測もしない）"
      ]
    },
    {
      "metadata": {
        "id": "cOAdKKEFDFMQ",
        "colab_type": "text"
      },
      "cell_type": "markdown",
      "source": [
        ""
      ]
    },
    {
      "metadata": {
        "id": "WMqP0pLtDZRx",
        "colab_type": "code",
        "colab": {}
      },
      "cell_type": "code",
      "source": [
        "track = track.query('date < \"2017-05-01\"')"
      ],
      "execution_count": 0,
      "outputs": []
    },
    {
      "metadata": {
        "id": "JcksRWHu6ZSW",
        "colab_type": "code",
        "colab": {}
      },
      "cell_type": "code",
      "source": [
        "def isnot_outlier(track_s, threshold=2.57):\n",
        "  track_s_stndrzd = (track_s - track_s.mean()) / track_s.std()\n",
        "  isnot_outlier_s = track_s_stndrzd.abs() < threshold\n",
        "  return isnot_outlier_s"
      ],
      "execution_count": 0,
      "outputs": []
    },
    {
      "metadata": {
        "id": "y6N3de-XqR19",
        "colab_type": "code",
        "colab": {}
      },
      "cell_type": "code",
      "source": [
        "# 1. drop outliers in lev_l_diff\n",
        "track_pv = track.pivot(index='date', columns='kilo', values='lev_l')\n",
        "track_pv_diff = track_pv.diff()\n",
        "track_diff = pd.melt(track_pv_diff.reset_index(), id_vars='date', value_name='lev_l_diff')\n",
        "track_diff['isnot_outlier_diff'] = isnot_outlier(track_diff['lev_l_diff'])\n",
        "track = track.merge(track_diff, how='left', on=['date', 'kilo'])\n",
        "track['lev_l'] *= track['isnot_outlier_diff']\n",
        "track['lev_l'] = track['lev_l'].replace(0, np.nan)\n",
        "track['lev_l_diff'] *= track['isnot_outlier_diff']\n",
        "track['lev_l_diff'] = track['lev_l_diff'].replace(0, np.nan)\n",
        "\n",
        "\n",
        "# 2. drop outliers in lev_l\n",
        "track['isnot_outlier'] = isnot_outlier(track['lev_l'])\n",
        "track['lev_l'] = track['lev_l'] * track['isnot_outlier']\n",
        "track['lev_l'] = track['lev_l'].replace(0.0, np.nan)\n",
        "track['lev_l_diff'] = track['lev_l_diff'] * track['isnot_outlier']\n",
        "track['lev_l_diff'] = track['lev_l_diff'].replace(0.0, np.nan)"
      ],
      "execution_count": 0,
      "outputs": []
    },
    {
      "metadata": {
        "id": "KBFCSpv4DZR4",
        "colab_type": "code",
        "colab": {}
      },
      "cell_type": "code",
      "source": [
        "# normalize to max==1 and min=0\n",
        "track_pv_diff = track.pivot(index='date', columns='kilo', values='lev_l_diff')\n",
        "track_pv_diff = (track_pv_diff - track['lev_l_diff'].min()) / (track['lev_l_diff'].max() - track['lev_l_diff'].min())"
      ],
      "execution_count": 0,
      "outputs": []
    },
    {
      "metadata": {
        "id": "Afm-VQqWDZRv",
        "colab_type": "code",
        "colab": {}
      },
      "cell_type": "code",
      "source": [
        "side_wid = 7\n",
        "side_len = 21 #must be odd\n",
        "if side_len%2==0:\n",
        "  raise NameError('side_len must be odd.')\n",
        "side_len_half = int((side_len-1)/2)"
      ],
      "execution_count": 0,
      "outputs": []
    },
    {
      "metadata": {
        "id": "lyFC5ptzDZSA",
        "colab_type": "code",
        "colab": {}
      },
      "cell_type": "code",
      "source": [
        "track_pv_diff_tgt = track_pv_diff.iloc[side_wid:, side_len_half:-side_len_half]"
      ],
      "execution_count": 0,
      "outputs": []
    },
    {
      "metadata": {
        "id": "2J_a0x6kDZSD",
        "colab_type": "code",
        "colab": {}
      },
      "cell_type": "code",
      "source": [
        "div_data = np.empty((track_pv_diff_tgt.size, 1, side_wid, side_len), dtype='float32')\n",
        "div_label = np.empty((track_pv_diff_tgt.size), dtype='float32')\n",
        "for row_num in range(track_pv_diff_tgt.shape[0]):\n",
        "    for col_num in range(track_pv_diff_tgt.shape[1]):\n",
        "        div_tmp = track_pv_diff.values[row_num:row_num+side_wid, col_num:col_num+side_len]\n",
        "        div_data[row_num*track_pv_diff_tgt.shape[1]+col_num] = div_tmp.reshape(1, side_wid, side_len)\n",
        "        div_label[row_num*track_pv_diff_tgt.shape[1]+col_num] = track_pv_diff_tgt.iloc[row_num, col_num]"
      ],
      "execution_count": 0,
      "outputs": []
    },
    {
      "metadata": {
        "id": "6utjKK_1SlNr",
        "colab_type": "code",
        "colab": {}
      },
      "cell_type": "code",
      "source": [
        "# process NA\n",
        "# data: fill na by 0\n",
        "div_data[np.isnan(div_data)] = 0\n",
        "# data-label set: if the label is na, drop the set.\n",
        "div_data = div_data[~np.isnan(div_label)]\n",
        "div_label = div_label[~np.isnan(div_label)]"
      ],
      "execution_count": 0,
      "outputs": []
    },
    {
      "metadata": {
        "id": "Of6ssLNMDZSI",
        "colab_type": "code",
        "colab": {}
      },
      "cell_type": "code",
      "source": [
        "import torch\n",
        "import torch.nn as nn\n",
        "import torch.nn.functional as F\n",
        "import torch.optim as optim\n",
        "import torch.utils.data as data\n",
        "from sklearn import model_selection"
      ],
      "execution_count": 0,
      "outputs": []
    },
    {
      "metadata": {
        "id": "JgrNEEcRDZSN",
        "colab_type": "code",
        "outputId": "d63783fe-de6f-4e73-e4a8-055113a4d2ec",
        "colab": {
          "base_uri": "https://localhost:8080/",
          "height": 34
        }
      },
      "cell_type": "code",
      "source": [
        "device = torch.device(\"cuda\" if torch.cuda.is_available() else \"cpu\")\n",
        "print(\"device\", device)\n",
        "\n",
        "torch.manual_seed(0)\n",
        "\n",
        "batch_size = 100\n",
        "num_classes = 1\n",
        "epochs = 4"
      ],
      "execution_count": 0,
      "outputs": [
        {
          "output_type": "stream",
          "text": [
            "device cuda\n"
          ],
          "name": "stdout"
        }
      ]
    },
    {
      "metadata": {
        "id": "3GmqbHNfDZSS",
        "colab_type": "code",
        "colab": {}
      },
      "cell_type": "code",
      "source": [
        "x_train, x_test, y_train, y_test = model_selection.train_test_split(div_data, div_label, test_size=1/7, random_state=0)\n",
        "\n",
        "ds_train = data.TensorDataset(torch.from_numpy(x_train), torch.from_numpy(y_train))\n",
        "ds_test  = data.TensorDataset(torch.from_numpy(x_test), torch.from_numpy(y_test))"
      ],
      "execution_count": 0,
      "outputs": []
    },
    {
      "metadata": {
        "id": "eI9Ivs1LDZSV",
        "colab_type": "code",
        "colab": {}
      },
      "cell_type": "code",
      "source": [
        "dataloader_train = data.DataLoader(dataset=ds_train, batch_size=batch_size, shuffle=True)\n",
        "dataloader_test = data.DataLoader(dataset=ds_test, batch_size=batch_size, shuffle=False)"
      ],
      "execution_count": 0,
      "outputs": []
    },
    {
      "metadata": {
        "id": "zVXJ9Hq-DZSX",
        "colab_type": "code",
        "colab": {}
      },
      "cell_type": "code",
      "source": [
        "class CNNModel (nn.Module):\n",
        "    def __init__(self):\n",
        "        super(CNNModel, self).__init__()\n",
        " \n",
        "        self.conv1 = nn.Conv2d(1, 32, 3, padding=1)\n",
        "        self.conv2 = nn.Conv2d(32, 64, 3, padding=1)\n",
        " \n",
        "        self.dropout1 = nn.Dropout2d(0.25)\n",
        "        self.dropout2 = nn.Dropout2d(0.5)\n",
        " \n",
        "        self.fc1 = nn.Linear(64*3*10, 128)\n",
        "        self.fc2 = nn.Linear(128, num_classes)\n",
        " \n",
        " \n",
        "    def forward(self, x):\n",
        "        x = F.relu(self.conv1(x))\n",
        "        x = F.relu(self.conv2(x))\n",
        "        x = F.max_pool2d(x, (2, 2))\n",
        "        x = self.dropout1(x)\n",
        "        \n",
        "        x = x.view(-1, 64*3*10)\n",
        "\n",
        "        x = F.relu(self.fc1(x))\n",
        "        x = self.dropout2(x)\n",
        "        return F.relu(self.fc2(x))"
      ],
      "execution_count": 0,
      "outputs": []
    },
    {
      "metadata": {
        "id": "I56PsiPaDZSa",
        "colab_type": "code",
        "colab": {}
      },
      "cell_type": "code",
      "source": [
        "model = CNNModel().to(device)"
      ],
      "execution_count": 0,
      "outputs": []
    },
    {
      "metadata": {
        "id": "vFpa8_MRDZSd",
        "colab_type": "code",
        "outputId": "69c98d11-0498-4c83-eb8d-5e03958d14b4",
        "colab": {
          "base_uri": "https://localhost:8080/",
          "height": 153
        }
      },
      "cell_type": "code",
      "source": [
        "print(model)"
      ],
      "execution_count": 0,
      "outputs": [
        {
          "output_type": "stream",
          "text": [
            "CNNModel(\n",
            "  (conv1): Conv2d(1, 32, kernel_size=(3, 3), stride=(1, 1), padding=(1, 1))\n",
            "  (conv2): Conv2d(32, 64, kernel_size=(3, 3), stride=(1, 1), padding=(1, 1))\n",
            "  (dropout1): Dropout2d(p=0.25)\n",
            "  (dropout2): Dropout2d(p=0.5)\n",
            "  (fc1): Linear(in_features=1920, out_features=128, bias=True)\n",
            "  (fc2): Linear(in_features=128, out_features=1, bias=True)\n",
            ")\n"
          ],
          "name": "stdout"
        }
      ]
    },
    {
      "metadata": {
        "id": "pEKxQW2gDZSg",
        "colab_type": "code",
        "colab": {}
      },
      "cell_type": "code",
      "source": [
        "criterion = nn.L1Loss()\n",
        "optimizer = optim.SGD(model.parameters(), lr=0.01, momentum=0.5)"
      ],
      "execution_count": 0,
      "outputs": []
    },
    {
      "metadata": {
        "id": "SoT5T1AqDZSj",
        "colab_type": "code",
        "colab": {}
      },
      "cell_type": "code",
      "source": [
        "global_step = 0\n",
        " \n",
        "def train(epoch):\n",
        "    model.train()\n",
        "    steps = len(ds_train)//batch_size\n",
        "    for step, (images, labels) in enumerate(dataloader_train, 1):\n",
        "        global global_step\n",
        "        global_step += 1\n",
        "        images, labels = images.to(device), labels.to(device)\n",
        " \n",
        "        optimizer.zero_grad()\n",
        "        outputs = model(images)\n",
        "        loss = criterion(outputs, labels)\n",
        "        loss.backward()\n",
        "        optimizer.step()\n",
        " \n",
        "    if epoch % 2 == 0:\n",
        "        print ('Epoch [%d/%d], Step [%d/%d], Loss: %.4f' % (epoch, epochs, step, steps, loss.item()))"
      ],
      "execution_count": 0,
      "outputs": []
    },
    {
      "metadata": {
        "id": "JLf1rhM6DZSm",
        "colab_type": "code",
        "colab": {}
      },
      "cell_type": "code",
      "source": [
        "def eval(epoch):\n",
        "    model.eval()\n",
        "    abs_err_sum = 0\n",
        "    total = 0\n",
        "    with torch.no_grad():\n",
        "        for (images, labels) in dataloader_test:\n",
        "            images, labels = images.to(device), labels.to(device)\n",
        " \n",
        "            outputs = model(images)\n",
        "            outputs = outputs.reshape(-1)\n",
        "            abs_err_sum += abs(outputs - labels).sum()\n",
        "            total += labels.size(0)\n",
        "    print(\"Val Acc : %.4f\" % (abs_err_sum/total))"
      ],
      "execution_count": 0,
      "outputs": []
    },
    {
      "metadata": {
        "id": "AWw-9cueDZSo",
        "colab_type": "code",
        "outputId": "a4a802e9-ed19-477e-81c5-6f3d0e3aafd7",
        "colab": {
          "base_uri": "https://localhost:8080/",
          "height": 119
        }
      },
      "cell_type": "code",
      "source": [
        "for epoch in range(1, epochs+1):\n",
        "    train(epoch)#, writer)\n",
        "    eval(epoch)#, writer)"
      ],
      "execution_count": 0,
      "outputs": [
        {
          "output_type": "stream",
          "text": [
            "Val Acc : 0.0780\n",
            "Epoch [2/4], Step [19484/19483], Loss: 0.0807\n",
            "Val Acc : 0.0780\n",
            "Val Acc : 0.0780\n",
            "Epoch [4/4], Step [19484/19483], Loss: 0.0881\n",
            "Val Acc : 0.0780\n"
          ],
          "name": "stdout"
        }
      ]
    },
    {
      "metadata": {
        "id": "D4Ory9NPTt5B",
        "colab_type": "code",
        "colab": {}
      },
      "cell_type": "code",
      "source": [
        ""
      ],
      "execution_count": 0,
      "outputs": []
    }
  ]
}